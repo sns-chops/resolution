{
 "cells": [
  {
   "cell_type": "code",
   "execution_count": 3,
   "metadata": {},
   "outputs": [
    {
     "name": "stdout",
     "output_type": "stream",
     "text": [
      "/SNS/users/lj7/dv/sns-chops/resolution/ARCS\n"
     ]
    }
   ],
   "source": [
    "cd /SNS/users/lj7/dv/sns-chops/resolution/ARCS/"
   ]
  },
  {
   "cell_type": "code",
   "execution_count": 4,
   "metadata": {},
   "outputs": [],
   "source": [
    "import os, sys, numpy as np"
   ]
  },
  {
   "cell_type": "code",
   "execution_count": 5,
   "metadata": {},
   "outputs": [],
   "source": [
    "from mcni.utils import conversion as C"
   ]
  },
  {
   "cell_type": "code",
   "execution_count": 6,
   "metadata": {},
   "outputs": [],
   "source": [
    "%matplotlib notebook"
   ]
  },
  {
   "cell_type": "markdown",
   "metadata": {},
   "source": [
    "# Inspect "
   ]
  },
  {
   "cell_type": "code",
   "execution_count": 7,
   "metadata": {},
   "outputs": [],
   "source": [
    "import sys, os\n",
    "sys.path.insert(0, os.path.abspath('./PyChop/'))"
   ]
  },
  {
   "cell_type": "code",
   "execution_count": 8,
   "metadata": {},
   "outputs": [
    {
     "data": {
      "text/plain": [
       "<module 'Vdata2018' from '/SNS/users/lj7/dv/sns-chops/resolution/ARCS/PyChop/Vdata2018.pyc'>"
      ]
     },
     "execution_count": 8,
     "metadata": {},
     "output_type": "execute_result"
    }
   ],
   "source": [
    "import Vdata2018\n",
    "reload(Vdata2018)"
   ]
  },
  {
   "cell_type": "code",
   "execution_count": 9,
   "metadata": {},
   "outputs": [
    {
     "name": "stdout",
     "output_type": "stream",
     "text": [
      "reading data. please wait...\n",
      "  done\n"
     ]
    }
   ],
   "source": [
    "expdata = Vdata2018.ExpData(os.path.join(Vdata2018.datadir, './V_Cali_Int_Res_FC2_2018_v2.dat'))"
   ]
  },
  {
   "cell_type": "code",
   "execution_count": 10,
   "metadata": {},
   "outputs": [],
   "source": [
    "Ei = 200.\n",
    "condition = np.isclose(expdata.vdata.Energy, Ei)"
   ]
  },
  {
   "cell_type": "code",
   "execution_count": 11,
   "metadata": {},
   "outputs": [
    {
     "data": {
      "text/plain": [
       "16     108048.0\n",
       "35     108067.0\n",
       "40     108072.0\n",
       "72     108104.0\n",
       "79     108111.0\n",
       "109    108141.0\n",
       "116    108148.0\n",
       "140    108172.0\n",
       "149    108181.0\n",
       "177    107986.0\n",
       "201    108010.0\n",
       "220    108029.0\n",
       "Name: RunNumber, dtype: float64"
      ]
     },
     "execution_count": 11,
     "metadata": {},
     "output_type": "execute_result"
    }
   ],
   "source": [
    "expdata.vdata.RunNumber[condition]"
   ]
  },
  {
   "cell_type": "code",
   "execution_count": 12,
   "metadata": {},
   "outputs": [
    {
     "data": {
      "text/plain": [
       "16     2.0\n",
       "35     2.0\n",
       "40     2.0\n",
       "72     2.0\n",
       "79     2.0\n",
       "109    2.0\n",
       "116    2.0\n",
       "140    2.0\n",
       "149    2.0\n",
       "177    2.0\n",
       "201    2.0\n",
       "220    2.0\n",
       "Name: Chopper, dtype: float64"
      ]
     },
     "execution_count": 12,
     "metadata": {},
     "output_type": "execute_result"
    }
   ],
   "source": [
    "expdata.vdata.Chopper[condition]"
   ]
  },
  {
   "cell_type": "code",
   "execution_count": 13,
   "metadata": {},
   "outputs": [
    {
     "data": {
      "text/plain": [
       "16     180.0\n",
       "35     240.0\n",
       "40      60.0\n",
       "72     300.0\n",
       "79     360.0\n",
       "109    420.0\n",
       "116    480.0\n",
       "140    540.0\n",
       "149    600.0\n",
       "177     60.0\n",
       "201     60.0\n",
       "220    120.0\n",
       "Name: Chopper2, dtype: float64"
      ]
     },
     "execution_count": 13,
     "metadata": {},
     "output_type": "execute_result"
    }
   ],
   "source": [
    "expdata.vdata.Chopper2[condition]"
   ]
  },
  {
   "cell_type": "code",
   "execution_count": 14,
   "metadata": {},
   "outputs": [
    {
     "data": {
      "text/plain": [
       "16     150.0\n",
       "35     150.0\n",
       "40     150.0\n",
       "72     150.0\n",
       "79     150.0\n",
       "109    150.0\n",
       "116    150.0\n",
       "140    150.0\n",
       "149    150.0\n",
       "177    150.0\n",
       "201    150.0\n",
       "220    150.0\n",
       "Name: Chopper3, dtype: float64"
      ]
     },
     "execution_count": 14,
     "metadata": {},
     "output_type": "execute_result"
    }
   ],
   "source": [
    "expdata.vdata.Chopper3[condition]"
   ]
  },
  {
   "cell_type": "code",
   "execution_count": null,
   "metadata": {},
   "outputs": [],
   "source": []
  }
 ],
 "metadata": {
  "kernelspec": {
   "display_name": "mcvine-unstable at jnrk-sns-analysis",
   "language": "python",
   "name": "jnrk-analysis-mcvine-unstable"
  },
  "language_info": {
   "codemirror_mode": {
    "name": "ipython",
    "version": 2
   },
   "file_extension": ".py",
   "mimetype": "text/x-python",
   "name": "python",
   "nbconvert_exporter": "python",
   "pygments_lexer": "ipython2",
   "version": "2.7.12"
  },
  "toc": {
   "base_numbering": 1,
   "nav_menu": {},
   "number_sections": true,
   "sideBar": true,
   "skip_h1_title": false,
   "title_cell": "Table of Contents",
   "title_sidebar": "Contents",
   "toc_cell": false,
   "toc_position": {},
   "toc_section_display": true,
   "toc_window_display": true
  }
 },
 "nbformat": 4,
 "nbformat_minor": 1
}
