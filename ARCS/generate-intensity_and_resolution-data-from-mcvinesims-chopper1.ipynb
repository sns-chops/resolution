{
 "cells": [
  {
   "cell_type": "code",
   "execution_count": 1,
   "metadata": {},
   "outputs": [
    {
     "name": "stdout",
     "output_type": "stream",
     "text": [
      "/SNS/users/lj7/dv/sns-chops/resolution/ARCS\n"
     ]
    }
   ],
   "source": [
    "cd /SNS/users/lj7/dv/sns-chops/resolution/ARCS/"
   ]
  },
  {
   "cell_type": "code",
   "execution_count": 2,
   "metadata": {},
   "outputs": [
    {
     "name": "stderr",
     "output_type": "stream",
     "text": [
      "/SNS/software/miniconda2/envs/mcvine-unstable/lib/python2.7/site-packages/h5py/__init__.py:36: FutureWarning: Conversion of the second argument of issubdtype from `float` to `np.floating` is deprecated. In future, it will be treated as `np.float64 == np.dtype(float).type`.\n",
      "  from ._conv import register_converters as _register_converters\n"
     ]
    }
   ],
   "source": [
    "import histogram.hdf as hh, numpy as np, os, glob"
   ]
  },
  {
   "cell_type": "code",
   "execution_count": 3,
   "metadata": {},
   "outputs": [],
   "source": [
    "%matplotlib notebook"
   ]
  },
  {
   "cell_type": "code",
   "execution_count": 6,
   "metadata": {},
   "outputs": [
    {
     "name": "stdout",
     "output_type": "stream",
     "text": [
      "\u001b[0m\u001b[01;34mEi_10\u001b[0m/   \u001b[01;34mEi_1200_FC1\u001b[0m/        \u001b[01;34mEi_200\u001b[0m/  \u001b[01;34mEi_500_FC1\u001b[0m/          \u001b[01;34mEi_800_FC1\u001b[0m/\r\n",
      "\u001b[01;34mEi_100\u001b[0m/  \u001b[01;34mEi_1200_FC1_Qtest\u001b[0m/  \u001b[01;34mEi_400\u001b[0m/  \u001b[01;34mEi_500_FC1-HighRes\u001b[0m/\r\n"
     ]
    }
   ],
   "source": [
    "ls mcvine/"
   ]
  },
  {
   "cell_type": "code",
   "execution_count": 8,
   "metadata": {},
   "outputs": [
    {
     "name": "stdout",
     "output_type": "stream",
     "text": [
      "\u001b[0m\u001b[01;34mbeam-FC_700-1.5-SMI_120.0\u001b[0m/  \u001b[01;34mresolution-FC_700-1.5-SMI_120.0\u001b[0m/\r\n",
      "\u001b[01;34mbeam-FC_700-1.5-SMI_180.0\u001b[0m/  \u001b[01;34mresolution-FC_700-1.5-SMI_180.0\u001b[0m/\r\n",
      "\u001b[01;34mbeam-FC_700-1.5-SMI_240.0\u001b[0m/  \u001b[01;34mresolution-FC_700-1.5-SMI_240.0\u001b[0m/\r\n",
      "\u001b[01;34mbeam-FC_700-1.5-SMI_300.0\u001b[0m/  \u001b[01;34mresolution-FC_700-1.5-SMI_300.0\u001b[0m/\r\n",
      "\u001b[01;34mbeam-FC_700-1.5-SMI_360.0\u001b[0m/  \u001b[01;34mresolution-FC_700-1.5-SMI_360.0\u001b[0m/\r\n",
      "\u001b[01;34mbeam-FC_700-1.5-SMI_420.0\u001b[0m/  \u001b[01;34mresolution-FC_700-1.5-SMI_420.0\u001b[0m/\r\n",
      "\u001b[01;34mbeam-FC_700-1.5-SMI_480.0\u001b[0m/  \u001b[01;34mresolution-FC_700-1.5-SMI_480.0\u001b[0m/\r\n",
      "\u001b[01;34mbeam-FC_700-1.5-SMI_540.0\u001b[0m/\r\n"
     ]
    }
   ],
   "source": [
    "ls mcvine/Ei_800_FC1/"
   ]
  },
  {
   "cell_type": "code",
   "execution_count": 12,
   "metadata": {},
   "outputs": [
    {
     "name": "stdout",
     "output_type": "stream",
     "text": [
      "ie-Q_7.0-E_0.0.h5  iqe-Q_7.0-E_0.0.h5\r\n"
     ]
    }
   ],
   "source": [
    "ls mcvine/Ei_800_FC1/resolution-FC_700-1.5-SMI_120.0/out/"
   ]
  },
  {
   "cell_type": "code",
   "execution_count": 7,
   "metadata": {},
   "outputs": [],
   "source": [
    "Ei_list = 500., 800., 1200."
   ]
  },
  {
   "cell_type": "code",
   "execution_count": 5,
   "metadata": {},
   "outputs": [],
   "source": [
    "freqs = np.arange(60., 601., 60)"
   ]
  },
  {
   "cell_type": "code",
   "execution_count": 9,
   "metadata": {},
   "outputs": [],
   "source": [
    "fc = \"700-1.5-SMI\""
   ]
  },
  {
   "cell_type": "code",
   "execution_count": null,
   "metadata": {},
   "outputs": [],
   "source": []
  },
  {
   "cell_type": "code",
   "execution_count": 19,
   "metadata": {},
   "outputs": [
    {
     "name": "stdout",
     "output_type": "stream",
     "text": [
      "CPU times: user 5.11 s, sys: 53.7 ms, total: 5.17 s\n",
      "Wall time: 8.7 s\n"
     ]
    }
   ],
   "source": [
    "%%time\n",
    "table = []\n",
    "for Ei in Ei_list:\n",
    "    for freq in freqs:\n",
    "        # FWHM\n",
    "        dir = 'mcvine/Ei_%s_FC1/resolution-FC_%s_%s' % (int(Ei), fc, freq)\n",
    "        if not os.path.exists(dir): continue\n",
    "        files = glob.glob(os.path.join(dir, 'out/ie-Q_*-E_0.0.h5'))\n",
    "        if not files: continue\n",
    "        fn = files[0]\n",
    "        h = hh.load(fn)\n",
    "        Is = h.I\n",
    "        Es = h.E\n",
    "        maxI = np.max(Is)\n",
    "        upper = Es[Is > maxI/2.]\n",
    "        FWHM = upper[-1] - upper[0]\n",
    "        # counts\n",
    "        dir = 'mcvine/Ei_%s_FC1/beam-FC_%s_%s' % (int(Ei), fc, freq)\n",
    "        fn = os.path.join(dir, 'out/ienergy.h5')\n",
    "        h = hh.load(fn)\n",
    "        counts = h.I.sum()\n",
    "        record = Ei, freq, FWHM, counts\n",
    "        table.append(record)\n",
    "        continue"
   ]
  },
  {
   "cell_type": "code",
   "execution_count": 20,
   "metadata": {},
   "outputs": [],
   "source": [
    "table = np.array(table)"
   ]
  },
  {
   "cell_type": "code",
   "execution_count": 21,
   "metadata": {},
   "outputs": [],
   "source": [
    "np.savetxt('Chopper1-mcvine-FWHM-counts.dat', table)"
   ]
  },
  {
   "cell_type": "code",
   "execution_count": 22,
   "metadata": {},
   "outputs": [],
   "source": [
    "more ./Chopper1-mcvine-FWHM-counts.dat"
   ]
  },
  {
   "cell_type": "code",
   "execution_count": null,
   "metadata": {},
   "outputs": [],
   "source": []
  }
 ],
 "metadata": {
  "kernelspec": {
   "display_name": "mcvine-unstable at jnrk-sns-analysis",
   "language": "python",
   "name": "jnrk-analysis-mcvine-unstable"
  },
  "language_info": {
   "codemirror_mode": {
    "name": "ipython",
    "version": 2
   },
   "file_extension": ".py",
   "mimetype": "text/x-python",
   "name": "python",
   "nbconvert_exporter": "python",
   "pygments_lexer": "ipython2",
   "version": "2.7.12"
  },
  "toc": {
   "base_numbering": 1,
   "nav_menu": {},
   "number_sections": true,
   "sideBar": true,
   "skip_h1_title": false,
   "title_cell": "Table of Contents",
   "title_sidebar": "Contents",
   "toc_cell": false,
   "toc_position": {},
   "toc_section_display": true,
   "toc_window_display": false
  }
 },
 "nbformat": 4,
 "nbformat_minor": 1
}
