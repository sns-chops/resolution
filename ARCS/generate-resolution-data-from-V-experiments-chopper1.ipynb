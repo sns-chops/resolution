{
 "cells": [
  {
   "cell_type": "markdown",
   "metadata": {},
   "source": [
    "This was modified from /SNS/ARCS/IPTS-21387/shared/Arnab_Vanadium/LoadPowderFilesV2p3.py ."
   ]
  },
  {
   "cell_type": "code",
   "execution_count": 7,
   "metadata": {},
   "outputs": [],
   "source": [
    "#Program to load Vanadium or empty Can powder files and perform a constant-Q cut along the middle Q to look at energy resolution and intensity.\n",
    "import matplotlib.pyplot as plt\n",
    "from mantid import plots\n",
    "from mantid.simpleapi import Load, ConvertToMD, BinMD, ConvertUnits, Rebin\n",
    "from matplotlib.colors import LogNorm\n",
    "import numpy as np\n",
    "import mantid.simpleapi as msa\n",
    "from mantid import mtd"
   ]
  },
  {
   "cell_type": "code",
   "execution_count": 4,
   "metadata": {},
   "outputs": [
    {
     "name": "stdout",
     "output_type": "stream",
     "text": [
      "range(107476, 107480)\n"
     ]
    }
   ],
   "source": [
    "RunNumbers=range(107476,107648)+range(108331,108457) # FC1\n",
    "# quick test: RunNumbers=range(107476,107480)\n",
    "\n",
    "print(RunNumbers)\n",
    "IPTS=21387\n",
    "PlotTag=0\n",
    "datadir=\"/SNS/ARCS/IPTS-\"+str(IPTS)+\"/shared/autoreduce/\"\n",
    "overallArray=[]"
   ]
  },
  {
   "cell_type": "code",
   "execution_count": null,
   "metadata": {},
   "outputs": [],
   "source": []
  },
  {
   "cell_type": "code",
   "execution_count": 25,
   "metadata": {},
   "outputs": [
    {
     "name": "stdout",
     "output_type": "stream",
     "text": [
      "107476\n",
      "Run= 107476 , Energy= 8.0 meV, Chopper= 1 ChopperPosition= 0.6710330000000001 , Fit= Error: Bragg peak not at E=0\n",
      "107477\n",
      "Run= 107477 , Energy= 10.0 meV, Chopper= 1 ChopperPosition= 0.6710330000000001 , Fit= Error: Bragg peak not at E=0\n",
      "107478\n",
      "Run= 107478 , Energy= 12.0 meV, Chopper= 1 ChopperPosition= 0.6710330000000001 , Fit= Error: Bragg peak not at E=0\n",
      "107479\n",
      "Run= 107479 , Energy= 15.0 meV, Chopper= 1 ChopperPosition= 0.6710330000000001 , Fit= Error: Bragg peak not at E=0\n"
     ]
    }
   ],
   "source": [
    "for RunNumber in RunNumbers:\n",
    "    print (RunNumber)\n",
    "    try:\n",
    "        w=msa.CreateSingleValuedWorkspace()\n",
    "        #LoadNexusLogs(w,\"/SNS/ARCS/IPTS-\"+str(IPTS)+\"/data/ARCS_\"+str(RunNumber)+'_event.nxs')\n",
    "        msa.LoadNexusLogs(w,\"/SNS/ARCS/IPTS-\"+str(IPTS)+\"/nexus/ARCS_\"+str(RunNumber)+'.nxs.h5')\n",
    "        RunParams=w.getRun()\n",
    "        Energy=RunParams[\"BL18:Chop:Skf0:EnergyUserReq\"].getStatistics().mean\n",
    "        #print Energy\n",
    "        Chopperpos=RunParams[\"chtrans\"].getStatistics().mean\n",
    "        #print Chopperpos\n",
    "        Chopper1=RunParams[\"Speed1\"].getStatistics().mean\n",
    "        Chopper2=RunParams[\"Speed2\"].getStatistics().mean\n",
    "        Chopper3=RunParams[\"Speed3\"].getStatistics().mean\n",
    "        if Chopperpos>400: \n",
    "            Chopper=2 \n",
    "        elif Chopperpos<1: \n",
    "            Chopper=1 \n",
    "        else: \n",
    "            Chopper=0\n",
    "\n",
    "        \n",
    "        # generate a nice 2D multi-dimensional workspace\n",
    "        data = msa.LoadNXSPE(datadir+'ARCS_'+str(RunNumber)+'_autoreduced.nxspe')\n",
    "        values=msa.ConvertToMDMinMaxLocal('data',QDimensions='|Q|', dEAnalysisMode='Direct')\n",
    "        minQ,minE=values.MinValues\n",
    "        maxQ,maxE=values.MaxValues\n",
    "        \n",
    "        md = msa.ConvertToMD(InputWorkspace=data, QDimensions='|Q|', dEAnalysisMode='Direct')\n",
    "        sqw = msa.BinMD(InputWorkspace=md,\n",
    "                    AlignedDim0='|Q|,'+str(minQ)+','+str(maxQ)+',100',\n",
    "                    AlignedDim1='DeltaE,'+ str(minE) +',' +str(maxE*0.8) +',100')\n",
    "\n",
    "        #2D plot\n",
    "        if PlotTag==1:\n",
    "            fig, ax = plt.subplots(subplot_kw={'projection':'mantid'})\n",
    "            c = ax.pcolormesh(sqw, vmin=0., vmax=0.5e-3)\n",
    "            cbar=fig.colorbar(c)\n",
    "            cbar.set_label('Intensity (arb. units)') #add text to colorbar\n",
    "            ax.set_title('Run '+str(RunNumber)+',Ei='+str(Energy)+'meVChoppers=['+str(Chopper1)+','+str(Chopper2)+','+str(Chopper3)+']')\n",
    "            fig.show()\n",
    "\n",
    "\n",
    "        # generate a 1D multi-dimensional workspace\n",
    "\n",
    "\n",
    "        sqw_line= msa.BinMD(InputWorkspace=md,\n",
    "                    AlignedDim0='|Q|,' +str((minQ+maxQ)/3-0.01*maxQ) +','+ str((minQ+maxQ)/3+0.01*maxQ) +',1',\n",
    "                    AlignedDim1='DeltaE,'+ str(minE) +',' +str(maxE*0.8) +',100')\n",
    "\n",
    "        sqw_line_Hist=msa.ConvertMDHistoToMatrixWorkspace('sqw_line', Normalization='NumEventsNormalization')\n",
    "        result=msa.Fit(Function='name=Gaussian,Height=1,PeakCentre=-'+str(0.01*Energy)+',Sigma='+str(0.1*Energy), InputWorkspace='sqw_line_Hist', Output='sqw_line_Hist', OutputCompositeMembers=True)\n",
    "\n",
    "        # plots 1D multi-dimensional workspace\n",
    "        if PlotTag==1:\n",
    "            fig, ax = plt.subplots(subplot_kw={'projection':'mantid'})\n",
    "            c = ax.errorbar(sqw_line_Hist,label='Data')\n",
    "            ax.plot(result.OutputWorkspace,'r-',wkspIndex=1, label='Fit')\n",
    "            ax.legend()\n",
    "            ax.set_title('Run '+str(RunNumber)+',Ei='+str(Energy)+'meV,|Q|=[' +str((minQ+maxQ)/3-0.01*maxQ) +','+ str((minQ+maxQ)/3+0.01*maxQ) +']' )\n",
    "            fig.show()\n",
    "\n",
    "        handle=mtd['sqw_line_Hist_Parameters']\n",
    "        RunParams2=data.getRun()\n",
    "        Ei=RunParams2[\"Ei\"].value\n",
    "        height_row = handle.row(0); center_row = handle.row(1); sigma_row = handle.row(2)\n",
    "        Height=height_row['Value']\n",
    "        Center=center_row['Value']\n",
    "        Sigma=sigma_row['Value']\n",
    "        dHeight=height_row['Error']\n",
    "        dCenter=center_row['Error']\n",
    "        dSigma=sigma_row['Error']\n",
    "        Q=(minQ+maxQ)/3\n",
    "        array=[0,RunNumber, Energy, Ei, Chopper, round(Chopper1), round(Chopper2), round(Chopper3), Height, dHeight, Center, dCenter, Sigma, dSigma, Q]\n",
    "        if dHeight*3>Height:\n",
    "            String1=', Fit= Error: Fit errors too high'\n",
    "        elif abs(Center)>abs(dCenter)*3:\n",
    "            String1=', Fit= Error: Bragg peak not at E=0'\n",
    "        else:\n",
    "            String1=', Fit= OK'\n",
    "        print(\"Run=\",RunNumber,\", Energy=\",Energy,\"meV, Chopper=\",Chopper,\"ChopperPosition=\",Chopperpos,String1)\n",
    "        #print array\n",
    "        overallArray.append(array)\n",
    "        \n",
    "    except:\n",
    "        raise\n",
    "        print(RunNumber,\": Errors, either file not in directory or some syntax, or fitting / plot errors\")\n",
    "\n",
    "\n",
    "# print overallArray\n",
    "toPrint=np.c_[overallArray]"
   ]
  },
  {
   "cell_type": "code",
   "execution_count": 26,
   "metadata": {},
   "outputs": [
    {
     "data": {
      "text/plain": [
       "array([[  0.00000000e+00,   1.07476000e+05,   8.00000000e+00,\n",
       "          8.04086712e+00,   1.00000000e+00,   6.00000000e+01,\n",
       "          1.20000000e+02,   6.00000000e+01,   3.70772626e-01,\n",
       "          2.05928414e-03,  -6.39911615e-02,   1.13668728e-03,\n",
       "          2.50102155e-01,   7.94673905e-04,   1.38196529e+00],\n",
       "       [  0.00000000e+00,   1.07477000e+05,   1.00000000e+01,\n",
       "          1.00643113e+01,   1.00000000e+00,   6.00000000e+01,\n",
       "          1.20000000e+02,   6.00000000e+01,   4.21859620e-01,\n",
       "          1.87088125e-03,  -5.14418611e-02,   1.26011268e-03,\n",
       "          3.41479889e-01,   8.39506259e-04,   1.54591576e+00],\n",
       "       [  0.00000000e+00,   1.07478000e+05,   1.20000000e+01,\n",
       "          1.20923932e+01,   1.00000000e+00,   6.00000000e+01,\n",
       "          1.20000000e+02,   6.00000000e+01,   4.77464552e-01,\n",
       "          1.75470597e-03,  -4.02207570e-02,   1.35353021e-03,\n",
       "          4.43601932e-01,   9.09464262e-04,   1.69433877e+00],\n",
       "       [  0.00000000e+00,   1.07479000e+05,   1.50000000e+01,\n",
       "          1.51426411e+01,   1.00000000e+00,   6.00000000e+01,\n",
       "          1.20000000e+02,   6.00000000e+01,   4.50338248e-01,\n",
       "          1.45333738e-03,  -2.21988396e-02,   1.63514518e-03,\n",
       "          6.11686006e-01,   1.10856291e-03,   1.89572031e+00]])"
      ]
     },
     "execution_count": 26,
     "metadata": {},
     "output_type": "execute_result"
    }
   ],
   "source": [
    "toPrint"
   ]
  },
  {
   "cell_type": "code",
   "execution_count": 27,
   "metadata": {},
   "outputs": [],
   "source": [
    "# np.savetxt(\"/SNS/ARCS/IPTS-\"+str(IPTS)+\"/shared/Arnab_Vanadium/File_FC1_allRuns1.dat\",toPrint,header='RunNumber Energy Ei Chopper Chopper1 Chopper2 Chopper3 Height dHeight Center dCenter Sigma dSigma Q')"
   ]
  },
  {
   "cell_type": "code",
   "execution_count": null,
   "metadata": {},
   "outputs": [],
   "source": []
  }
 ],
 "metadata": {
  "kernelspec": {
   "display_name": "python3-default at jnrk-sns-analysis",
   "language": "python",
   "name": "jnrk-sns-analysis-python3-default"
  },
  "language_info": {
   "codemirror_mode": {
    "name": "ipython",
    "version": 3
   },
   "file_extension": ".py",
   "mimetype": "text/x-python",
   "name": "python",
   "nbconvert_exporter": "python",
   "pygments_lexer": "ipython3",
   "version": "3.6.5"
  },
  "toc": {
   "base_numbering": 1,
   "nav_menu": {},
   "number_sections": true,
   "sideBar": true,
   "skip_h1_title": false,
   "title_cell": "Table of Contents",
   "title_sidebar": "Contents",
   "toc_cell": false,
   "toc_position": {},
   "toc_section_display": true,
   "toc_window_display": false
  }
 },
 "nbformat": 4,
 "nbformat_minor": 1
}
