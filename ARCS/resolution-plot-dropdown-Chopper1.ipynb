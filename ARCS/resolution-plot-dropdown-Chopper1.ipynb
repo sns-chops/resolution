{
 "cells": [
  {
   "cell_type": "code",
   "execution_count": 1,
   "metadata": {},
   "outputs": [
    {
     "name": "stdout",
     "output_type": "stream",
     "text": [
      "/SNS/users/lj7/dv/sns-chops/resolution/ARCS\n"
     ]
    }
   ],
   "source": [
    "%cd ~/dv/sns-chops/resolution/ARCS/\n",
    "import os, numpy as np"
   ]
  },
  {
   "cell_type": "code",
   "execution_count": 2,
   "metadata": {},
   "outputs": [],
   "source": [
    "import pandas as pd\n",
    "import numpy as np\n",
    "import scipy as sp\n",
    "import plotly.plotly as py"
   ]
  },
  {
   "cell_type": "code",
   "execution_count": 3,
   "metadata": {},
   "outputs": [],
   "source": [
    "import plotly"
   ]
  },
  {
   "cell_type": "code",
   "execution_count": 4,
   "metadata": {},
   "outputs": [],
   "source": [
    "import plotly.figure_factory as ff"
   ]
  },
  {
   "cell_type": "code",
   "execution_count": 35,
   "metadata": {},
   "outputs": [
    {
     "data": {
      "text/plain": [
       "<module 'resolution_plot' from 'resolution_plot.py'>"
      ]
     },
     "execution_count": 35,
     "metadata": {},
     "output_type": "execute_result"
    }
   ],
   "source": [
    "import resolution_plot\n",
    "reload(resolution_plot)"
   ]
  },
  {
   "cell_type": "code",
   "execution_count": 36,
   "metadata": {},
   "outputs": [
    {
     "name": "stdout",
     "output_type": "stream",
     "text": [
      "reading data. please wait...\n",
      "  done\n"
     ]
    }
   ],
   "source": [
    "expdata = resolution_plot.ExpData('./V_Cali_Int_Res_FC1_2018.dat')"
   ]
  },
  {
   "cell_type": "code",
   "execution_count": 37,
   "metadata": {},
   "outputs": [],
   "source": [
    "# unique_nominal_Eis = expdata.vdata.Energy.unique()"
   ]
  },
  {
   "cell_type": "code",
   "execution_count": 38,
   "metadata": {},
   "outputs": [],
   "source": [
    "unique_nominal_Eis = list(expdata.Ei_list)"
   ]
  },
  {
   "cell_type": "code",
   "execution_count": 39,
   "metadata": {},
   "outputs": [],
   "source": [
    "unique_nominal_Eis = sorted(unique_nominal_Eis)"
   ]
  },
  {
   "cell_type": "code",
   "execution_count": 40,
   "metadata": {},
   "outputs": [],
   "source": [
    "Eis = unique_nominal_Eis #[:10]\n",
    "data =[]\n",
    "buttons = []\n",
    "all_hidden = [False] * len(Eis)\n",
    "for i, n_Ei in enumerate(Eis):\n",
    "    plot = expdata.createPlot(n_Ei)\n",
    "    plot.visible = False\n",
    "    plot.name = 'chopper1'\n",
    "    data.append(plot)\n",
    "    # \n",
    "    visible = list(all_hidden)\n",
    "    visible[i] = True\n",
    "    button =  dict(\n",
    "        label = '%smeV' % n_Ei,\n",
    "        method = 'update',\n",
    "        args = [{'visible': visible},\n",
    "                {'title': 'Ei=%smeV' % n_Ei,\n",
    "                }])\n",
    "    buttons.append(button)\n",
    "    continue\n",
    "\n",
    "updatemenus = list([\n",
    "    dict(active=-1,\n",
    "         buttons=list(buttons)\n",
    "        )\n",
    "])"
   ]
  },
  {
   "cell_type": "code",
   "execution_count": 41,
   "metadata": {},
   "outputs": [],
   "source": [
    "data[Eis.index(100.)].visible = True"
   ]
  },
  {
   "cell_type": "code",
   "execution_count": 42,
   "metadata": {},
   "outputs": [
    {
     "data": {
      "text/html": [
       "<iframe id=\"igraph\" scrolling=\"no\" style=\"border:none;\" seamless=\"seamless\" src=\"https://plot.ly/~mcvine/10.embed\" height=\"525px\" width=\"100%\"></iframe>"
      ],
      "text/plain": [
       "<plotly.tools.PlotlyDisplay object>"
      ]
     },
     "execution_count": 42,
     "metadata": {},
     "output_type": "execute_result"
    }
   ],
   "source": [
    "layout = dict(\n",
    "    title='ARCS flux vs resolution (use dropdown list from left to choose incident energy)', \n",
    "    # showlegend=False,\n",
    "    updatemenus=updatemenus,\n",
    "    xaxis=dict(\n",
    "        title='FHWM (meV)',\n",
    "    ),\n",
    "    yaxis=dict(\n",
    "        title='Flux -- peak area (arb. unit)',\n",
    "    )\n",
    ")\n",
    "fig = dict(data=data, layout=layout)\n",
    "py.iplot(fig, filename='ARCS flux (intensity) vs resolution')"
   ]
  },
  {
   "cell_type": "code",
   "execution_count": null,
   "metadata": {},
   "outputs": [],
   "source": []
  }
 ],
 "metadata": {
  "kernelspec": {
   "display_name": "DGS-powder at jnrk-sns-analysis",
   "language": "python",
   "name": "jnrk-sns-analysis-dgs-powder"
  },
  "language_info": {
   "codemirror_mode": {
    "name": "ipython",
    "version": 2
   },
   "file_extension": ".py",
   "mimetype": "text/x-python",
   "name": "python",
   "nbconvert_exporter": "python",
   "pygments_lexer": "ipython2",
   "version": "2.7.14"
  },
  "toc": {
   "base_numbering": 1,
   "nav_menu": {},
   "number_sections": true,
   "sideBar": true,
   "skip_h1_title": false,
   "title_cell": "Table of Contents",
   "title_sidebar": "Contents",
   "toc_cell": false,
   "toc_position": {},
   "toc_section_display": true,
   "toc_window_display": false
  }
 },
 "nbformat": 4,
 "nbformat_minor": 1
}
