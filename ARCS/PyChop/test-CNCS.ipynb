{
 "cells": [
  {
   "cell_type": "code",
   "execution_count": 3,
   "metadata": {},
   "outputs": [],
   "source": [
    "import numpy as np, os, sys, glob"
   ]
  },
  {
   "cell_type": "code",
   "execution_count": 4,
   "metadata": {},
   "outputs": [],
   "source": [
    "sys.path.insert(0, \"/SNS/users/lj7/dv\")"
   ]
  },
  {
   "cell_type": "code",
   "execution_count": 5,
   "metadata": {},
   "outputs": [],
   "source": [
    "from PyChop import PyChop2"
   ]
  },
  {
   "cell_type": "code",
   "execution_count": null,
   "metadata": {},
   "outputs": [],
   "source": [
    "cncs = PyChop2('/SNS/users/lj7/dv/PyChop/SNS/cncs.yaml',  'High Resolution', 300)\n",
    "cncs.ei = 2"
   ]
  },
  {
   "cell_type": "code",
   "execution_count": 6,
   "metadata": {},
   "outputs": [
    {
     "name": "stdout",
     "output_type": "stream",
     "text": [
      "Flux = 2796.64655176 n/cm^2/s\n",
      "\n",
      "EN(meV)  FWHM(meV)\n",
      "0.00     0.027\n",
      "0.21     0.023\n",
      "0.42     0.020\n",
      "0.63     0.017\n",
      "0.84     0.014\n",
      "1.06     0.011\n",
      "1.27     0.009\n",
      "1.48     0.007\n",
      "1.69     0.005\n",
      "1.90     0.004\n"
     ]
    }
   ],
   "source": [
    "print \"Flux = \" + str(cncs.getFlux()[0]) + ' n/cm^2/s'\n",
    "print\n",
    "print \"EN(meV)  FWHM(meV)\"\n",
    "en = np.linspace(0, 1.9, 10)\n",
    "res = cncs.getResolution(en)\n",
    "for (x,y) in zip(en, res):\n",
    "    print \"%0.2f     %0.3f\" % (x, y)"
   ]
  },
  {
   "cell_type": "code",
   "execution_count": 7,
   "metadata": {},
   "outputs": [],
   "source": [
    "cncs.setChopper(package='High Flux', freq=120)"
   ]
  },
  {
   "cell_type": "code",
   "execution_count": 8,
   "metadata": {},
   "outputs": [
    {
     "name": "stdout",
     "output_type": "stream",
     "text": [
      "Flux = 13983.2327588 n/cm^2/s\n",
      "\n",
      "EN(meV)  FWHM(meV)\n",
      "0.00     0.067\n",
      "0.21     0.058\n",
      "0.42     0.049\n",
      "0.63     0.041\n",
      "0.84     0.034\n",
      "1.06     0.027\n",
      "1.27     0.021\n",
      "1.48     0.015\n",
      "1.69     0.011\n",
      "1.90     0.008\n"
     ]
    }
   ],
   "source": [
    "print \"Flux = \" + str(cncs.getFlux()[0]) + ' n/cm^2/s'\n",
    "print\n",
    "print \"EN(meV)  FWHM(meV)\"\n",
    "en = np.linspace(0, 1.9, 10)\n",
    "res = cncs.getResolution(en)\n",
    "for (x,y) in zip(en, res):\n",
    "    print \"%0.2f     %0.3f\" % (x, y)"
   ]
  },
  {
   "cell_type": "code",
   "execution_count": null,
   "metadata": {},
   "outputs": [],
   "source": []
  }
 ],
 "metadata": {
  "kernelspec": {
   "display_name": "py2",
   "language": "python",
   "name": "py2"
  },
  "language_info": {
   "codemirror_mode": {
    "name": "ipython",
    "version": 2
   },
   "file_extension": ".py",
   "mimetype": "text/x-python",
   "name": "python",
   "nbconvert_exporter": "python",
   "pygments_lexer": "ipython2",
   "version": "2.7.12"
  },
  "toc": {
   "base_numbering": 1,
   "nav_menu": {},
   "number_sections": true,
   "sideBar": true,
   "skip_h1_title": false,
   "title_cell": "Table of Contents",
   "title_sidebar": "Contents",
   "toc_cell": false,
   "toc_position": {},
   "toc_section_display": true,
   "toc_window_display": false
  }
 },
 "nbformat": 4,
 "nbformat_minor": 2
}
