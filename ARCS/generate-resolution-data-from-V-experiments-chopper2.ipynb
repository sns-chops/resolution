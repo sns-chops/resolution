{
 "cells": [
  {
   "cell_type": "markdown",
   "metadata": {},
   "source": [
    "This was modified from generate-resolution-data-from-V-experiments-chopper1"
   ]
  },
  {
   "cell_type": "code",
   "execution_count": 11,
   "metadata": {},
   "outputs": [
    {
     "name": "stdout",
     "output_type": "stream",
     "text": [
      "/SNS/users/lj7/dv/sns-chops/resolution/ARCS\n"
     ]
    }
   ],
   "source": [
    "%cd ~/dv/sns-chops/resolution/ARCS/"
   ]
  },
  {
   "cell_type": "code",
   "execution_count": 1,
   "metadata": {},
   "outputs": [],
   "source": [
    "#Program to load Vanadium or empty Can powder files and perform a constant-Q cut along the middle Q to look at energy resolution and intensity.\n",
    "import matplotlib.pyplot as plt\n",
    "from mantid import plots\n",
    "from mantid.simpleapi import Load, ConvertToMD, BinMD, ConvertUnits, Rebin\n",
    "from matplotlib.colors import LogNorm\n",
    "import numpy as np\n",
    "import mantid.simpleapi as msa\n",
    "from mantid import mtd"
   ]
  },
  {
   "cell_type": "code",
   "execution_count": 23,
   "metadata": {},
   "outputs": [
    {
     "name": "stdout",
     "output_type": "stream",
     "text": [
      "range(107970, 108193)\n"
     ]
    }
   ],
   "source": [
    "RunNumbers=range(107970,108193) #FC2Runs3\n",
    "# quick test\n",
    "# RunNumbers=range(107970, 107995)\n",
    "# RunNumbers = range(107981, 107982)\n",
    "print(RunNumbers)"
   ]
  },
  {
   "cell_type": "code",
   "execution_count": 14,
   "metadata": {},
   "outputs": [],
   "source": [
    "IPTS=21387\n",
    "PlotTag=0\n",
    "datadir=\"/SNS/ARCS/IPTS-\"+str(IPTS)+\"/shared/autoreduce/\""
   ]
  },
  {
   "cell_type": "markdown",
   "metadata": {},
   "source": [
    "Took 17min"
   ]
  },
  {
   "cell_type": "code",
   "execution_count": null,
   "metadata": {},
   "outputs": [
    {
     "name": "stdout",
     "output_type": "stream",
     "text": [
      "107970\n",
      "Run= 107970 , Energy= 8.0 meV, Chopper= 2 ChopperPosition= 432.99999611000004 , Fit= Error: Bragg peak not at E=0\n",
      "107971\n",
      "Run= 107971 , Energy= 10.0 meV, Chopper= 2 ChopperPosition= 432.99999611000004 , Fit= Error: Bragg peak not at E=0\n",
      "107972\n",
      "Run= 107972 , Energy= 12.0 meV, Chopper= 2 ChopperPosition= 432.99999611000004 , Fit= Error: Bragg peak not at E=0\n",
      "107973\n",
      "Run= 107973 , Energy= 15.0 meV, Chopper= 2 ChopperPosition= 432.99999611000004 , Fit= Error: Bragg peak not at E=0\n",
      "107974\n"
     ]
    }
   ],
   "source": [
    "%%time\n",
    "overallArray=[]\n",
    "for RunNumber in RunNumbers:\n",
    "    print (RunNumber)\n",
    "    try:\n",
    "        w=msa.CreateSingleValuedWorkspace()\n",
    "        #LoadNexusLogs(w,\"/SNS/ARCS/IPTS-\"+str(IPTS)+\"/data/ARCS_\"+str(RunNumber)+'_event.nxs')\n",
    "        msa.LoadNexusLogs(w,\"/SNS/ARCS/IPTS-\"+str(IPTS)+\"/nexus/ARCS_\"+str(RunNumber)+'.nxs.h5')\n",
    "        RunParams=w.getRun()\n",
    "        Energy=RunParams[\"BL18:Chop:Skf0:EnergyUserReq\"].getStatistics().mean\n",
    "        #print Energy\n",
    "        Chopperpos=RunParams[\"chtrans\"].getStatistics().mean\n",
    "        #print Chopperpos\n",
    "        Chopper1=RunParams[\"Speed1\"].getStatistics().mean\n",
    "        Chopper2=RunParams[\"Speed2\"].getStatistics().mean\n",
    "        Chopper3=RunParams[\"Speed3\"].getStatistics().mean\n",
    "        if Chopperpos>400: \n",
    "            Chopper=2 \n",
    "        elif Chopperpos<1: \n",
    "            Chopper=1 \n",
    "        else: \n",
    "            Chopper=0\n",
    "\n",
    "        \n",
    "        # generate a nice 2D multi-dimensional workspace\n",
    "        data = msa.LoadNXSPE(datadir+'ARCS_'+str(RunNumber)+'_autoreduced.nxspe')\n",
    "        values=msa.ConvertToMDMinMaxLocal('data',QDimensions='|Q|', dEAnalysisMode='Direct')\n",
    "        minQ,minE=values.MinValues\n",
    "        maxQ,maxE=values.MaxValues\n",
    "        \n",
    "        md = msa.ConvertToMD(InputWorkspace=data, QDimensions='|Q|', dEAnalysisMode='Direct')\n",
    "        sqw = msa.BinMD(InputWorkspace=md,\n",
    "                    AlignedDim0='|Q|,'+str(minQ)+','+str(maxQ)+',100',\n",
    "                    AlignedDim1='DeltaE,'+ str(minE) +',' +str(maxE*0.8) +',100')\n",
    "\n",
    "        #2D plot\n",
    "        if PlotTag==1:\n",
    "            fig, ax = plt.subplots(subplot_kw={'projection':'mantid'})\n",
    "            c = ax.pcolormesh(sqw, vmin=0., vmax=0.5e-3)\n",
    "            cbar=fig.colorbar(c)\n",
    "            cbar.set_label('Intensity (arb. units)') #add text to colorbar\n",
    "            ax.set_title('Run '+str(RunNumber)+',Ei='+str(Energy)+'meVChoppers=['+str(Chopper1)+','+str(Chopper2)+','+str(Chopper3)+']')\n",
    "            fig.show()\n",
    "\n",
    "\n",
    "        # generate a 1D multi-dimensional workspace\n",
    "\n",
    "\n",
    "        sqw_line= msa.BinMD(InputWorkspace=md,\n",
    "                    AlignedDim0='|Q|,' +str((minQ+maxQ)/3-0.01*maxQ) +','+ str((minQ+maxQ)/3+0.01*maxQ) +',1',\n",
    "                    AlignedDim1='DeltaE,'+ str(minE) +',' +str(maxE*0.8) +',100')\n",
    "\n",
    "        sqw_line_Hist=msa.ConvertMDHistoToMatrixWorkspace('sqw_line', Normalization='NumEventsNormalization')\n",
    "        result=msa.Fit(Function='name=Gaussian,Height=1,PeakCentre=-'+str(0.01*Energy)+',Sigma='+str(0.1*Energy), InputWorkspace='sqw_line_Hist', Output='sqw_line_Hist', OutputCompositeMembers=True)\n",
    "\n",
    "        # plots 1D multi-dimensional workspace\n",
    "        if PlotTag==1:\n",
    "            fig, ax = plt.subplots(subplot_kw={'projection':'mantid'})\n",
    "            c = ax.errorbar(sqw_line_Hist,label='Data')\n",
    "            ax.plot(result.OutputWorkspace,'r-',wkspIndex=1, label='Fit')\n",
    "            ax.legend()\n",
    "            ax.set_title('Run '+str(RunNumber)+',Ei='+str(Energy)+'meV,|Q|=[' +str((minQ+maxQ)/3-0.01*maxQ) +','+ str((minQ+maxQ)/3+0.01*maxQ) +']' )\n",
    "            fig.show()\n",
    "\n",
    "        handle=mtd['sqw_line_Hist_Parameters']\n",
    "        RunParams2=data.getRun()\n",
    "        Ei=RunParams2[\"Ei\"].value\n",
    "        height_row = handle.row(0); center_row = handle.row(1); sigma_row = handle.row(2)\n",
    "        Height=float(height_row['Value'])\n",
    "        Center=float(center_row['Value'])\n",
    "        Sigma=float(sigma_row['Value'])\n",
    "        dHeight=float(height_row['Error'])\n",
    "        dCenter=float(center_row['Error'])\n",
    "        dSigma=float(sigma_row['Error'])\n",
    "        Q=(minQ+maxQ)/3\n",
    "        array=[0,RunNumber, Energy, Ei, Chopper, round(Chopper1), round(Chopper2), round(Chopper3), Height, dHeight, Center, dCenter, Sigma, dSigma, Q]\n",
    "        if dHeight*3>Height:\n",
    "            String1=', Fit= Error: Fit errors too high'\n",
    "        elif abs(Center)>abs(dCenter)*3:\n",
    "            String1=', Fit= Error: Bragg peak not at E=0'\n",
    "        else:\n",
    "            String1=', Fit= OK'\n",
    "        print(\"Run=\",RunNumber,\", Energy=\",Energy,\"meV, Chopper=\",Chopper,\"ChopperPosition=\",Chopperpos,String1)\n",
    "        #print array\n",
    "        overallArray.append(array)\n",
    "        \n",
    "    except:\n",
    "        print(RunNumber,\": Errors, either file not in directory or some syntax, or fitting / plot errors\")\n",
    "\n",
    "\n",
    "# print overallArray\n",
    "toPrint=np.c_[overallArray]"
   ]
  },
  {
   "cell_type": "code",
   "execution_count": null,
   "metadata": {},
   "outputs": [],
   "source": [
    "# height_row"
   ]
  },
  {
   "cell_type": "code",
   "execution_count": null,
   "metadata": {},
   "outputs": [],
   "source": [
    "# toPrint"
   ]
  },
  {
   "cell_type": "code",
   "execution_count": 28,
   "metadata": {},
   "outputs": [],
   "source": [
    "np.savetxt(\"./V_Cali_Int_Res_FC2_2018.dat\",toPrint,header='RunNumber Energy Ei Chopper Chopper1 Chopper2 Chopper3 Height dHeight Center dCenter Sigma dSigma Q')"
   ]
  },
  {
   "cell_type": "code",
   "execution_count": null,
   "metadata": {},
   "outputs": [],
   "source": []
  }
 ],
 "metadata": {
  "kernelspec": {
   "display_name": "python3-default at jnrk-sns-analysis",
   "language": "python",
   "name": "jnrk-sns-analysis-python3-default"
  },
  "language_info": {
   "codemirror_mode": {
    "name": "ipython",
    "version": 3
   },
   "file_extension": ".py",
   "mimetype": "text/x-python",
   "name": "python",
   "nbconvert_exporter": "python",
   "pygments_lexer": "ipython3",
   "version": "3.6.5"
  },
  "toc": {
   "base_numbering": 1,
   "nav_menu": {},
   "number_sections": true,
   "sideBar": true,
   "skip_h1_title": false,
   "title_cell": "Table of Contents",
   "title_sidebar": "Contents",
   "toc_cell": false,
   "toc_position": {},
   "toc_section_display": true,
   "toc_window_display": false
  }
 },
 "nbformat": 4,
 "nbformat_minor": 1
}
