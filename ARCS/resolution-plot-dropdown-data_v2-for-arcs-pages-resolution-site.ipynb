{
 "cells": [
  {
   "cell_type": "code",
   "execution_count": 2,
   "metadata": {},
   "outputs": [
    {
     "name": "stdout",
     "output_type": "stream",
     "text": [
      "/SNS/users/lj7/dv/sns-chops/resolution/ARCS\n"
     ]
    }
   ],
   "source": [
    "%cd ~/dv/sns-chops/resolution/ARCS/\n",
    "import os, numpy as np"
   ]
  },
  {
   "cell_type": "code",
   "execution_count": 3,
   "metadata": {},
   "outputs": [],
   "source": [
    "import pandas as pd\n",
    "import numpy as np\n",
    "import scipy as sp\n",
    "import plotly.plotly as py"
   ]
  },
  {
   "cell_type": "code",
   "execution_count": 4,
   "metadata": {},
   "outputs": [],
   "source": [
    "import plotly"
   ]
  },
  {
   "cell_type": "code",
   "execution_count": 5,
   "metadata": {},
   "outputs": [],
   "source": [
    "import plotly.figure_factory as ff"
   ]
  },
  {
   "cell_type": "markdown",
   "metadata": {},
   "source": [
    "# Options"
   ]
  },
  {
   "cell_type": "code",
   "execution_count": 58,
   "metadata": {},
   "outputs": [],
   "source": [
    "min_flux = 10000"
   ]
  },
  {
   "cell_type": "markdown",
   "metadata": {},
   "source": [
    "# Get data"
   ]
  },
  {
   "cell_type": "code",
   "execution_count": 50,
   "metadata": {},
   "outputs": [
    {
     "data": {
      "text/plain": [
       "<module 'resolution_plot' from 'resolution_plot.py'>"
      ]
     },
     "execution_count": 50,
     "metadata": {},
     "output_type": "execute_result"
    }
   ],
   "source": [
    "import resolution_plot\n",
    "reload(resolution_plot)"
   ]
  },
  {
   "cell_type": "code",
   "execution_count": 51,
   "metadata": {},
   "outputs": [
    {
     "name": "stdout",
     "output_type": "stream",
     "text": [
      "reading data. please wait...\n",
      "  done\n"
     ]
    }
   ],
   "source": [
    "fc1data = resolution_plot.ExpData('./V_Cali_Int_Res_FC1_2018_v2.dat')"
   ]
  },
  {
   "cell_type": "code",
   "execution_count": 52,
   "metadata": {},
   "outputs": [
    {
     "name": "stdout",
     "output_type": "stream",
     "text": [
      "reading data. please wait...\n",
      "  done\n"
     ]
    }
   ],
   "source": [
    "fc2data = resolution_plot.ExpData('./V_Cali_Int_Res_FC2_2018_v2.dat')"
   ]
  },
  {
   "cell_type": "code",
   "execution_count": 53,
   "metadata": {},
   "outputs": [
    {
     "name": "stdout",
     "output_type": "stream",
     "text": [
      "reading data. please wait...\n",
      "  done\n"
     ]
    }
   ],
   "source": [
    "fc1_highres_data = resolution_plot.ExpData('./V_Cali_Int_Res_FC1_HighRes_2018_v2.dat')"
   ]
  },
  {
   "cell_type": "markdown",
   "metadata": {},
   "source": [
    "Scale flux data. Here we use the same scale factor for all choppers. \n",
    "But according to calculations, the scale factor for the high resolution chopper 1 would be\n",
    "$8e4 \\times 60/1.4 \\times 1./12$, which is about $2.6e4 \\times 60/1.4 \\times 1./4$,\n",
    "so it is a factor 2 off."
   ]
  },
  {
   "cell_type": "code",
   "execution_count": 54,
   "metadata": {},
   "outputs": [],
   "source": [
    "vscatt_scale = 2.6e4\n",
    "vscatt_scale *=60./1.4\n",
    "vscatt_scale *= 1.5/2"
   ]
  },
  {
   "cell_type": "code",
   "execution_count": 55,
   "metadata": {},
   "outputs": [],
   "source": [
    "fc1data.intensity *= vscatt_scale\n",
    "fc2data.intensity *= vscatt_scale\n",
    "fc1_highres_data.intensity *= vscatt_scale"
   ]
  },
  {
   "cell_type": "code",
   "execution_count": null,
   "metadata": {},
   "outputs": [],
   "source": []
  },
  {
   "cell_type": "code",
   "execution_count": 10,
   "metadata": {},
   "outputs": [],
   "source": [
    "unique_nominal_Eis = set( list(fc1data.Ei_list) + list(fc2data.Ei_list) + list(fc1_highres_data.Ei_list) )"
   ]
  },
  {
   "cell_type": "code",
   "execution_count": 11,
   "metadata": {},
   "outputs": [],
   "source": [
    "unique_nominal_Eis = sorted(list(unique_nominal_Eis))"
   ]
  },
  {
   "cell_type": "code",
   "execution_count": null,
   "metadata": {},
   "outputs": [],
   "source": []
  },
  {
   "cell_type": "markdown",
   "metadata": {},
   "source": [
    "## Automatic intensity settings"
   ]
  },
  {
   "cell_type": "code",
   "execution_count": 46,
   "metadata": {},
   "outputs": [],
   "source": [
    "datamap = {1: fc1data, 2: fc2data}\n",
    "\n",
    "fwhms = list()\n",
    "ints = list()\n",
    "Eis = list()\n",
    "labels = list()\n",
    "# for Ei, Chopper, Speed, T0 in np.loadtxt('HighIntensitySetting-fixed.txt', delimiter=','):\n",
    "for Ei, Chopper, Speed, T0 in np.loadtxt('./doug/new_Ei_high_flux.csv', delimiter=','):\n",
    "    data = datamap[Chopper]\n",
    "    condition1 = np.logical_and(np.isclose(data.vdata.Energy, Ei), np.isclose(data.chopper_freqs, Speed))\n",
    "    condition1 = np.logical_and(condition1, data.intensity>min_flux)\n",
    "    # print fc1data.vdata.Chopper3[condition1]\n",
    "    fwhms += list(data.FWHM[condition1])\n",
    "    ints += list(data.intensity[condition1])\n",
    "    Eis1 = list(data.vdata.Ei[condition1])\n",
    "    Eis += Eis1\n",
    "    labels += ['Chopper %d - Speed %s' % (Chopper, Speed)] * len(Eis1)\n",
    "    continue\n",
    "highint_Eis = Eis\n",
    "highint_ints = ints\n",
    "highint_FWHMs = fwhms\n",
    "highint_labels = labels"
   ]
  },
  {
   "cell_type": "markdown",
   "metadata": {},
   "source": [
    "## High resolution settings data"
   ]
  },
  {
   "cell_type": "code",
   "execution_count": 43,
   "metadata": {},
   "outputs": [],
   "source": [
    "datamap = {1: fc1data, 2: fc2data}\n",
    "\n",
    "fwhms = list()\n",
    "ints = list()\n",
    "Eis = list()\n",
    "labels = list()\n",
    "# for Ei, Chopper, Speed, T0 in np.loadtxt('HighResSetting.txt', delimiter=','):\n",
    "for Ei, Chopper, Speed, T0 in np.loadtxt('./doug/new_Ei_high_res.csv', delimiter=','):\n",
    "    data = datamap[Chopper]\n",
    "    condition1 = np.logical_and(np.isclose(data.vdata.Energy, Ei), np.isclose(data.chopper_freqs, Speed))\n",
    "    # print fc1data.vdata.Chopper3[condition1]\n",
    "    fwhms += list(data.FWHM[condition1])\n",
    "    ints += list(data.intensity[condition1])\n",
    "    Eis1 = list(data.vdata.Ei[condition1])\n",
    "    Eis += Eis1\n",
    "    labels += ['Chopper %d - Speed %s' % (Chopper, Speed)] * len(Eis1)\n",
    "    continue\n",
    "highres_Eis = Eis\n",
    "highres_FWHMs =  fwhms\n",
    "highres_ints =  ints\n",
    "highres_labels = labels"
   ]
  },
  {
   "cell_type": "code",
   "execution_count": 20,
   "metadata": {},
   "outputs": [],
   "source": [
    "# highres_labels"
   ]
  },
  {
   "cell_type": "markdown",
   "metadata": {},
   "source": [
    "# Intensity vs FWHM"
   ]
  },
  {
   "cell_type": "code",
   "execution_count": 57,
   "metadata": {},
   "outputs": [
    {
     "data": {
      "text/html": [
       "<iframe id=\"igraph\" scrolling=\"no\" style=\"border:none;\" seamless=\"seamless\" src=\"https://plot.ly/~mcvine/18.embed\" height=\"525px\" width=\"100%\"></iframe>"
      ],
      "text/plain": [
       "<plotly.tools.PlotlyDisplay object>"
      ]
     },
     "execution_count": 57,
     "metadata": {},
     "output_type": "execute_result"
    }
   ],
   "source": [
    "Eis = unique_nominal_Eis #[:10]\n",
    "title='ARCS flux (intensity) vs resolution Version 2 \\nuse dropdown list from left to choose incident energy'\n",
    "data =[]\n",
    "buttons = []\n",
    "all_hidden = [False] * len(Eis) * 3 # FC 1 and 2 and FC 1 HighRes\n",
    "extra_info = dict(\n",
    "    chopper_freqs = ('nu', '%sHz'),\n",
    "    FWHM_percentages = ('Resolution percentage', '%.1f%%'),\n",
    "    RunNumber = ('Run no.', '%d'),\n",
    "    Chopper3 = ('T0 chopper', '%d')\n",
    ")\n",
    "max_res_percentage = 15.\n",
    "plot_opts = dict(extra_info=extra_info, max_res_percentage=max_res_percentage)\n",
    "for i, n_Ei in enumerate(Eis):\n",
    "    plot_opts.update(extra_condition = (fc1data.intensity>min_flux))\n",
    "    plot = fc1data.createPlotXY(n_Ei, 'FWHM', 'intensity', **plot_opts)\n",
    "    plot.visible = False\n",
    "    plot.name = 'ARCS-700-1.5'\n",
    "    data.append(plot)\n",
    "    #\n",
    "    plot_opts.update(extra_condition = (fc2data.intensity>min_flux))\n",
    "    plot = fc2data.createPlotXY(n_Ei, 'FWHM', 'intensity', **plot_opts)\n",
    "    plot.visible = False\n",
    "    plot.name = 'ARCS-100-1.5'\n",
    "    data.append(plot)\n",
    "    # \n",
    "    plot_opts.update(extra_condition = (fc1_highres_data.intensity>min_flux))\n",
    "    plot = fc1_highres_data.createPlotXY(n_Ei, 'FWHM', 'intensity', **plot_opts)\n",
    "    plot.visible = False\n",
    "    plot.name = 'ARCS-700-0.5'\n",
    "    data.append(plot)\n",
    "    #\n",
    "    visible = list(all_hidden)\n",
    "    visible[3*i] = True; visible[3*i+1] = True; visible[3*i+2] = True\n",
    "    #\n",
    "    button =  dict(\n",
    "        label = '%smeV' % n_Ei,\n",
    "        method = 'update',\n",
    "        args = [{'visible': visible},\n",
    "                {'title': 'Ei=%smeV %s' % (n_Ei, title),\n",
    "                }])\n",
    "    buttons.append(button)\n",
    "    continue\n",
    "\n",
    "updatemenus = list([\n",
    "    dict(active=-1,\n",
    "         buttons=list(buttons)\n",
    "        )\n",
    "])\n",
    "\n",
    "atEi = Eis.index(100.)\n",
    "data[atEi*3].visible = data[atEi*3+1].visible = data[atEi*3+2].visible = True\n",
    "\n",
    "layout = dict(\n",
    "    title=title, \n",
    "    # showlegend=False, \n",
    "    updatemenus=updatemenus,\n",
    "    xaxis=dict(\n",
    "        title='FWHM (meV)',\n",
    "        showspikes=True,\n",
    "    ),\n",
    "    yaxis=dict(\n",
    "        title='Flux -- Peak area (counts/s/cm^2/MW)',\n",
    "        showspikes=True,\n",
    "    ),\n",
    "    hovermode=\"closest\",\n",
    ")\n",
    "fig = dict(data=data, layout=layout)\n",
    "py.iplot(fig, filename='ARCS flux (intensity) vs resolution: Version 2')"
   ]
  },
  {
   "cell_type": "code",
   "execution_count": null,
   "metadata": {},
   "outputs": [],
   "source": []
  },
  {
   "cell_type": "markdown",
   "metadata": {},
   "source": [
    "# Peak height vs FWHM"
   ]
  },
  {
   "cell_type": "code",
   "execution_count": 59,
   "metadata": {},
   "outputs": [
    {
     "data": {
      "text/html": [
       "<iframe id=\"igraph\" scrolling=\"no\" style=\"border:none;\" seamless=\"seamless\" src=\"https://plot.ly/~mcvine/20.embed\" height=\"525px\" width=\"100%\"></iframe>"
      ],
      "text/plain": [
       "<plotly.tools.PlotlyDisplay object>"
      ]
     },
     "execution_count": 59,
     "metadata": {},
     "output_type": "execute_result"
    }
   ],
   "source": [
    "Eis = unique_nominal_Eis #[:10]\n",
    "title='ARCS flux (peak height) vs resolution Version 2\\nuse dropdown list from left to choose incident energy'\n",
    "data =[]\n",
    "buttons = []\n",
    "all_hidden = [False] * len(Eis) * 3 # FC 1 and 2 and FC1-HighRes\n",
    "extra_info = dict(\n",
    "    chopper_freqs = ('nu', '%sHz'),\n",
    "    FWHM_percentages = ('Resolution percentage', '%.1f%%')\n",
    ")\n",
    "max_res_percentage = 15.\n",
    "plot_opts = dict(extra_info=extra_info, max_res_percentage=max_res_percentage)\n",
    "for i, n_Ei in enumerate(Eis):\n",
    "    plot_opts.update(extra_condition = (fc1data.intensity>min_flux))\n",
    "    plot = fc1data.createPlotXY(n_Ei, 'FWHM', 'Height', **plot_opts)\n",
    "    plot.visible = False\n",
    "    plot.name = 'ARCS-700-1.5'\n",
    "    data.append(plot)\n",
    "    #\n",
    "    plot_opts.update(extra_condition = (fc2data.intensity>min_flux))\n",
    "    plot = fc2data.createPlotXY(n_Ei, 'FWHM', 'Height', **plot_opts)\n",
    "    plot.visible = False\n",
    "    plot.name = 'ARCS-100-1.5'\n",
    "    data.append(plot)\n",
    "    #\n",
    "    plot_opts.update(extra_condition = (fc1_highres_data.intensity>min_flux))\n",
    "    plot = fc1_highres_data.createPlotXY(n_Ei, 'FWHM', 'Height', **plot_opts)\n",
    "    plot.visible = False\n",
    "    plot.name = 'ARCS-700-0.5'\n",
    "    data.append(plot)\n",
    "    # \n",
    "    visible = list(all_hidden)\n",
    "    visible[3*i] = True; visible[3*i+1] = True; visible[3*i+2] = True\n",
    "    #\n",
    "    button =  dict(\n",
    "        label = '%smeV' % n_Ei,\n",
    "        method = 'update',\n",
    "        args = [{'visible': visible},\n",
    "                {'title': 'Ei=%smeV %s' % (n_Ei, title),\n",
    "                }])\n",
    "    buttons.append(button)\n",
    "    continue\n",
    "\n",
    "updatemenus = list([\n",
    "    dict(active=-1,\n",
    "         buttons=list(buttons)\n",
    "        )\n",
    "])\n",
    "\n",
    "atEi = Eis.index(100.)\n",
    "data[atEi*3].visible = data[atEi*3+1].visible = data[atEi*3+2].visible = True\n",
    "\n",
    "layout = dict(\n",
    "    title=title, \n",
    "    # showlegend=False, \n",
    "    updatemenus=updatemenus,\n",
    "    xaxis=dict(\n",
    "        title='FWHM (meV)',\n",
    "        showspikes=True,\n",
    "    ),\n",
    "    yaxis=dict(\n",
    "        title='Flux -- Peak height (arb. unit)',\n",
    "        showspikes=True,\n",
    "    ),\n",
    "    hovermode=\"closest\",\n",
    ")\n",
    "fig = dict(data=data, layout=layout)\n",
    "py.iplot(fig, filename='ARCS flux (peak height) vs resolution: Version 2')"
   ]
  },
  {
   "cell_type": "markdown",
   "metadata": {},
   "source": [
    "# FWHM vs Freq"
   ]
  },
  {
   "cell_type": "code",
   "execution_count": 60,
   "metadata": {},
   "outputs": [
    {
     "data": {
      "text/html": [
       "<iframe id=\"igraph\" scrolling=\"no\" style=\"border:none;\" seamless=\"seamless\" src=\"https://plot.ly/~mcvine/34.embed\" height=\"525px\" width=\"100%\"></iframe>"
      ],
      "text/plain": [
       "<plotly.tools.PlotlyDisplay object>"
      ]
     },
     "execution_count": 60,
     "metadata": {},
     "output_type": "execute_result"
    }
   ],
   "source": [
    "Eis = unique_nominal_Eis #[:10]\n",
    "title='ARCS resolution vs frequency Version 2 \\nuse dropdown list from left to choose incident energy'\n",
    "data =[]\n",
    "buttons = []\n",
    "all_hidden = [False] * len(Eis) * 3 # FC 1 and 2 and FC 1 HighRes\n",
    "extra_info = dict(\n",
    "    FWHM_percentages = ('Resolution percentage', '%.1f%%'),\n",
    "    RunNumber = ('Run no.', '%d'),\n",
    "    Chopper3 = ('T0 chopper', '%d')\n",
    ")\n",
    "max_res_percentage = 15.\n",
    "plot_opts = dict(extra_info=extra_info, max_res_percentage=max_res_percentage)\n",
    "for i, n_Ei in enumerate(Eis):\n",
    "    plot_opts.update(extra_condition = (fc1data.intensity>min_flux))\n",
    "    plot = fc1data.createPlotXY(n_Ei, 'chopper_freqs', 'FWHM', **plot_opts)\n",
    "    plot.visible = False\n",
    "    plot.name = 'ARCS-100-1.5'\n",
    "    data.append(plot)\n",
    "    #\n",
    "    plot_opts.update(extra_condition = (fc2data.intensity>min_flux))\n",
    "    plot = fc2data.createPlotXY(n_Ei, 'chopper_freqs', 'FWHM', **plot_opts)\n",
    "    plot.visible = False\n",
    "    plot.name = 'ARCS-700-1.5'\n",
    "    data.append(plot)\n",
    "    # \n",
    "    plot_opts.update(extra_condition = (fc1_highres_data.intensity>min_flux))\n",
    "    plot = fc1_highres_data.createPlotXY(n_Ei, 'chopper_freqs', 'FWHM', **plot_opts)\n",
    "    plot.visible = False\n",
    "    plot.name = 'ARCS-700-0.5'\n",
    "    data.append(plot)\n",
    "    #\n",
    "    visible = list(all_hidden)\n",
    "    visible[3*i] = True; visible[3*i+1] = True; visible[3*i+2] = True\n",
    "    #\n",
    "    button =  dict(\n",
    "        label = '%smeV' % n_Ei,\n",
    "        method = 'update',\n",
    "        args = [{'visible': visible},\n",
    "                {'title': 'Ei=%smeV %s' % (n_Ei, title),\n",
    "                }])\n",
    "    buttons.append(button)\n",
    "    continue\n",
    "\n",
    "updatemenus = list([\n",
    "    dict(active=-1,\n",
    "         buttons=list(buttons)\n",
    "        )\n",
    "])\n",
    "\n",
    "atEi = Eis.index(100.)\n",
    "data[atEi*3].visible = data[atEi*3+1].visible = data[atEi*3+2].visible = True\n",
    "\n",
    "layout = dict(\n",
    "    title=title, \n",
    "    # showlegend=False, \n",
    "    updatemenus=updatemenus,\n",
    "    xaxis=dict(\n",
    "        title='Chopper Frequency (Hz)',\n",
    "        showspikes=True,\n",
    "    ),\n",
    "    yaxis=dict(\n",
    "        title='FWHM (meV)',\n",
    "        showspikes=True,\n",
    "    ),\n",
    "    hovermode=\"closest\",\n",
    ")\n",
    "fig = dict(data=data, layout=layout)\n",
    "py.iplot(fig, filename='ARCS resolution vs frequency: Version 2')"
   ]
  },
  {
   "cell_type": "markdown",
   "metadata": {},
   "source": [
    "# {} vs Ei"
   ]
  },
  {
   "cell_type": "code",
   "execution_count": 38,
   "metadata": {},
   "outputs": [],
   "source": [
    "import plotly, plotly.plotly as py, plotly.figure_factory as ff, plotly.graph_objs as go"
   ]
  },
  {
   "cell_type": "code",
   "execution_count": 39,
   "metadata": {},
   "outputs": [],
   "source": [
    "# fc1data.vdata.Energy"
   ]
  },
  {
   "cell_type": "code",
   "execution_count": 40,
   "metadata": {},
   "outputs": [],
   "source": [
    "datalist = [\n",
    "    dict(name='ARCS-700-1.5', data=fc1data),\n",
    "    dict(name='ARCS-100-1.5', data=fc2data),\n",
    "    dict(name='ARCS-700-0.5', data=fc1_highres_data),\n",
    "]"
   ]
  },
  {
   "cell_type": "markdown",
   "metadata": {},
   "source": [
    "## Intensity vs Ei"
   ]
  },
  {
   "cell_type": "code",
   "execution_count": 48,
   "metadata": {},
   "outputs": [
    {
     "data": {
      "text/html": [
       "<iframe id=\"igraph\" scrolling=\"no\" style=\"border:none;\" seamless=\"seamless\" src=\"https://plot.ly/~mcvine/28.embed\" height=\"525px\" width=\"100%\"></iframe>"
      ],
      "text/plain": [
       "<plotly.tools.PlotlyDisplay object>"
      ]
     },
     "execution_count": 48,
     "metadata": {},
     "output_type": "execute_result"
    }
   ],
   "source": [
    "data = []\n",
    "for dataitem in datalist:\n",
    "    fcdata = dataitem['data']\n",
    "    good = fcdata.intensity>min_flux\n",
    "    name = dataitem['name']\n",
    "    labels = ['%s - %sHz' % (name, freq) for freq in fcdata.chopper_freqs[good] ]\n",
    "    plot = go.Scatter(\n",
    "        x=fcdata.vdata.Ei[good],\n",
    "        y=fcdata.intensity[good],\n",
    "        mode='markers',\n",
    "        text=labels,\n",
    "        hoverinfo = 'x + y + text'\n",
    "    )\n",
    "\n",
    "    plot.visible = True\n",
    "    plot.name = name\n",
    "    data.append(plot)\n",
    "    continue\n",
    "\n",
    "plot = go.Scatter(\n",
    "    x=highint_Eis,\n",
    "    y=highint_ints,\n",
    "    mode='markers',\n",
    "    marker=dict(size=10, symbol=\"triangle-up-open\"),\n",
    "    text=highint_labels,\n",
    "    hoverinfo = 'x + y + text'\n",
    ")\n",
    "plot.visible = True\n",
    "plot.name = \"Auto flux settings\"\n",
    "data.append(plot)\n",
    "\n",
    "plot = go.Scatter(\n",
    "    x=highres_Eis,\n",
    "    y=highres_ints,\n",
    "    mode='markers',\n",
    "    marker=dict(size=10, symbol=\"triangle-down-open\"),\n",
    "    text=highres_labels,\n",
    "    hoverinfo = 'x + y + text'\n",
    ")\n",
    "plot.visible = True\n",
    "plot.name = \"Auto resolution settings\"\n",
    "data.append(plot)\n",
    "\n",
    "\n",
    "title = 'Intensity vs Incident Energy'\n",
    "layout = dict(\n",
    "    title=title, \n",
    "    # showlegend=False, \n",
    "    # updatemenus=updatemenus,\n",
    "    xaxis=dict(\n",
    "        type='log',\n",
    "        title='Ei (meV)',\n",
    "        showspikes=True,\n",
    "    ),\n",
    "    yaxis=dict(\n",
    "        type='log',\n",
    "        title='Flux -- Intensity (counts/s/cm^2/MW)',\n",
    "        showspikes=True,\n",
    "    ),\n",
    "    hovermode=\"closest\",\n",
    ")\n",
    "fig = dict(data=data, layout=layout)\n",
    "py.iplot(fig, filename='ARCS flux (intensity) vs Ei')"
   ]
  },
  {
   "cell_type": "markdown",
   "metadata": {},
   "source": [
    "## FWHM vs Ei"
   ]
  },
  {
   "cell_type": "code",
   "execution_count": 49,
   "metadata": {},
   "outputs": [
    {
     "data": {
      "text/html": [
       "<iframe id=\"igraph\" scrolling=\"no\" style=\"border:none;\" seamless=\"seamless\" src=\"https://plot.ly/~mcvine/30.embed\" height=\"525px\" width=\"100%\"></iframe>"
      ],
      "text/plain": [
       "<plotly.tools.PlotlyDisplay object>"
      ]
     },
     "execution_count": 49,
     "metadata": {},
     "output_type": "execute_result"
    }
   ],
   "source": [
    "data = []\n",
    "\n",
    "for dataitem in datalist:\n",
    "    fcdata = dataitem['data']\n",
    "    good = fcdata.intensity>min_flux\n",
    "    name = dataitem['name']\n",
    "    labels = ['%s - %sHz' % (name, freq) for freq in fcdata.chopper_freqs[good] ]\n",
    "    plot = go.Scatter(\n",
    "        x=fcdata.vdata.Ei[good],\n",
    "        y=fcdata.FWHM[good],\n",
    "        mode='markers',\n",
    "        text=labels,\n",
    "        hoverinfo = 'x + y + text'\n",
    "    )\n",
    "\n",
    "    plot.visible = True\n",
    "    plot.name = name\n",
    "    data.append(plot)\n",
    "    continue\n",
    "\n",
    "plot = go.Scatter(\n",
    "    x=highint_Eis,\n",
    "    y=highint_FWHMs,\n",
    "    mode='markers',\n",
    "    marker=dict(size=10, symbol=\"triangle-up-open\"),\n",
    "    text=highint_labels,\n",
    "    hoverinfo = 'x + y + text'\n",
    ")\n",
    "plot.visible = True\n",
    "plot.name = \"Auto flux settings\"\n",
    "data.append(plot)\n",
    "\n",
    "plot = go.Scatter(\n",
    "    x=highres_Eis,\n",
    "    y=highres_FWHMs,\n",
    "    mode='markers',\n",
    "    marker=dict(size=10, symbol=\"triangle-down-open\"),\n",
    "    text=highres_labels,\n",
    "    hoverinfo = 'x + y + text'\n",
    ")\n",
    "plot.visible = True\n",
    "plot.name = \"Auto resolution settings\"\n",
    "data.append(plot)\n",
    "\n",
    "title = 'FWHM vs Incident Energy'\n",
    "layout = dict(\n",
    "    title=title, \n",
    "    # showlegend=False, \n",
    "    # updatemenus=updatemenus,\n",
    "    xaxis=dict(\n",
    "        type='log',\n",
    "        title='Ei (meV)',\n",
    "        showspikes=True,\n",
    "    ),\n",
    "    yaxis=dict(\n",
    "        type='log',\n",
    "        title='FWHM (meV)',\n",
    "        showspikes=True,\n",
    "    ),\n",
    "    hovermode=\"closest\",\n",
    ")\n",
    "fig = dict(data=data, layout=layout)\n",
    "py.iplot(fig, filename='ARCS resolution (FWHM) vs Ei')"
   ]
  },
  {
   "cell_type": "code",
   "execution_count": null,
   "metadata": {},
   "outputs": [],
   "source": []
  },
  {
   "cell_type": "markdown",
   "metadata": {},
   "source": [
    "## Peak Height vs Ei"
   ]
  },
  {
   "cell_type": "code",
   "execution_count": 20,
   "metadata": {},
   "outputs": [
    {
     "data": {
      "text/html": [
       "<iframe id=\"igraph\" scrolling=\"no\" style=\"border:none;\" seamless=\"seamless\" src=\"https://plot.ly/~mcvine/32.embed\" height=\"525px\" width=\"100%\"></iframe>"
      ],
      "text/plain": [
       "<plotly.tools.PlotlyDisplay object>"
      ]
     },
     "execution_count": 20,
     "metadata": {},
     "output_type": "execute_result"
    }
   ],
   "source": [
    "data = []\n",
    "\n",
    "for dataitem in datalist:\n",
    "    fcdata = dataitem['data']\n",
    "    name = dataitem['name']\n",
    "    labels = ['%s - %sHz' % (name, freq) for freq in fcdata.chopper_freqs ]\n",
    "    plot = go.Scatter(\n",
    "        x=fcdata.vdata.Ei,\n",
    "        y=fcdata.vdata.Height,\n",
    "        mode='markers',\n",
    "        text=labels,\n",
    "        hoverinfo = 'x + y + text'\n",
    "    )\n",
    "\n",
    "    plot.visible = True\n",
    "    plot.name = name\n",
    "    data.append(plot)\n",
    "    continue\n",
    "\n",
    "title = 'Flux (peak height) vs Incident Energy'\n",
    "layout = dict(\n",
    "    title=title, \n",
    "    # showlegend=False, \n",
    "    # updatemenus=updatemenus,\n",
    "    xaxis=dict(\n",
    "        type='log',\n",
    "        title='Ei (meV)',\n",
    "        showspikes=True,\n",
    "    ),\n",
    "    yaxis=dict(\n",
    "        # type='log',\n",
    "        title='Flux -- Peak height (arb unit)',\n",
    "        showspikes=True,\n",
    "    ),\n",
    "    hovermode=\"closest\",\n",
    ")\n",
    "fig = dict(data=data, layout=layout)\n",
    "py.iplot(fig, filename='ARCS flux (peak height) vs Ei')"
   ]
  },
  {
   "cell_type": "code",
   "execution_count": null,
   "metadata": {},
   "outputs": [],
   "source": []
  }
 ],
 "metadata": {
  "kernelspec": {
   "display_name": "DGS-powder at jnrk-sns-analysis",
   "language": "python",
   "name": "jnrk-sns-analysis-dgs-powder"
  },
  "language_info": {
   "codemirror_mode": {
    "name": "ipython",
    "version": 2
   },
   "file_extension": ".py",
   "mimetype": "text/x-python",
   "name": "python",
   "nbconvert_exporter": "python",
   "pygments_lexer": "ipython2",
   "version": "2.7.14"
  },
  "toc": {
   "base_numbering": 1,
   "nav_menu": {},
   "number_sections": true,
   "sideBar": true,
   "skip_h1_title": false,
   "title_cell": "Table of Contents",
   "title_sidebar": "Contents",
   "toc_cell": false,
   "toc_position": {},
   "toc_section_display": true,
   "toc_window_display": true
  }
 },
 "nbformat": 4,
 "nbformat_minor": 1
}
