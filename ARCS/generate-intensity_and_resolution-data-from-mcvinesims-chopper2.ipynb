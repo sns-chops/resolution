{
 "cells": [
  {
   "cell_type": "code",
   "execution_count": 1,
   "metadata": {},
   "outputs": [
    {
     "name": "stdout",
     "output_type": "stream",
     "text": [
      "/SNS/users/lj7/dv/sns-chops/resolution/ARCS\n"
     ]
    }
   ],
   "source": [
    "cd /SNS/users/lj7/dv/sns-chops/resolution/ARCS/"
   ]
  },
  {
   "cell_type": "code",
   "execution_count": 10,
   "metadata": {},
   "outputs": [],
   "source": [
    "import histogram.hdf as hh, numpy as np, os, glob"
   ]
  },
  {
   "cell_type": "code",
   "execution_count": 3,
   "metadata": {},
   "outputs": [],
   "source": [
    "%matplotlib notebook"
   ]
  },
  {
   "cell_type": "code",
   "execution_count": 23,
   "metadata": {},
   "outputs": [],
   "source": [
    "Ei_list = 10., 100., 400."
   ]
  },
  {
   "cell_type": "code",
   "execution_count": 7,
   "metadata": {},
   "outputs": [],
   "source": [
    "freqs = np.arange(60., 601., 60)"
   ]
  },
  {
   "cell_type": "code",
   "execution_count": 26,
   "metadata": {},
   "outputs": [],
   "source": [
    "%%time\n",
    "table = []\n",
    "for Ei in Ei_list:\n",
    "    for freq in freqs:\n",
    "        # FWHM\n",
    "        dir = 'mcvine/Ei_%s/resolution-FC_%s' % (int(Ei), freq)\n",
    "        if not os.path.exists(dir): continue\n",
    "        files = glob.glob(os.path.join(dir, 'out/ie-Q_*-E_0.0.h5'))\n",
    "        if not files: continue\n",
    "        fn = files[0]\n",
    "        h = hh.load(fn)\n",
    "        Is = h.I\n",
    "        Es = h.E\n",
    "        maxI = np.max(Is)\n",
    "        upper = Es[Is > maxI/2.]\n",
    "        FWHM = upper[-1] - upper[0]\n",
    "        # counts\n",
    "        dir = 'mcvine/Ei_%s/beam-FC_%s' % (int(Ei), freq)\n",
    "        fn = os.path.join(dir, 'out/ienergy.h5')\n",
    "        h = hh.load(fn)\n",
    "        counts = h.I.sum()\n",
    "        record = Ei, freq, FWHM, counts\n",
    "        table.append(record)\n",
    "        continue"
   ]
  },
  {
   "cell_type": "code",
   "execution_count": 28,
   "metadata": {},
   "outputs": [],
   "source": [
    "table = np.array(table)"
   ]
  },
  {
   "cell_type": "code",
   "execution_count": 30,
   "metadata": {},
   "outputs": [],
   "source": [
    "np.savetxt('mcvine-FWHM-counts.dat', table)"
   ]
  },
  {
   "cell_type": "code",
   "execution_count": 31,
   "metadata": {},
   "outputs": [],
   "source": [
    "more ./mcvine-FWHM-counts.dat"
   ]
  },
  {
   "cell_type": "code",
   "execution_count": null,
   "metadata": {},
   "outputs": [],
   "source": []
  }
 ],
 "metadata": {
  "kernelspec": {
   "display_name": "mcvine-unstable at jnrk-sns-analysis",
   "language": "python",
   "name": "jnrk-analysis-mcvine-unstable"
  },
  "language_info": {
   "codemirror_mode": {
    "name": "ipython",
    "version": 2
   },
   "file_extension": ".py",
   "mimetype": "text/x-python",
   "name": "python",
   "nbconvert_exporter": "python",
   "pygments_lexer": "ipython2",
   "version": "2.7.12"
  },
  "toc": {
   "base_numbering": 1,
   "nav_menu": {},
   "number_sections": true,
   "sideBar": true,
   "skip_h1_title": false,
   "title_cell": "Table of Contents",
   "title_sidebar": "Contents",
   "toc_cell": false,
   "toc_position": {},
   "toc_section_display": true,
   "toc_window_display": false
  }
 },
 "nbformat": 4,
 "nbformat_minor": 1
}
