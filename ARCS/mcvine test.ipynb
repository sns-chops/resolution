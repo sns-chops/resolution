{
 "cells": [
  {
   "cell_type": "code",
   "execution_count": 1,
   "metadata": {},
   "outputs": [],
   "source": [
    "import os, numpy as np\n",
    "import histogram.hdf as hh\n",
    "import mcvine, mcvine.components, mcvine.run_script\n",
    "\n",
    "from matplotlib import pyplot as plt\n",
    "%matplotlib notebook"
   ]
  },
  {
   "cell_type": "code",
   "execution_count": 2,
   "metadata": {},
   "outputs": [],
   "source": [
    "from mcni.utils import conversion as C"
   ]
  },
  {
   "cell_type": "code",
   "execution_count": 3,
   "metadata": {},
   "outputs": [
    {
     "name": "stdout",
     "output_type": "stream",
     "text": [
      "/SNS/users/lj7/dv/sns-chops/resolution/ARCS/whitebeam\n"
     ]
    }
   ],
   "source": [
    "workdir = os.path.expanduser(\"/SNS/users/lj7/dv/sns-chops/resolution/ARCS/whitebeam/\")\n",
    "!mkdir -p {workdir}\n",
    "%cd {workdir}"
   ]
  },
  {
   "cell_type": "markdown",
   "metadata": {},
   "source": [
    "# Test non-pyre\n"
   ]
  },
  {
   "cell_type": "code",
   "execution_count": 4,
   "metadata": {},
   "outputs": [],
   "source": [
    "import mcvine, mcvine.components as mcomps"
   ]
  },
  {
   "cell_type": "code",
   "execution_count": 66,
   "metadata": {},
   "outputs": [
    {
     "name": "stdout",
     "output_type": "stream",
     "text": [
      "Overwriting test_E_mon.py\n"
     ]
    }
   ],
   "source": [
    "%%file test_E_mon.py\n",
    "\n",
    "import numpy as np\n",
    "import mcvine, mcvine.components as mcomps\n",
    "\n",
    "def instrument():\n",
    "    instrument = mcvine.instrument()\n",
    "\n",
    "    src = mcomps.sources.Source_simple(name='player', dist=1., E0=500, dE=200, gauss=0)\n",
    "    instrument.append(src, position=(0.,0,0), orientation=(0,0,0))\n",
    "    \n",
    "    save = mcomps.monitors.NeutronToStorage(name='save', path='neutrons')\n",
    "    instrument.append(save, position=(0, 0, 1.), orientation=(0,0,0))\n",
    "    \n",
    "    E_det = mcomps.monitors.E_monitor(\n",
    "        name='E_det', nchan=2,\n",
    "        xmin=-.05, xmax=.05, ymin=-.025, ymax=.05,\n",
    "        Emin=0, Emax=10000.,\n",
    "        filename='E.dat', )\n",
    "    instrument.append(E_det, position=(0.0, 0.0, 1.001), orientation=(0, 0, 0))\n",
    "    return instrument"
   ]
  },
  {
   "cell_type": "code",
   "execution_count": 67,
   "metadata": {},
   "outputs": [],
   "source": [
    "rm -rf work-test_E_mon/"
   ]
  },
  {
   "cell_type": "code",
   "execution_count": 68,
   "metadata": {
    "scrolled": true
   },
   "outputs": [
    {
     "name": "stdout",
     "output_type": "stream",
     "text": [
      "Source_simple: initialized.\n",
      "E_monitor: initialized. E window=0,10000, x window=-0.1,0.1, y window = -0.1, 0.1\n",
      "finalize component \"player\"\n",
      "<E> : 500.105 meV , E-width : 115.427 meV \n",
      "E_monitor: saved data to file 'E.dat'.\n",
      "E_monitor: finalized.\n",
      "finalize component \"E_det\"\n",
      "CPU times: user 177 ms, sys: 58.8 ms, total: 236 ms\n",
      "Wall time: 11.1 s\n"
     ]
    }
   ],
   "source": [
    "%%time\n",
    "ncount = \"1e6\"\n",
    "!python -m \"mcvine.run_script\" test_E_mon.py \\\n",
    "    --workdir work-test_E_mon --overwrite_datafiles \\\n",
    "    --ncount {int(float(ncount))}  --mpi-mode server --nodes 1 \\\n",
    "    --run-pps"
   ]
  },
  {
   "cell_type": "code",
   "execution_count": null,
   "metadata": {},
   "outputs": [],
   "source": []
  },
  {
   "cell_type": "code",
   "execution_count": 69,
   "metadata": {},
   "outputs": [
    {
     "data": {
      "application/javascript": [
       "/* Put everything inside the global mpl namespace */\n",
       "window.mpl = {};\n",
       "\n",
       "\n",
       "mpl.get_websocket_type = function() {\n",
       "    if (typeof(WebSocket) !== 'undefined') {\n",
       "        return WebSocket;\n",
       "    } else if (typeof(MozWebSocket) !== 'undefined') {\n",
       "        return MozWebSocket;\n",
       "    } else {\n",
       "        alert('Your browser does not have WebSocket support.' +\n",
       "              'Please try Chrome, Safari or Firefox ≥ 6. ' +\n",
       "              'Firefox 4 and 5 are also supported but you ' +\n",
       "              'have to enable WebSockets in about:config.');\n",
       "    };\n",
       "}\n",
       "\n",
       "mpl.figure = function(figure_id, websocket, ondownload, parent_element) {\n",
       "    this.id = figure_id;\n",
       "\n",
       "    this.ws = websocket;\n",
       "\n",
       "    this.supports_binary = (this.ws.binaryType != undefined);\n",
       "\n",
       "    if (!this.supports_binary) {\n",
       "        var warnings = document.getElementById(\"mpl-warnings\");\n",
       "        if (warnings) {\n",
       "            warnings.style.display = 'block';\n",
       "            warnings.textContent = (\n",
       "                \"This browser does not support binary websocket messages. \" +\n",
       "                    \"Performance may be slow.\");\n",
       "        }\n",
       "    }\n",
       "\n",
       "    this.imageObj = new Image();\n",
       "\n",
       "    this.context = undefined;\n",
       "    this.message = undefined;\n",
       "    this.canvas = undefined;\n",
       "    this.rubberband_canvas = undefined;\n",
       "    this.rubberband_context = undefined;\n",
       "    this.format_dropdown = undefined;\n",
       "\n",
       "    this.image_mode = 'full';\n",
       "\n",
       "    this.root = $('<div/>');\n",
       "    this._root_extra_style(this.root)\n",
       "    this.root.attr('style', 'display: inline-block');\n",
       "\n",
       "    $(parent_element).append(this.root);\n",
       "\n",
       "    this._init_header(this);\n",
       "    this._init_canvas(this);\n",
       "    this._init_toolbar(this);\n",
       "\n",
       "    var fig = this;\n",
       "\n",
       "    this.waiting = false;\n",
       "\n",
       "    this.ws.onopen =  function () {\n",
       "            fig.send_message(\"supports_binary\", {value: fig.supports_binary});\n",
       "            fig.send_message(\"send_image_mode\", {});\n",
       "            if (mpl.ratio != 1) {\n",
       "                fig.send_message(\"set_dpi_ratio\", {'dpi_ratio': mpl.ratio});\n",
       "            }\n",
       "            fig.send_message(\"refresh\", {});\n",
       "        }\n",
       "\n",
       "    this.imageObj.onload = function() {\n",
       "            if (fig.image_mode == 'full') {\n",
       "                // Full images could contain transparency (where diff images\n",
       "                // almost always do), so we need to clear the canvas so that\n",
       "                // there is no ghosting.\n",
       "                fig.context.clearRect(0, 0, fig.canvas.width, fig.canvas.height);\n",
       "            }\n",
       "            fig.context.drawImage(fig.imageObj, 0, 0);\n",
       "        };\n",
       "\n",
       "    this.imageObj.onunload = function() {\n",
       "        fig.ws.close();\n",
       "    }\n",
       "\n",
       "    this.ws.onmessage = this._make_on_message_function(this);\n",
       "\n",
       "    this.ondownload = ondownload;\n",
       "}\n",
       "\n",
       "mpl.figure.prototype._init_header = function() {\n",
       "    var titlebar = $(\n",
       "        '<div class=\"ui-dialog-titlebar ui-widget-header ui-corner-all ' +\n",
       "        'ui-helper-clearfix\"/>');\n",
       "    var titletext = $(\n",
       "        '<div class=\"ui-dialog-title\" style=\"width: 100%; ' +\n",
       "        'text-align: center; padding: 3px;\"/>');\n",
       "    titlebar.append(titletext)\n",
       "    this.root.append(titlebar);\n",
       "    this.header = titletext[0];\n",
       "}\n",
       "\n",
       "\n",
       "\n",
       "mpl.figure.prototype._canvas_extra_style = function(canvas_div) {\n",
       "\n",
       "}\n",
       "\n",
       "\n",
       "mpl.figure.prototype._root_extra_style = function(canvas_div) {\n",
       "\n",
       "}\n",
       "\n",
       "mpl.figure.prototype._init_canvas = function() {\n",
       "    var fig = this;\n",
       "\n",
       "    var canvas_div = $('<div/>');\n",
       "\n",
       "    canvas_div.attr('style', 'position: relative; clear: both; outline: 0');\n",
       "\n",
       "    function canvas_keyboard_event(event) {\n",
       "        return fig.key_event(event, event['data']);\n",
       "    }\n",
       "\n",
       "    canvas_div.keydown('key_press', canvas_keyboard_event);\n",
       "    canvas_div.keyup('key_release', canvas_keyboard_event);\n",
       "    this.canvas_div = canvas_div\n",
       "    this._canvas_extra_style(canvas_div)\n",
       "    this.root.append(canvas_div);\n",
       "\n",
       "    var canvas = $('<canvas/>');\n",
       "    canvas.addClass('mpl-canvas');\n",
       "    canvas.attr('style', \"left: 0; top: 0; z-index: 0; outline: 0\")\n",
       "\n",
       "    this.canvas = canvas[0];\n",
       "    this.context = canvas[0].getContext(\"2d\");\n",
       "\n",
       "    var backingStore = this.context.backingStorePixelRatio ||\n",
       "\tthis.context.webkitBackingStorePixelRatio ||\n",
       "\tthis.context.mozBackingStorePixelRatio ||\n",
       "\tthis.context.msBackingStorePixelRatio ||\n",
       "\tthis.context.oBackingStorePixelRatio ||\n",
       "\tthis.context.backingStorePixelRatio || 1;\n",
       "\n",
       "    mpl.ratio = (window.devicePixelRatio || 1) / backingStore;\n",
       "\n",
       "    var rubberband = $('<canvas/>');\n",
       "    rubberband.attr('style', \"position: absolute; left: 0; top: 0; z-index: 1;\")\n",
       "\n",
       "    var pass_mouse_events = true;\n",
       "\n",
       "    canvas_div.resizable({\n",
       "        start: function(event, ui) {\n",
       "            pass_mouse_events = false;\n",
       "        },\n",
       "        resize: function(event, ui) {\n",
       "            fig.request_resize(ui.size.width, ui.size.height);\n",
       "        },\n",
       "        stop: function(event, ui) {\n",
       "            pass_mouse_events = true;\n",
       "            fig.request_resize(ui.size.width, ui.size.height);\n",
       "        },\n",
       "    });\n",
       "\n",
       "    function mouse_event_fn(event) {\n",
       "        if (pass_mouse_events)\n",
       "            return fig.mouse_event(event, event['data']);\n",
       "    }\n",
       "\n",
       "    rubberband.mousedown('button_press', mouse_event_fn);\n",
       "    rubberband.mouseup('button_release', mouse_event_fn);\n",
       "    // Throttle sequential mouse events to 1 every 20ms.\n",
       "    rubberband.mousemove('motion_notify', mouse_event_fn);\n",
       "\n",
       "    rubberband.mouseenter('figure_enter', mouse_event_fn);\n",
       "    rubberband.mouseleave('figure_leave', mouse_event_fn);\n",
       "\n",
       "    canvas_div.on(\"wheel\", function (event) {\n",
       "        event = event.originalEvent;\n",
       "        event['data'] = 'scroll'\n",
       "        if (event.deltaY < 0) {\n",
       "            event.step = 1;\n",
       "        } else {\n",
       "            event.step = -1;\n",
       "        }\n",
       "        mouse_event_fn(event);\n",
       "    });\n",
       "\n",
       "    canvas_div.append(canvas);\n",
       "    canvas_div.append(rubberband);\n",
       "\n",
       "    this.rubberband = rubberband;\n",
       "    this.rubberband_canvas = rubberband[0];\n",
       "    this.rubberband_context = rubberband[0].getContext(\"2d\");\n",
       "    this.rubberband_context.strokeStyle = \"#000000\";\n",
       "\n",
       "    this._resize_canvas = function(width, height) {\n",
       "        // Keep the size of the canvas, canvas container, and rubber band\n",
       "        // canvas in synch.\n",
       "        canvas_div.css('width', width)\n",
       "        canvas_div.css('height', height)\n",
       "\n",
       "        canvas.attr('width', width * mpl.ratio);\n",
       "        canvas.attr('height', height * mpl.ratio);\n",
       "        canvas.attr('style', 'width: ' + width + 'px; height: ' + height + 'px;');\n",
       "\n",
       "        rubberband.attr('width', width);\n",
       "        rubberband.attr('height', height);\n",
       "    }\n",
       "\n",
       "    // Set the figure to an initial 600x600px, this will subsequently be updated\n",
       "    // upon first draw.\n",
       "    this._resize_canvas(600, 600);\n",
       "\n",
       "    // Disable right mouse context menu.\n",
       "    $(this.rubberband_canvas).bind(\"contextmenu\",function(e){\n",
       "        return false;\n",
       "    });\n",
       "\n",
       "    function set_focus () {\n",
       "        canvas.focus();\n",
       "        canvas_div.focus();\n",
       "    }\n",
       "\n",
       "    window.setTimeout(set_focus, 100);\n",
       "}\n",
       "\n",
       "mpl.figure.prototype._init_toolbar = function() {\n",
       "    var fig = this;\n",
       "\n",
       "    var nav_element = $('<div/>')\n",
       "    nav_element.attr('style', 'width: 100%');\n",
       "    this.root.append(nav_element);\n",
       "\n",
       "    // Define a callback function for later on.\n",
       "    function toolbar_event(event) {\n",
       "        return fig.toolbar_button_onclick(event['data']);\n",
       "    }\n",
       "    function toolbar_mouse_event(event) {\n",
       "        return fig.toolbar_button_onmouseover(event['data']);\n",
       "    }\n",
       "\n",
       "    for(var toolbar_ind in mpl.toolbar_items) {\n",
       "        var name = mpl.toolbar_items[toolbar_ind][0];\n",
       "        var tooltip = mpl.toolbar_items[toolbar_ind][1];\n",
       "        var image = mpl.toolbar_items[toolbar_ind][2];\n",
       "        var method_name = mpl.toolbar_items[toolbar_ind][3];\n",
       "\n",
       "        if (!name) {\n",
       "            // put a spacer in here.\n",
       "            continue;\n",
       "        }\n",
       "        var button = $('<button/>');\n",
       "        button.addClass('ui-button ui-widget ui-state-default ui-corner-all ' +\n",
       "                        'ui-button-icon-only');\n",
       "        button.attr('role', 'button');\n",
       "        button.attr('aria-disabled', 'false');\n",
       "        button.click(method_name, toolbar_event);\n",
       "        button.mouseover(tooltip, toolbar_mouse_event);\n",
       "\n",
       "        var icon_img = $('<span/>');\n",
       "        icon_img.addClass('ui-button-icon-primary ui-icon');\n",
       "        icon_img.addClass(image);\n",
       "        icon_img.addClass('ui-corner-all');\n",
       "\n",
       "        var tooltip_span = $('<span/>');\n",
       "        tooltip_span.addClass('ui-button-text');\n",
       "        tooltip_span.html(tooltip);\n",
       "\n",
       "        button.append(icon_img);\n",
       "        button.append(tooltip_span);\n",
       "\n",
       "        nav_element.append(button);\n",
       "    }\n",
       "\n",
       "    var fmt_picker_span = $('<span/>');\n",
       "\n",
       "    var fmt_picker = $('<select/>');\n",
       "    fmt_picker.addClass('mpl-toolbar-option ui-widget ui-widget-content');\n",
       "    fmt_picker_span.append(fmt_picker);\n",
       "    nav_element.append(fmt_picker_span);\n",
       "    this.format_dropdown = fmt_picker[0];\n",
       "\n",
       "    for (var ind in mpl.extensions) {\n",
       "        var fmt = mpl.extensions[ind];\n",
       "        var option = $(\n",
       "            '<option/>', {selected: fmt === mpl.default_extension}).html(fmt);\n",
       "        fmt_picker.append(option)\n",
       "    }\n",
       "\n",
       "    // Add hover states to the ui-buttons\n",
       "    $( \".ui-button\" ).hover(\n",
       "        function() { $(this).addClass(\"ui-state-hover\");},\n",
       "        function() { $(this).removeClass(\"ui-state-hover\");}\n",
       "    );\n",
       "\n",
       "    var status_bar = $('<span class=\"mpl-message\"/>');\n",
       "    nav_element.append(status_bar);\n",
       "    this.message = status_bar[0];\n",
       "}\n",
       "\n",
       "mpl.figure.prototype.request_resize = function(x_pixels, y_pixels) {\n",
       "    // Request matplotlib to resize the figure. Matplotlib will then trigger a resize in the client,\n",
       "    // which will in turn request a refresh of the image.\n",
       "    this.send_message('resize', {'width': x_pixels, 'height': y_pixels});\n",
       "}\n",
       "\n",
       "mpl.figure.prototype.send_message = function(type, properties) {\n",
       "    properties['type'] = type;\n",
       "    properties['figure_id'] = this.id;\n",
       "    this.ws.send(JSON.stringify(properties));\n",
       "}\n",
       "\n",
       "mpl.figure.prototype.send_draw_message = function() {\n",
       "    if (!this.waiting) {\n",
       "        this.waiting = true;\n",
       "        this.ws.send(JSON.stringify({type: \"draw\", figure_id: this.id}));\n",
       "    }\n",
       "}\n",
       "\n",
       "\n",
       "mpl.figure.prototype.handle_save = function(fig, msg) {\n",
       "    var format_dropdown = fig.format_dropdown;\n",
       "    var format = format_dropdown.options[format_dropdown.selectedIndex].value;\n",
       "    fig.ondownload(fig, format);\n",
       "}\n",
       "\n",
       "\n",
       "mpl.figure.prototype.handle_resize = function(fig, msg) {\n",
       "    var size = msg['size'];\n",
       "    if (size[0] != fig.canvas.width || size[1] != fig.canvas.height) {\n",
       "        fig._resize_canvas(size[0], size[1]);\n",
       "        fig.send_message(\"refresh\", {});\n",
       "    };\n",
       "}\n",
       "\n",
       "mpl.figure.prototype.handle_rubberband = function(fig, msg) {\n",
       "    var x0 = msg['x0'] / mpl.ratio;\n",
       "    var y0 = (fig.canvas.height - msg['y0']) / mpl.ratio;\n",
       "    var x1 = msg['x1'] / mpl.ratio;\n",
       "    var y1 = (fig.canvas.height - msg['y1']) / mpl.ratio;\n",
       "    x0 = Math.floor(x0) + 0.5;\n",
       "    y0 = Math.floor(y0) + 0.5;\n",
       "    x1 = Math.floor(x1) + 0.5;\n",
       "    y1 = Math.floor(y1) + 0.5;\n",
       "    var min_x = Math.min(x0, x1);\n",
       "    var min_y = Math.min(y0, y1);\n",
       "    var width = Math.abs(x1 - x0);\n",
       "    var height = Math.abs(y1 - y0);\n",
       "\n",
       "    fig.rubberband_context.clearRect(\n",
       "        0, 0, fig.canvas.width, fig.canvas.height);\n",
       "\n",
       "    fig.rubberband_context.strokeRect(min_x, min_y, width, height);\n",
       "}\n",
       "\n",
       "mpl.figure.prototype.handle_figure_label = function(fig, msg) {\n",
       "    // Updates the figure title.\n",
       "    fig.header.textContent = msg['label'];\n",
       "}\n",
       "\n",
       "mpl.figure.prototype.handle_cursor = function(fig, msg) {\n",
       "    var cursor = msg['cursor'];\n",
       "    switch(cursor)\n",
       "    {\n",
       "    case 0:\n",
       "        cursor = 'pointer';\n",
       "        break;\n",
       "    case 1:\n",
       "        cursor = 'default';\n",
       "        break;\n",
       "    case 2:\n",
       "        cursor = 'crosshair';\n",
       "        break;\n",
       "    case 3:\n",
       "        cursor = 'move';\n",
       "        break;\n",
       "    }\n",
       "    fig.rubberband_canvas.style.cursor = cursor;\n",
       "}\n",
       "\n",
       "mpl.figure.prototype.handle_message = function(fig, msg) {\n",
       "    fig.message.textContent = msg['message'];\n",
       "}\n",
       "\n",
       "mpl.figure.prototype.handle_draw = function(fig, msg) {\n",
       "    // Request the server to send over a new figure.\n",
       "    fig.send_draw_message();\n",
       "}\n",
       "\n",
       "mpl.figure.prototype.handle_image_mode = function(fig, msg) {\n",
       "    fig.image_mode = msg['mode'];\n",
       "}\n",
       "\n",
       "mpl.figure.prototype.updated_canvas_event = function() {\n",
       "    // Called whenever the canvas gets updated.\n",
       "    this.send_message(\"ack\", {});\n",
       "}\n",
       "\n",
       "// A function to construct a web socket function for onmessage handling.\n",
       "// Called in the figure constructor.\n",
       "mpl.figure.prototype._make_on_message_function = function(fig) {\n",
       "    return function socket_on_message(evt) {\n",
       "        if (evt.data instanceof Blob) {\n",
       "            /* FIXME: We get \"Resource interpreted as Image but\n",
       "             * transferred with MIME type text/plain:\" errors on\n",
       "             * Chrome.  But how to set the MIME type?  It doesn't seem\n",
       "             * to be part of the websocket stream */\n",
       "            evt.data.type = \"image/png\";\n",
       "\n",
       "            /* Free the memory for the previous frames */\n",
       "            if (fig.imageObj.src) {\n",
       "                (window.URL || window.webkitURL).revokeObjectURL(\n",
       "                    fig.imageObj.src);\n",
       "            }\n",
       "\n",
       "            fig.imageObj.src = (window.URL || window.webkitURL).createObjectURL(\n",
       "                evt.data);\n",
       "            fig.updated_canvas_event();\n",
       "            fig.waiting = false;\n",
       "            return;\n",
       "        }\n",
       "        else if (typeof evt.data === 'string' && evt.data.slice(0, 21) == \"data:image/png;base64\") {\n",
       "            fig.imageObj.src = evt.data;\n",
       "            fig.updated_canvas_event();\n",
       "            fig.waiting = false;\n",
       "            return;\n",
       "        }\n",
       "\n",
       "        var msg = JSON.parse(evt.data);\n",
       "        var msg_type = msg['type'];\n",
       "\n",
       "        // Call the  \"handle_{type}\" callback, which takes\n",
       "        // the figure and JSON message as its only arguments.\n",
       "        try {\n",
       "            var callback = fig[\"handle_\" + msg_type];\n",
       "        } catch (e) {\n",
       "            console.log(\"No handler for the '\" + msg_type + \"' message type: \", msg);\n",
       "            return;\n",
       "        }\n",
       "\n",
       "        if (callback) {\n",
       "            try {\n",
       "                // console.log(\"Handling '\" + msg_type + \"' message: \", msg);\n",
       "                callback(fig, msg);\n",
       "            } catch (e) {\n",
       "                console.log(\"Exception inside the 'handler_\" + msg_type + \"' callback:\", e, e.stack, msg);\n",
       "            }\n",
       "        }\n",
       "    };\n",
       "}\n",
       "\n",
       "// from http://stackoverflow.com/questions/1114465/getting-mouse-location-in-canvas\n",
       "mpl.findpos = function(e) {\n",
       "    //this section is from http://www.quirksmode.org/js/events_properties.html\n",
       "    var targ;\n",
       "    if (!e)\n",
       "        e = window.event;\n",
       "    if (e.target)\n",
       "        targ = e.target;\n",
       "    else if (e.srcElement)\n",
       "        targ = e.srcElement;\n",
       "    if (targ.nodeType == 3) // defeat Safari bug\n",
       "        targ = targ.parentNode;\n",
       "\n",
       "    // jQuery normalizes the pageX and pageY\n",
       "    // pageX,Y are the mouse positions relative to the document\n",
       "    // offset() returns the position of the element relative to the document\n",
       "    var x = e.pageX - $(targ).offset().left;\n",
       "    var y = e.pageY - $(targ).offset().top;\n",
       "\n",
       "    return {\"x\": x, \"y\": y};\n",
       "};\n",
       "\n",
       "/*\n",
       " * return a copy of an object with only non-object keys\n",
       " * we need this to avoid circular references\n",
       " * http://stackoverflow.com/a/24161582/3208463\n",
       " */\n",
       "function simpleKeys (original) {\n",
       "  return Object.keys(original).reduce(function (obj, key) {\n",
       "    if (typeof original[key] !== 'object')\n",
       "        obj[key] = original[key]\n",
       "    return obj;\n",
       "  }, {});\n",
       "}\n",
       "\n",
       "mpl.figure.prototype.mouse_event = function(event, name) {\n",
       "    var canvas_pos = mpl.findpos(event)\n",
       "\n",
       "    if (name === 'button_press')\n",
       "    {\n",
       "        this.canvas.focus();\n",
       "        this.canvas_div.focus();\n",
       "    }\n",
       "\n",
       "    var x = canvas_pos.x * mpl.ratio;\n",
       "    var y = canvas_pos.y * mpl.ratio;\n",
       "\n",
       "    this.send_message(name, {x: x, y: y, button: event.button,\n",
       "                             step: event.step,\n",
       "                             guiEvent: simpleKeys(event)});\n",
       "\n",
       "    /* This prevents the web browser from automatically changing to\n",
       "     * the text insertion cursor when the button is pressed.  We want\n",
       "     * to control all of the cursor setting manually through the\n",
       "     * 'cursor' event from matplotlib */\n",
       "    event.preventDefault();\n",
       "    return false;\n",
       "}\n",
       "\n",
       "mpl.figure.prototype._key_event_extra = function(event, name) {\n",
       "    // Handle any extra behaviour associated with a key event\n",
       "}\n",
       "\n",
       "mpl.figure.prototype.key_event = function(event, name) {\n",
       "\n",
       "    // Prevent repeat events\n",
       "    if (name == 'key_press')\n",
       "    {\n",
       "        if (event.which === this._key)\n",
       "            return;\n",
       "        else\n",
       "            this._key = event.which;\n",
       "    }\n",
       "    if (name == 'key_release')\n",
       "        this._key = null;\n",
       "\n",
       "    var value = '';\n",
       "    if (event.ctrlKey && event.which != 17)\n",
       "        value += \"ctrl+\";\n",
       "    if (event.altKey && event.which != 18)\n",
       "        value += \"alt+\";\n",
       "    if (event.shiftKey && event.which != 16)\n",
       "        value += \"shift+\";\n",
       "\n",
       "    value += 'k';\n",
       "    value += event.which.toString();\n",
       "\n",
       "    this._key_event_extra(event, name);\n",
       "\n",
       "    this.send_message(name, {key: value,\n",
       "                             guiEvent: simpleKeys(event)});\n",
       "    return false;\n",
       "}\n",
       "\n",
       "mpl.figure.prototype.toolbar_button_onclick = function(name) {\n",
       "    if (name == 'download') {\n",
       "        this.handle_save(this, null);\n",
       "    } else {\n",
       "        this.send_message(\"toolbar_button\", {name: name});\n",
       "    }\n",
       "};\n",
       "\n",
       "mpl.figure.prototype.toolbar_button_onmouseover = function(tooltip) {\n",
       "    this.message.textContent = tooltip;\n",
       "};\n",
       "mpl.toolbar_items = [[\"Home\", \"Reset original view\", \"fa fa-home icon-home\", \"home\"], [\"Back\", \"Back to  previous view\", \"fa fa-arrow-left icon-arrow-left\", \"back\"], [\"Forward\", \"Forward to next view\", \"fa fa-arrow-right icon-arrow-right\", \"forward\"], [\"\", \"\", \"\", \"\"], [\"Pan\", \"Pan axes with left mouse, zoom with right\", \"fa fa-arrows icon-move\", \"pan\"], [\"Zoom\", \"Zoom to rectangle\", \"fa fa-square-o icon-check-empty\", \"zoom\"], [\"\", \"\", \"\", \"\"], [\"Download\", \"Download plot\", \"fa fa-floppy-o icon-save\", \"download\"]];\n",
       "\n",
       "mpl.extensions = [\"eps\", \"pdf\", \"png\", \"ps\", \"raw\", \"svg\"];\n",
       "\n",
       "mpl.default_extension = \"png\";var comm_websocket_adapter = function(comm) {\n",
       "    // Create a \"websocket\"-like object which calls the given IPython comm\n",
       "    // object with the appropriate methods. Currently this is a non binary\n",
       "    // socket, so there is still some room for performance tuning.\n",
       "    var ws = {};\n",
       "\n",
       "    ws.close = function() {\n",
       "        comm.close()\n",
       "    };\n",
       "    ws.send = function(m) {\n",
       "        //console.log('sending', m);\n",
       "        comm.send(m);\n",
       "    };\n",
       "    // Register the callback with on_msg.\n",
       "    comm.on_msg(function(msg) {\n",
       "        //console.log('receiving', msg['content']['data'], msg);\n",
       "        // Pass the mpl event to the overriden (by mpl) onmessage function.\n",
       "        ws.onmessage(msg['content']['data'])\n",
       "    });\n",
       "    return ws;\n",
       "}\n",
       "\n",
       "mpl.mpl_figure_comm = function(comm, msg) {\n",
       "    // This is the function which gets called when the mpl process\n",
       "    // starts-up an IPython Comm through the \"matplotlib\" channel.\n",
       "\n",
       "    var id = msg.content.data.id;\n",
       "    // Get hold of the div created by the display call when the Comm\n",
       "    // socket was opened in Python.\n",
       "    var element = $(\"#\" + id);\n",
       "    var ws_proxy = comm_websocket_adapter(comm)\n",
       "\n",
       "    function ondownload(figure, format) {\n",
       "        window.open(figure.imageObj.src);\n",
       "    }\n",
       "\n",
       "    var fig = new mpl.figure(id, ws_proxy,\n",
       "                           ondownload,\n",
       "                           element.get(0));\n",
       "\n",
       "    // Call onopen now - mpl needs it, as it is assuming we've passed it a real\n",
       "    // web socket which is closed, not our websocket->open comm proxy.\n",
       "    ws_proxy.onopen();\n",
       "\n",
       "    fig.parent_element = element.get(0);\n",
       "    fig.cell_info = mpl.find_output_cell(\"<div id='\" + id + \"'></div>\");\n",
       "    if (!fig.cell_info) {\n",
       "        console.error(\"Failed to find cell for figure\", id, fig);\n",
       "        return;\n",
       "    }\n",
       "\n",
       "    var output_index = fig.cell_info[2]\n",
       "    var cell = fig.cell_info[0];\n",
       "\n",
       "};\n",
       "\n",
       "mpl.figure.prototype.handle_close = function(fig, msg) {\n",
       "    var width = fig.canvas.width/mpl.ratio\n",
       "    fig.root.unbind('remove')\n",
       "\n",
       "    // Update the output cell to use the data from the current canvas.\n",
       "    fig.push_to_output();\n",
       "    var dataURL = fig.canvas.toDataURL();\n",
       "    // Re-enable the keyboard manager in IPython - without this line, in FF,\n",
       "    // the notebook keyboard shortcuts fail.\n",
       "    IPython.keyboard_manager.enable()\n",
       "    $(fig.parent_element).html('<img src=\"' + dataURL + '\" width=\"' + width + '\">');\n",
       "    fig.close_ws(fig, msg);\n",
       "}\n",
       "\n",
       "mpl.figure.prototype.close_ws = function(fig, msg){\n",
       "    fig.send_message('closing', msg);\n",
       "    // fig.ws.close()\n",
       "}\n",
       "\n",
       "mpl.figure.prototype.push_to_output = function(remove_interactive) {\n",
       "    // Turn the data on the canvas into data in the output cell.\n",
       "    var width = this.canvas.width/mpl.ratio\n",
       "    var dataURL = this.canvas.toDataURL();\n",
       "    this.cell_info[1]['text/html'] = '<img src=\"' + dataURL + '\" width=\"' + width + '\">';\n",
       "}\n",
       "\n",
       "mpl.figure.prototype.updated_canvas_event = function() {\n",
       "    // Tell IPython that the notebook contents must change.\n",
       "    IPython.notebook.set_dirty(true);\n",
       "    this.send_message(\"ack\", {});\n",
       "    var fig = this;\n",
       "    // Wait a second, then push the new image to the DOM so\n",
       "    // that it is saved nicely (might be nice to debounce this).\n",
       "    setTimeout(function () { fig.push_to_output() }, 1000);\n",
       "}\n",
       "\n",
       "mpl.figure.prototype._init_toolbar = function() {\n",
       "    var fig = this;\n",
       "\n",
       "    var nav_element = $('<div/>')\n",
       "    nav_element.attr('style', 'width: 100%');\n",
       "    this.root.append(nav_element);\n",
       "\n",
       "    // Define a callback function for later on.\n",
       "    function toolbar_event(event) {\n",
       "        return fig.toolbar_button_onclick(event['data']);\n",
       "    }\n",
       "    function toolbar_mouse_event(event) {\n",
       "        return fig.toolbar_button_onmouseover(event['data']);\n",
       "    }\n",
       "\n",
       "    for(var toolbar_ind in mpl.toolbar_items){\n",
       "        var name = mpl.toolbar_items[toolbar_ind][0];\n",
       "        var tooltip = mpl.toolbar_items[toolbar_ind][1];\n",
       "        var image = mpl.toolbar_items[toolbar_ind][2];\n",
       "        var method_name = mpl.toolbar_items[toolbar_ind][3];\n",
       "\n",
       "        if (!name) { continue; };\n",
       "\n",
       "        var button = $('<button class=\"btn btn-default\" href=\"#\" title=\"' + name + '\"><i class=\"fa ' + image + ' fa-lg\"></i></button>');\n",
       "        button.click(method_name, toolbar_event);\n",
       "        button.mouseover(tooltip, toolbar_mouse_event);\n",
       "        nav_element.append(button);\n",
       "    }\n",
       "\n",
       "    // Add the status bar.\n",
       "    var status_bar = $('<span class=\"mpl-message\" style=\"text-align:right; float: right;\"/>');\n",
       "    nav_element.append(status_bar);\n",
       "    this.message = status_bar[0];\n",
       "\n",
       "    // Add the close button to the window.\n",
       "    var buttongrp = $('<div class=\"btn-group inline pull-right\"></div>');\n",
       "    var button = $('<button class=\"btn btn-mini btn-primary\" href=\"#\" title=\"Stop Interaction\"><i class=\"fa fa-power-off icon-remove icon-large\"></i></button>');\n",
       "    button.click(function (evt) { fig.handle_close(fig, {}); } );\n",
       "    button.mouseover('Stop Interaction', toolbar_mouse_event);\n",
       "    buttongrp.append(button);\n",
       "    var titlebar = this.root.find($('.ui-dialog-titlebar'));\n",
       "    titlebar.prepend(buttongrp);\n",
       "}\n",
       "\n",
       "mpl.figure.prototype._root_extra_style = function(el){\n",
       "    var fig = this\n",
       "    el.on(\"remove\", function(){\n",
       "\tfig.close_ws(fig, {});\n",
       "    });\n",
       "}\n",
       "\n",
       "mpl.figure.prototype._canvas_extra_style = function(el){\n",
       "    // this is important to make the div 'focusable\n",
       "    el.attr('tabindex', 0)\n",
       "    // reach out to IPython and tell the keyboard manager to turn it's self\n",
       "    // off when our div gets focus\n",
       "\n",
       "    // location in version 3\n",
       "    if (IPython.notebook.keyboard_manager) {\n",
       "        IPython.notebook.keyboard_manager.register_events(el);\n",
       "    }\n",
       "    else {\n",
       "        // location in version 2\n",
       "        IPython.keyboard_manager.register_events(el);\n",
       "    }\n",
       "\n",
       "}\n",
       "\n",
       "mpl.figure.prototype._key_event_extra = function(event, name) {\n",
       "    var manager = IPython.notebook.keyboard_manager;\n",
       "    if (!manager)\n",
       "        manager = IPython.keyboard_manager;\n",
       "\n",
       "    // Check for shift+enter\n",
       "    if (event.shiftKey && event.which == 13) {\n",
       "        this.canvas_div.blur();\n",
       "        event.shiftKey = false;\n",
       "        // Send a \"J\" for go to next cell\n",
       "        event.which = 74;\n",
       "        event.keyCode = 74;\n",
       "        manager.command_mode();\n",
       "        manager.handle_keydown(event);\n",
       "    }\n",
       "}\n",
       "\n",
       "mpl.figure.prototype.handle_save = function(fig, msg) {\n",
       "    fig.ondownload(fig, null);\n",
       "}\n",
       "\n",
       "\n",
       "mpl.find_output_cell = function(html_output) {\n",
       "    // Return the cell and output element which can be found *uniquely* in the notebook.\n",
       "    // Note - this is a bit hacky, but it is done because the \"notebook_saving.Notebook\"\n",
       "    // IPython event is triggered only after the cells have been serialised, which for\n",
       "    // our purposes (turning an active figure into a static one), is too late.\n",
       "    var cells = IPython.notebook.get_cells();\n",
       "    var ncells = cells.length;\n",
       "    for (var i=0; i<ncells; i++) {\n",
       "        var cell = cells[i];\n",
       "        if (cell.cell_type === 'code'){\n",
       "            for (var j=0; j<cell.output_area.outputs.length; j++) {\n",
       "                var data = cell.output_area.outputs[j];\n",
       "                if (data.data) {\n",
       "                    // IPython >= 3 moved mimebundle to data attribute of output\n",
       "                    data = data.data;\n",
       "                }\n",
       "                if (data['text/html'] == html_output) {\n",
       "                    return [cell, data, j];\n",
       "                }\n",
       "            }\n",
       "        }\n",
       "    }\n",
       "}\n",
       "\n",
       "// Register the function which deals with the matplotlib target/channel.\n",
       "// The kernel may be null if the page has been refreshed.\n",
       "if (IPython.notebook.kernel != null) {\n",
       "    IPython.notebook.kernel.comm_manager.register_target('matplotlib', mpl.mpl_figure_comm);\n",
       "}\n"
      ],
      "text/plain": [
       "<IPython.core.display.Javascript object>"
      ]
     },
     "metadata": {},
     "output_type": "display_data"
    },
    {
     "data": {
      "text/html": [
       "<img src=\"data:image/png;base64,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\" width=\"640\">"
      ],
      "text/plain": [
       "<IPython.core.display.HTML object>"
      ]
     },
     "metadata": {},
     "output_type": "display_data"
    },
    {
     "data": {
      "text/plain": [
       "[<matplotlib.lines.Line2D at 0x7fd76a333710>]"
      ]
     },
     "execution_count": 69,
     "metadata": {},
     "output_type": "execute_result"
    }
   ],
   "source": [
    "IE = hh.load('./work-test_E_mon/E.h5')\n",
    "plt.figure()\n",
    "plt.plot(IE.energy, IE.I, '+')"
   ]
  },
  {
   "cell_type": "code",
   "execution_count": 70,
   "metadata": {},
   "outputs": [
    {
     "data": {
      "text/plain": [
       "2.3503172914380293"
      ]
     },
     "execution_count": 70,
     "metadata": {},
     "output_type": "execute_result"
    }
   ],
   "source": [
    "IE.I.sum()"
   ]
  },
  {
   "cell_type": "code",
   "execution_count": 107,
   "metadata": {},
   "outputs": [
    {
     "data": {
      "text/plain": [
       "156687.72165198761"
      ]
     },
     "execution_count": 107,
     "metadata": {},
     "output_type": "execute_result"
    }
   ],
   "source": [
    "IE1 = hh.load('./work-test_E_mon/rank0-step0/E.h5')\n",
    "IE1.I.sum()"
   ]
  },
  {
   "cell_type": "code",
   "execution_count": 84,
   "metadata": {},
   "outputs": [
    {
     "data": {
      "text/plain": [
       "783439.38144460786"
      ]
     },
     "execution_count": 84,
     "metadata": {},
     "output_type": "execute_result"
    }
   ],
   "source": [
    "IE1 = hh.load('./work-test_E_mon/rank0-step4/E.h5')\n",
    "IE1.I.sum()"
   ]
  },
  {
   "cell_type": "code",
   "execution_count": 73,
   "metadata": {},
   "outputs": [
    {
     "name": "stdout",
     "output_type": "stream",
     "text": [
      "200000"
     ]
    }
   ],
   "source": [
    "cat ./work-test_E_mon/rank0-step0/number_of_mc_samples"
   ]
  },
  {
   "cell_type": "code",
   "execution_count": 74,
   "metadata": {},
   "outputs": [
    {
     "data": {
      "text/plain": [
       "0.783438608259938"
      ]
     },
     "execution_count": 74,
     "metadata": {},
     "output_type": "execute_result"
    }
   ],
   "source": [
    "156687.72165198761/200000"
   ]
  },
  {
   "cell_type": "code",
   "execution_count": 75,
   "metadata": {},
   "outputs": [],
   "source": [
    "from mcni.components import HistogramBasedMonitorMixin"
   ]
  },
  {
   "cell_type": "code",
   "execution_count": 77,
   "metadata": {},
   "outputs": [],
   "source": [
    "summedHist, N = HistogramBasedMonitorMixin.hist_mcs_sum('./work-test_E_mon/', 'E.h5')"
   ]
  },
  {
   "cell_type": "code",
   "execution_count": 78,
   "metadata": {},
   "outputs": [
    {
     "data": {
      "text/plain": [
       "2350317.2914380291"
      ]
     },
     "execution_count": 78,
     "metadata": {},
     "output_type": "execute_result"
    }
   ],
   "source": [
    "summedHist.I.sum()"
   ]
  },
  {
   "cell_type": "code",
   "execution_count": 79,
   "metadata": {},
   "outputs": [
    {
     "data": {
      "text/plain": [
       "1000000.0"
      ]
     },
     "execution_count": 79,
     "metadata": {},
     "output_type": "execute_result"
    }
   ],
   "source": [
    "N"
   ]
  },
  {
   "cell_type": "code",
   "execution_count": 80,
   "metadata": {},
   "outputs": [
    {
     "name": "stdout",
     "output_type": "stream",
     "text": [
      "total 52377\r\n",
      "-rw-r--r-- 1 lj7 users 80001100 Sep 14 10:48 neutrons\r\n",
      "-rw-r--r-- 1 lj7 users    16408 Sep 14 10:48 E.h5\r\n",
      "drwxr-xr-x 2 lj7 users        4 Sep 14 10:48 \u001b[0m\u001b[01;34mpost-processing-scripts\u001b[0m/\r\n",
      "drwxr-xr-x 2 lj7 users        5 Sep 14 10:48 \u001b[01;34mrank0-step4\u001b[0m/\r\n",
      "drwxr-xr-x 2 lj7 users        5 Sep 14 10:48 \u001b[01;34mrank0-step3\u001b[0m/\r\n",
      "drwxr-xr-x 2 lj7 users        5 Sep 14 10:48 \u001b[01;34mrank0-step2\u001b[0m/\r\n",
      "drwxr-xr-x 2 lj7 users        5 Sep 14 10:48 \u001b[01;34mrank0-step1\u001b[0m/\r\n",
      "drwxr-xr-x 2 lj7 users        5 Sep 14 10:48 \u001b[01;34mrank0-step0\u001b[0m/\r\n"
     ]
    }
   ],
   "source": [
    "ls -tl work-test_E_mon/"
   ]
  },
  {
   "cell_type": "code",
   "execution_count": null,
   "metadata": {},
   "outputs": [],
   "source": []
  },
  {
   "cell_type": "code",
   "execution_count": 54,
   "metadata": {},
   "outputs": [],
   "source": [
    "import mcni.neutron_storage as mns"
   ]
  },
  {
   "cell_type": "code",
   "execution_count": 55,
   "metadata": {},
   "outputs": [],
   "source": [
    "neutrons = mns.readneutrons_asnpyarr('./work-test_E_mon/neutrons')"
   ]
  },
  {
   "cell_type": "code",
   "execution_count": 56,
   "metadata": {},
   "outputs": [
    {
     "data": {
      "text/plain": [
       "0.7834404880868503"
      ]
     },
     "execution_count": 56,
     "metadata": {},
     "output_type": "execute_result"
    }
   ],
   "source": [
    "neutrons[:, -1].sum()/neutrons.shape[0]"
   ]
  },
  {
   "cell_type": "code",
   "execution_count": 57,
   "metadata": {},
   "outputs": [],
   "source": [
    "p = neutrons[:, -1]"
   ]
  },
  {
   "cell_type": "code",
   "execution_count": 58,
   "metadata": {},
   "outputs": [
    {
     "data": {
      "text/plain": [
       "0.7834404880868503"
      ]
     },
     "execution_count": 58,
     "metadata": {},
     "output_type": "execute_result"
    }
   ],
   "source": [
    "p.mean()"
   ]
  },
  {
   "cell_type": "code",
   "execution_count": 59,
   "metadata": {},
   "outputs": [
    {
     "data": {
      "text/plain": [
       "array([], dtype=float64)"
      ]
     },
     "execution_count": 59,
     "metadata": {},
     "output_type": "execute_result"
    }
   ],
   "source": [
    "p[p<1e-3]"
   ]
  },
  {
   "cell_type": "code",
   "execution_count": null,
   "metadata": {},
   "outputs": [],
   "source": []
  },
  {
   "cell_type": "code",
   "execution_count": 60,
   "metadata": {},
   "outputs": [],
   "source": [
    "n1 = mns.readneutrons_asnpyarr('./work-test_E_mon/rank0-step0/neutrons')"
   ]
  },
  {
   "cell_type": "code",
   "execution_count": 61,
   "metadata": {},
   "outputs": [
    {
     "data": {
      "text/plain": [
       "array([ 0.78172294,  0.78476046,  0.78361467, ...,  0.78369933,\n",
       "        0.78441438,  0.78229004])"
      ]
     },
     "execution_count": 61,
     "metadata": {},
     "output_type": "execute_result"
    }
   ],
   "source": [
    "n1[:, -1]"
   ]
  },
  {
   "cell_type": "markdown",
   "metadata": {},
   "source": [
    "# Test pyre"
   ]
  },
  {
   "cell_type": "code",
   "execution_count": 88,
   "metadata": {},
   "outputs": [],
   "source": [
    "!mkdir test-pyre\n",
    "%cd test-pyre"
   ]
  },
  {
   "cell_type": "code",
   "execution_count": 91,
   "metadata": {},
   "outputs": [
    {
     "name": "stdout",
     "output_type": "stream",
     "text": [
      "application 'test' created at '/SNS/users/lj7/dv/sns-chops/resolution/ARCS/whitebeam/test-pyre/test'\r\n"
     ]
    }
   ],
   "source": [
    "!mcvine-create-instrument-simulation-application --name=test --components=source,save,monitor"
   ]
  },
  {
   "cell_type": "code",
   "execution_count": 92,
   "metadata": {},
   "outputs": [
    {
     "name": "stdout",
     "output_type": "stream",
     "text": [
      "/SNS/software/miniconda2/envs/mcvine-unstable/lib/python2.7/site-packages/mcni/pyre_support/MpiApplication.py:87: UserWarning: no point to run in parallel mode when using just one node\r\n",
      "  warnings.warn(\"no point to run in parallel mode when using just one node\")\r\n"
     ]
    }
   ],
   "source": [
    "!./test --source=Source_simple --save=NeutronToStorage --monitor=E_monitor --dump-pml=yes"
   ]
  },
  {
   "cell_type": "code",
   "execution_count": 96,
   "metadata": {
    "scrolled": false
   },
   "outputs": [
    {
     "name": "stdout",
     "output_type": "stream",
     "text": [
      "Overwriting test.pml\n"
     ]
    }
   ],
   "source": [
    "%%file test.pml\n",
    "<?xml version=\"1.0\"?>\n",
    "\n",
    "<!DOCTYPE inventory>\n",
    "\n",
    "<inventory>\n",
    "\n",
    "    <component name=\"test\">\n",
    "        <property name=\"output-dir\">out</property>\n",
    "        <property name=\"sequence\">['source', 'save', 'monitor']</property>\n",
    "        <facility name=\"source\">sources/Source_simple</facility>\n",
    "        <facility name=\"save\">monitors/NeutronToStorage</facility>\n",
    "        <facility name=\"monitor\">monitors/E_monitor</facility>\n",
    "\n",
    "        <component name=\"source\">\n",
    "            <property name=\"name\">source_simple</property>\n",
    "            <property name=\"radius\">0.05</property>\n",
    "            <property name=\"width\">0.0</property>\n",
    "            <property name=\"height\">0.0</property>\n",
    "            <property name=\"dist\">1.0</property>\n",
    "            <property name=\"xw\">0.1</property>\n",
    "            <property name=\"yh\">0.1</property>\n",
    "            <property name=\"E0\">500.0</property>\n",
    "            <property name=\"dE\">200.0</property>\n",
    "            <property name=\"gauss\">0.0</property>\n",
    "            <property name=\"flux\">1.0</property>\n",
    "            <property name=\"dLambda\">0.0</property>\n",
    "            <property name=\"Lambda0\">0.0</property>\n",
    "        </component>\n",
    "\n",
    "        <component name=\"save\">\n",
    "            <property name=\"path\">saved</property>\n",
    "        </component>\n",
    "\n",
    "        <component name=\"monitor\">\n",
    "            <property name=\"name\">e_monitor</property>\n",
    "            <property name=\"xwidth\">0.1</property>\n",
    "            <property name=\"yheight\">0.1</property>\n",
    "            <property name=\"xmin\">0.0</property>\n",
    "            <property name=\"xmax\">0.0</property>\n",
    "            <property name=\"ymin\">0.0</property>\n",
    "            <property name=\"ymax\">0.0</property>\n",
    "            <property name=\"Emin\">0.0</property>\n",
    "            <property name=\"Emax\">10000.0</property>\n",
    "            <property name=\"nchan\">2</property>\n",
    "            <property name=\"filename\">IE.dat</property>\n",
    "        </component>\n",
    "\n",
    "        <component name=\"geometer\">\n",
    "            <property name=\"source\">((0, 0, 0), (0, 0, 0))</property>\n",
    "            <property name=\"save\">((0, 0, 1), (0, 0, 0))</property>\n",
    "            <property name=\"monitor\">((0, 0, 1.001), (0, 0, 0))</property>\n",
    "        </component>\n",
    "\n",
    "    </component>\n",
    "\n",
    "</inventory>"
   ]
  },
  {
   "cell_type": "code",
   "execution_count": 100,
   "metadata": {},
   "outputs": [
    {
     "name": "stdout",
     "output_type": "stream",
     "text": [
      "/SNS/software/miniconda2/envs/mcvine-unstable/lib/python2.7/site-packages/mcni/pyre_support/MpiApplication.py:87: UserWarning: no point to run in parallel mode when using just one node\n",
      "  warnings.warn(\"no point to run in parallel mode when using just one node\")\n",
      "Source_simple: initialized.\n",
      "/SNS/software/miniconda2/envs/mcvine-unstable/lib/python2.7/site-packages/mcni/AbstractComponent.py:46: UserWarning: In NeutronToStorage: Deprecated. should use self.simulation_context.overwrite_datafiles\n",
      "  warnings.warn(msg)\n",
      "E_monitor: initialized. E window=0,10000, x window=-0.05,0.05, y window = -0.05, 0.05\n",
      "<E> : 499.923 meV , E-width : 115.572 meV \n",
      "E_monitor: saved data to file 'IE.dat'.\n",
      "E_monitor: finalized.\n",
      "finalize component \"monitor\"\n",
      "E_monitor: initialized. E window=0,10000, x window=-0.05,0.05, y window = -0.05, 0.05\n",
      "<E> : 500.277 meV , E-width : 115.545 meV \n",
      "E_monitor: saved data to file 'IE.dat'.\n",
      "E_monitor: finalized.\n",
      "finalize component \"monitor\"\n",
      "E_monitor: initialized. E window=0,10000, x window=-0.05,0.05, y window = -0.05, 0.05\n",
      "<E> : 500.236 meV , E-width : 115.421 meV \n",
      "E_monitor: saved data to file 'IE.dat'.\n",
      "E_monitor: finalized.\n",
      "finalize component \"monitor\"\n",
      "E_monitor: initialized. E window=0,10000, x window=-0.05,0.05, y window = -0.05, 0.05\n",
      "<E> : 499.63 meV , E-width : 115.444 meV \n",
      "E_monitor: saved data to file 'IE.dat'.\n",
      "E_monitor: finalized.\n",
      "finalize component \"monitor\"\n",
      "E_monitor: initialized. E window=0,10000, x window=-0.05,0.05, y window = -0.05, 0.05\n",
      "<E> : 499.676 meV , E-width : 115.415 meV \n",
      "E_monitor: saved data to file 'IE.dat'.\n",
      "E_monitor: finalized.\n",
      "finalize component \"monitor\"\n",
      "(5.15, 4.47, 0.0, 0.0, 6462469.08)\n",
      "finalize component \"source\"\n",
      "CPU times: user 175 ms, sys: 66.4 ms, total: 241 ms\n",
      "Wall time: 10.5 s\n"
     ]
    }
   ],
   "source": [
    "%%time\n",
    "!./test --ncount=1e6 --mpirun.nodes=1"
   ]
  },
  {
   "cell_type": "code",
   "execution_count": 102,
   "metadata": {},
   "outputs": [
    {
     "name": "stdout",
     "output_type": "stream",
     "text": [
      "IE.h5         \u001b[0m\u001b[01;34mrank0-step1\u001b[0m/  \u001b[01;34mrank0-step3\u001b[0m/  saved\r\n",
      "\u001b[01;34mrank0-step0\u001b[0m/  \u001b[01;34mrank0-step2\u001b[0m/  \u001b[01;34mrank0-step4\u001b[0m/\r\n"
     ]
    }
   ],
   "source": [
    "ls out"
   ]
  },
  {
   "cell_type": "code",
   "execution_count": 105,
   "metadata": {},
   "outputs": [
    {
     "data": {
      "text/plain": [
       "156353.04037336214"
      ]
     },
     "execution_count": 105,
     "metadata": {},
     "output_type": "execute_result"
    }
   ],
   "source": [
    "IE1 = hh.load('./out/rank0-step0/IE.h5')\n",
    "IE1.I.sum()"
   ]
  },
  {
   "cell_type": "code",
   "execution_count": 104,
   "metadata": {},
   "outputs": [
    {
     "data": {
      "text/plain": [
       "156378.27958951044"
      ]
     },
     "execution_count": 104,
     "metadata": {},
     "output_type": "execute_result"
    }
   ],
   "source": [
    "IE1 = hh.load('./out/rank0-step4/IE.h5')\n",
    "IE1.I.sum()"
   ]
  },
  {
   "cell_type": "code",
   "execution_count": null,
   "metadata": {},
   "outputs": [],
   "source": []
  }
 ],
 "metadata": {
  "kernelspec": {
   "display_name": "mcvine-unstable at jnrk-sns-analysis",
   "language": "python",
   "name": "jnrk-analysis-mcvine-unstable"
  },
  "language_info": {
   "codemirror_mode": {
    "name": "ipython",
    "version": 2
   },
   "file_extension": ".py",
   "mimetype": "text/x-python",
   "name": "python",
   "nbconvert_exporter": "python",
   "pygments_lexer": "ipython2",
   "version": "2.7.12"
  },
  "toc": {
   "base_numbering": 1,
   "nav_menu": {},
   "number_sections": true,
   "sideBar": true,
   "skip_h1_title": false,
   "title_cell": "Table of Contents",
   "title_sidebar": "Contents",
   "toc_cell": false,
   "toc_position": {},
   "toc_section_display": true,
   "toc_window_display": true
  }
 },
 "nbformat": 4,
 "nbformat_minor": 2
}
