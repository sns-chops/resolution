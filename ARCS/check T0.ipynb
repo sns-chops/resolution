{
 "cells": [
  {
   "cell_type": "code",
   "execution_count": 1,
   "metadata": {},
   "outputs": [
    {
     "name": "stdout",
     "output_type": "stream",
     "text": [
      "/SNS/users/lj7/dv/sns-chops/resolution/ARCS\n"
     ]
    }
   ],
   "source": [
    "cd /SNS/users/lj7/dv/sns-chops/resolution/ARCS/"
   ]
  },
  {
   "cell_type": "code",
   "execution_count": 3,
   "metadata": {},
   "outputs": [],
   "source": [
    "import os, sys, numpy as np"
   ]
  },
  {
   "cell_type": "code",
   "execution_count": 4,
   "metadata": {},
   "outputs": [],
   "source": [
    "%matplotlib notebook\n",
    "from matplotlib import pyplot as plt"
   ]
  },
  {
   "cell_type": "code",
   "execution_count": 5,
   "metadata": {},
   "outputs": [],
   "source": [
    "def compute_fitness(Ei, T0):\n",
    "    T0Radius=230.;\n",
    "    SourceToChopper=8.77;\n",
    "    BeamWidth=62.;\n",
    "    Curvature=11602.;\n",
    "    MinChannelWidth=80.;\n",
    "    T0Edge=[56.,224.];\n",
    "\n",
    "    IncidentVelocity=np.sqrt(Ei/0.0000052276);\n",
    "    # % X=57 at Y=224\n",
    "    PhaseAngleWhite=360.*T0*SourceToChopper/IncidentVelocity;\n",
    "    PhaseAngleWhite *= np.pi/180.\n",
    "    WhiteEdgeX1=BeamWidth*np.cos(PhaseAngleWhite)/2+T0Radius*np.sin(PhaseAngleWhite);\n",
    "    WhiteEdgeY1=-BeamWidth*np.sin(PhaseAngleWhite)/2+T0Radius*np.cos(PhaseAngleWhite);\n",
    "    WhiteEdgeX2=-BeamWidth*np.cos(PhaseAngleWhite)/2+T0Radius*np.sin(PhaseAngleWhite);\n",
    "    WhiteEdgeY2=BeamWidth*np.sin(PhaseAngleWhite)/2+T0Radius*np.cos(PhaseAngleWhite);\n",
    "\n",
    "    BeamX=-224;\n",
    "    BeamYL=np.sqrt(Curvature**2-BeamX**2)-Curvature-BeamWidth/2;\n",
    "    BeamYR=np.sqrt(Curvature**2-BeamX**2)-Curvature+BeamWidth/2;\n",
    "    FitnessParameter1=WhiteEdgeX2-T0Edge[0]\n",
    "    FitnessParameter1[FitnessParameter1<0] = 0\n",
    "    FitnessParameter2=np.max(T0Edge[0]-np.abs(BeamYL), 0)\n",
    "    Fitness=FitnessParameter2*FitnessParameter1;\n",
    "    # logFitness=np.log(Fitness);\n",
    "    return Fitness\n",
    "\n",
    "def optimal_T0_freq(Ei):\n",
    "    t0_freqs = np.arange(0., 180., 1.)\n",
    "    fitness = compute_fitness(Ei, t0_freqs)\n",
    "    return t0_freqs[np.argmax(fitness)]"
   ]
  },
  {
   "cell_type": "code",
   "execution_count": 6,
   "metadata": {},
   "outputs": [
    {
     "name": "stdout",
     "output_type": "stream",
     "text": [
      "179.0\n"
     ]
    }
   ],
   "source": [
    "print optimal_T0_freq(400.)"
   ]
  },
  {
   "cell_type": "code",
   "execution_count": 7,
   "metadata": {},
   "outputs": [
    {
     "data": {
      "application/javascript": [
       "window.genUID = function() {\n",
       "    return 'xxxxxxxx-xxxx-4xxx-yxxx-xxxxxxxxxxxx'.replace(/[xy]/g, function(c) {\n",
       "        var r = Math.random()*16|0, v = c == 'x' ? r : (r&0x3|0x8);\n",
       "        return v.toString(16);\n",
       "    });\n",
       "};\n",
       "\n",
       "\n",
       "define('graphWidget', [\"@jupyter-widgets/base\"], function (widget) {\n",
       "\n",
       "    var GraphView = widget.DOMWidgetView.extend({\n",
       "        render: function(){\n",
       "            var that = this;\n",
       "\n",
       "            var graphId = window.genUID();\n",
       "            var loadingId = 'loading-'+graphId;\n",
       "\n",
       "\n",
       "            var _graph_url = that.model.get('_graph_url');\n",
       "\n",
       "            // variable plotlyDomain in the case of enterprise\n",
       "            var url_parts = _graph_url.split('/');\n",
       "            var plotlyDomain = url_parts[0] + '//' + url_parts[2];\n",
       "\n",
       "            if(!('plotlyDomains' in window)){\n",
       "                window.plotlyDomains = {};\n",
       "            }\n",
       "            window.plotlyDomains[graphId] = plotlyDomain;\n",
       "\n",
       "            // Place IFrame in output cell div `$el`\n",
       "            that.$el.css('width', '100%');\n",
       "            that.$graph = $(['<iframe id=\"'+graphId+'\"',\n",
       "                             'src=\"'+_graph_url+'.embed\"',\n",
       "                             'seamless',\n",
       "                             'style=\"border: none;\"',\n",
       "                             'width=\"100%\"',\n",
       "                             'height=\"600\">',\n",
       "                             '</iframe>'].join(' '));\n",
       "            that.$graph.appendTo(that.$el);\n",
       "\n",
       "            that.$loading = $('<div id=\"'+loadingId+'\">Initializing...</div>')\n",
       "                            .appendTo(that.$el);\n",
       "\n",
       "            // for some reason the 'width' is being changed in IPython 3.0.0\n",
       "            // for the containing `div` element. There's a flicker here, but\n",
       "            // I was unable to fix it otherwise.\n",
       "            setTimeout(function ()  {\n",
       "                if (IPYTHON_VERSION === '3') {\n",
       "                    $('#' + graphId)[0].parentElement.style.width = '100%';\n",
       "                }\n",
       "            }, 500);\n",
       "\n",
       "            // initialize communication with the iframe\n",
       "            if(!('pingers' in window)){\n",
       "                window.pingers = {};\n",
       "            }\n",
       "\n",
       "            window.pingers[graphId] = setInterval(function() {\n",
       "                that.graphContentWindow = $('#'+graphId)[0].contentWindow;\n",
       "                that.graphContentWindow.postMessage({task: 'ping'}, plotlyDomain);\n",
       "            }, 200);\n",
       "\n",
       "            // Assign a message listener to the 'message' events\n",
       "            // from iframe's postMessage protocol.\n",
       "            // Filter the messages by iframe src so that the right message\n",
       "            // gets passed to the right widget\n",
       "            if(!('messageListeners' in window)){\n",
       "                 window.messageListeners = {};\n",
       "            }\n",
       "\n",
       "            window.messageListeners[graphId] = function(e) {\n",
       "                if(_graph_url.indexOf(e.origin)>-1) {\n",
       "                    var frame = document.getElementById(graphId);\n",
       "\n",
       "                    if(frame === null){\n",
       "                        // frame doesn't exist in the dom anymore, clean up it's old event listener\n",
       "                        window.removeEventListener('message', window.messageListeners[graphId]);\n",
       "                        clearInterval(window.pingers[graphId]);\n",
       "                    } else if(frame.contentWindow === e.source) {\n",
       "                        // TODO: Stop event propagation, so each frame doesn't listen and filter\n",
       "                        var frameContentWindow = $('#'+graphId)[0].contentWindow;\n",
       "                        var message = e.data;\n",
       "\n",
       "                        if('pong' in message && message.pong) {\n",
       "                            $('#loading-'+graphId).hide();\n",
       "                            clearInterval(window.pingers[graphId]);\n",
       "                            that.send({event: 'pong', graphId: graphId});\n",
       "                        } else if (message.type==='hover' ||\n",
       "                                   message.type==='zoom'  ||\n",
       "                                   message.type==='click' ||\n",
       "                                   message.type==='unhover') {\n",
       "\n",
       "                            // click and hover events contain all of the data in the traces,\n",
       "                            // which can be a very large object and may take a ton of time\n",
       "                            // to pass to the python backend. Strip out the data, and require\n",
       "                            // the user to call get_figure if they need trace information\n",
       "                            if(message.type !== 'zoom') {\n",
       "                                for(var i in message.points) {\n",
       "                                    delete message.points[i].data;\n",
       "                                    delete message.points[i].fullData;\n",
       "                                }\n",
       "                            }\n",
       "                            that.send({event: message.type, message: message, graphId: graphId});\n",
       "                        } else if (message.task === 'getAttributes') {\n",
       "                            that.send({event: 'getAttributes', response: message.response});\n",
       "                        }\n",
       "                    }\n",
       "                }\n",
       "            };\n",
       "\n",
       "            window.removeEventListener('message', window.messageListeners[graphId]);\n",
       "            window.addEventListener('message', window.messageListeners[graphId]);\n",
       "\n",
       "        },\n",
       "\n",
       "        update: function() {\n",
       "            // Listen for messages from the graph widget in python\n",
       "            var jmessage = this.model.get('_message');\n",
       "            var message = JSON.parse(jmessage);\n",
       "\n",
       "            // check for duplicate messages\n",
       "            if(!('messageIds' in window)){\n",
       "                window.messageIds = {};\n",
       "            }\n",
       "\n",
       "            if(!(message.uid in window.messageIds)){\n",
       "                // message hasn't been received yet, do stuff\n",
       "                window.messageIds[message.uid] = true;\n",
       "\n",
       "                if (message.fadeTo) {\n",
       "                    this.fadeTo(message);\n",
       "                } else {\n",
       "                    var plot = $('#' + message.graphId)[0].contentWindow;\n",
       "                    plot.postMessage(message, window.plotlyDomains[message.graphId]);\n",
       "                }\n",
       "            }\n",
       "\n",
       "            return GraphView.__super__.update.apply(this);\n",
       "        },\n",
       "\n",
       "        /**\n",
       "         * Wrapper for jquery's `fadeTo` function.\n",
       "         *\n",
       "         * @param message Contains the id we need to find the element.\n",
       "         */\n",
       "        fadeTo: function (message) {\n",
       "            var plot = $('#' + message.graphId);\n",
       "            plot.fadeTo(message.duration, message.opacity);\n",
       "        }\n",
       "    });\n",
       "\n",
       "    // Register the GraphView with the widget manager.\n",
       "    return {\n",
       "        GraphView: GraphView\n",
       "    }\n",
       "\n",
       "});\n",
       "\n",
       "//@ sourceURL=graphWidget.js\n"
      ],
      "text/plain": [
       "<IPython.core.display.Javascript object>"
      ]
     },
     "metadata": {},
     "output_type": "display_data"
    },
    {
     "data": {
      "text/plain": [
       "<module 'resolution_plot' from 'resolution_plot.pyc'>"
      ]
     },
     "execution_count": 7,
     "metadata": {},
     "output_type": "execute_result"
    }
   ],
   "source": [
    "import resolution_plot\n",
    "reload(resolution_plot)"
   ]
  },
  {
   "cell_type": "code",
   "execution_count": 8,
   "metadata": {},
   "outputs": [
    {
     "name": "stdout",
     "output_type": "stream",
     "text": [
      "reading data. please wait...\n",
      "  done\n"
     ]
    }
   ],
   "source": [
    "fc2data = resolution_plot.ExpData('./V_Cali_Int_Res_FC2_2018_v2.dat')"
   ]
  },
  {
   "cell_type": "code",
   "execution_count": 20,
   "metadata": {},
   "outputs": [],
   "source": [
    "mismatch=[]\n",
    "match = []\n",
    "for Ei, T0, fermi in zip(fc2data.vdata.Energy, fc2data.vdata.Chopper3, fc2data.chopper_freqs):\n",
    "    f = optimal_T0_freq(Ei)\n",
    "    record = Ei, fermi, f, T0\n",
    "    if abs(f-T0)>30:\n",
    "        mismatch.append( record )\n",
    "    else:\n",
    "        match.append(record)"
   ]
  },
  {
   "cell_type": "code",
   "execution_count": 18,
   "metadata": {},
   "outputs": [],
   "source": [
    "mismatch = sorted(mismatch)"
   ]
  },
  {
   "cell_type": "code",
   "execution_count": 19,
   "metadata": {},
   "outputs": [
    {
     "data": {
      "text/plain": [
       "[(20.0, 60.0, 61.0, 30.0),\n",
       " (20.0, 60.0, 61.0, 30.0),\n",
       " (20.0, 120.0, 61.0, 30.0),\n",
       " (20.0, 180.0, 61.0, 30.0),\n",
       " (20.0, 240.0, 61.0, 30.0),\n",
       " (20.0, 300.0, 61.0, 30.0),\n",
       " (20.0, 360.0, 61.0, 30.0),\n",
       " (20.0, 420.0, 61.0, 30.0),\n",
       " (50.0, 60.0, 96.0, 60.0),\n",
       " (50.0, 120.0, 96.0, 60.0),\n",
       " (50.0, 120.0, 96.0, 60.0),\n",
       " (50.0, 180.0, 96.0, 60.0),\n",
       " (50.0, 240.0, 96.0, 60.0),\n",
       " (50.0, 300.0, 96.0, 60.0),\n",
       " (50.0, 360.0, 96.0, 60.0),\n",
       " (50.0, 420.0, 96.0, 60.0),\n",
       " (50.0, 480.0, 96.0, 60.0),\n",
       " (50.0, 540.0, 96.0, 60.0),\n",
       " (50.0, 600.0, 96.0, 60.0),\n",
       " (80.0, 60.0, 121.0, 90.0),\n",
       " (80.0, 120.0, 121.0, 90.0),\n",
       " (80.0, 180.0, 121.0, 90.0),\n",
       " (80.0, 240.0, 121.0, 90.0),\n",
       " (80.0, 300.0, 121.0, 90.0),\n",
       " (80.0, 360.0, 121.0, 90.0),\n",
       " (80.0, 420.0, 121.0, 90.0),\n",
       " (80.0, 480.0, 121.0, 90.0),\n",
       " (80.0, 540.0, 121.0, 90.0),\n",
       " (80.0, 600.0, 121.0, 90.0),\n",
       " (90.0, 60.0, 128.0, 90.0),\n",
       " (90.0, 120.0, 128.0, 90.0),\n",
       " (90.0, 180.0, 128.0, 90.0),\n",
       " (90.0, 240.0, 128.0, 90.0),\n",
       " (90.0, 300.0, 128.0, 90.0),\n",
       " (90.0, 360.0, 128.0, 90.0),\n",
       " (90.0, 420.0, 128.0, 90.0),\n",
       " (90.0, 480.0, 128.0, 90.0),\n",
       " (90.0, 540.0, 128.0, 90.0),\n",
       " (90.0, 600.0, 128.0, 90.0),\n",
       " (125.0, 60.0, 151.0, 120.0),\n",
       " (125.0, 60.0, 151.0, 120.0),\n",
       " (125.0, 120.0, 151.0, 120.0),\n",
       " (125.0, 180.0, 151.0, 120.0),\n",
       " (125.0, 240.0, 151.0, 120.0),\n",
       " (125.0, 300.0, 151.0, 120.0),\n",
       " (125.0, 360.0, 151.0, 120.0),\n",
       " (125.0, 420.0, 151.0, 120.0),\n",
       " (125.0, 480.0, 151.0, 120.0),\n",
       " (125.0, 540.0, 151.0, 120.0),\n",
       " (125.0, 600.0, 151.0, 120.0),\n",
       " (150.0, 120.0, 166.0, 120.0),\n",
       " (150.0, 180.0, 166.0, 120.0),\n",
       " (150.0, 240.0, 166.0, 120.0),\n",
       " (150.0, 300.0, 166.0, 120.0),\n",
       " (150.0, 360.0, 166.0, 120.0),\n",
       " (150.0, 420.0, 166.0, 120.0),\n",
       " (150.0, 480.0, 166.0, 120.0),\n",
       " (150.0, 540.0, 166.0, 120.0),\n",
       " (150.0, 600.0, 166.0, 120.0)]"
      ]
     },
     "execution_count": 19,
     "metadata": {},
     "output_type": "execute_result"
    }
   ],
   "source": [
    "mismatch"
   ]
  },
  {
   "cell_type": "code",
   "execution_count": 26,
   "metadata": {},
   "outputs": [
    {
     "data": {
      "text/plain": [
       "{(20.0, 61.0, 30.0),\n",
       " (50.0, 96.0, 60.0),\n",
       " (80.0, 121.0, 90.0),\n",
       " (90.0, 128.0, 90.0),\n",
       " (125.0, 151.0, 120.0),\n",
       " (150.0, 166.0, 120.0)}"
      ]
     },
     "execution_count": 26,
     "metadata": {},
     "output_type": "execute_result"
    }
   ],
   "source": [
    "mismatch_Ei_freqs = set((r[0],r[2],r[3]) for r in mismatch)\n",
    "mismatch_Ei_freqs"
   ]
  },
  {
   "cell_type": "code",
   "execution_count": 30,
   "metadata": {},
   "outputs": [
    {
     "name": "stdout",
     "output_type": "stream",
     "text": [
      "      20\t      61\t      30\n",
      "      50\t      96\t      60\n",
      "      80\t     121\t      90\n",
      "      90\t     128\t      90\n",
      "     125\t     151\t     120\n",
      "     150\t     166\t     120\n"
     ]
    }
   ],
   "source": [
    "for Ei, of, f in sorted(mismatch_Ei_freqs):\n",
    "    print '%8.0f\\t%8.0f\\t%8.0f' % (Ei, of, f)"
   ]
  },
  {
   "cell_type": "code",
   "execution_count": 21,
   "metadata": {},
   "outputs": [
    {
     "data": {
      "text/plain": [
       "[(8.0, 60.0, 38.0, 30.0),\n",
       " (8.0, 60.0, 38.0, 30.0),\n",
       " (8.0, 120.0, 38.0, 30.0),\n",
       " (8.0, 120.0, 38.0, 30.0),\n",
       " (8.0, 120.0, 38.0, 30.0),\n",
       " (8.0, 180.0, 38.0, 30.0),\n",
       " (8.0, 240.0, 38.0, 30.0),\n",
       " (10.0, 60.0, 43.0, 30.0),\n",
       " (10.0, 60.0, 43.0, 30.0),\n",
       " (10.0, 120.0, 43.0, 30.0),\n",
       " (10.0, 180.0, 43.0, 30.0),\n",
       " (10.0, 240.0, 43.0, 30.0),\n",
       " (10.0, 240.0, 43.0, 30.0),\n",
       " (10.0, 300.0, 43.0, 30.0),\n",
       " (12.0, 60.0, 47.0, 30.0),\n",
       " (12.0, 60.0, 47.0, 30.0),\n",
       " (12.0, 120.0, 47.0, 30.0),\n",
       " (12.0, 180.0, 47.0, 30.0),\n",
       " (12.0, 240.0, 47.0, 30.0),\n",
       " (12.0, 300.0, 47.0, 30.0),\n",
       " (15.0, 60.0, 52.0, 30.0),\n",
       " (15.0, 60.0, 52.0, 30.0),\n",
       " (15.0, 120.0, 52.0, 30.0),\n",
       " (15.0, 180.0, 52.0, 30.0),\n",
       " (15.0, 240.0, 52.0, 30.0),\n",
       " (15.0, 300.0, 52.0, 30.0),\n",
       " (15.0, 360.0, 52.0, 30.0),\n",
       " (25.0, 60.0, 68.0, 60.0),\n",
       " (25.0, 60.0, 68.0, 60.0),\n",
       " (25.0, 180.0, 68.0, 60.0),\n",
       " (25.0, 240.0, 68.0, 60.0),\n",
       " (25.0, 240.0, 68.0, 60.0),\n",
       " (25.0, 300.0, 68.0, 60.0),\n",
       " (25.0, 360.0, 68.0, 60.0),\n",
       " (25.0, 420.0, 68.0, 60.0),\n",
       " (25.0, 480.0, 68.0, 60.0),\n",
       " (30.0, 60.0, 74.0, 60.0),\n",
       " (30.0, 60.0, 74.0, 60.0),\n",
       " (30.0, 180.0, 74.0, 60.0),\n",
       " (30.0, 240.0, 74.0, 60.0),\n",
       " (30.0, 300.0, 74.0, 60.0),\n",
       " (30.0, 360.0, 74.0, 60.0),\n",
       " (30.0, 420.0, 74.0, 60.0),\n",
       " (30.0, 480.0, 74.0, 60.0),\n",
       " (30.0, 540.0, 74.0, 60.0),\n",
       " (40.0, 60.0, 86.0, 60.0),\n",
       " (40.0, 120.0, 86.0, 60.0),\n",
       " (40.0, 120.0, 86.0, 60.0),\n",
       " (40.0, 180.0, 86.0, 60.0),\n",
       " (40.0, 240.0, 86.0, 60.0),\n",
       " (40.0, 300.0, 86.0, 60.0),\n",
       " (40.0, 360.0, 86.0, 60.0),\n",
       " (40.0, 420.0, 86.0, 60.0),\n",
       " (40.0, 480.0, 86.0, 60.0),\n",
       " (40.0, 540.0, 86.0, 60.0),\n",
       " (40.0, 600.0, 86.0, 60.0),\n",
       " (60.0, 60.0, 105.0, 90.0),\n",
       " (60.0, 120.0, 105.0, 90.0),\n",
       " (60.0, 180.0, 105.0, 90.0),\n",
       " (60.0, 240.0, 105.0, 90.0),\n",
       " (60.0, 300.0, 105.0, 90.0),\n",
       " (60.0, 360.0, 105.0, 90.0),\n",
       " (60.0, 420.0, 105.0, 90.0),\n",
       " (60.0, 480.0, 105.0, 90.0),\n",
       " (60.0, 540.0, 105.0, 90.0),\n",
       " (60.0, 600.0, 105.0, 90.0),\n",
       " (70.0, 60.0, 113.0, 90.0),\n",
       " (70.0, 120.0, 113.0, 90.0),\n",
       " (70.0, 180.0, 113.0, 90.0),\n",
       " (70.0, 240.0, 113.0, 90.0),\n",
       " (70.0, 300.0, 113.0, 90.0),\n",
       " (70.0, 360.0, 113.0, 90.0),\n",
       " (70.0, 420.0, 113.0, 90.0),\n",
       " (70.0, 480.0, 113.0, 90.0),\n",
       " (70.0, 540.0, 113.0, 90.0),\n",
       " (70.0, 600.0, 113.0, 90.0),\n",
       " (100.0, 60.0, 135.0, 120.0),\n",
       " (100.0, 120.0, 135.0, 120.0),\n",
       " (100.0, 180.0, 135.0, 120.0),\n",
       " (100.0, 240.0, 135.0, 120.0),\n",
       " (100.0, 300.0, 135.0, 120.0),\n",
       " (100.0, 360.0, 135.0, 120.0),\n",
       " (100.0, 420.0, 135.0, 120.0),\n",
       " (100.0, 480.0, 135.0, 120.0),\n",
       " (100.0, 540.0, 135.0, 120.0),\n",
       " (100.0, 600.0, 135.0, 120.0),\n",
       " (200.0, 180.0, 179.0, 150.0),\n",
       " (200.0, 240.0, 179.0, 150.0),\n",
       " (200.0, 300.0, 179.0, 150.0),\n",
       " (200.0, 360.0, 179.0, 150.0),\n",
       " (200.0, 420.0, 179.0, 150.0),\n",
       " (200.0, 480.0, 179.0, 150.0),\n",
       " (200.0, 540.0, 179.0, 150.0),\n",
       " (200.0, 600.0, 179.0, 150.0),\n",
       " (250.0, 180.0, 179.0, 150.0),\n",
       " (250.0, 240.0, 179.0, 150.0),\n",
       " (250.0, 300.0, 179.0, 150.0),\n",
       " (250.0, 360.0, 179.0, 150.0),\n",
       " (250.0, 420.0, 179.0, 150.0),\n",
       " (250.0, 480.0, 179.0, 150.0),\n",
       " (250.0, 540.0, 179.0, 150.0),\n",
       " (250.0, 600.0, 179.0, 150.0),\n",
       " (300.0, 240.0, 179.0, 150.0),\n",
       " (300.0, 300.0, 179.0, 150.0),\n",
       " (300.0, 360.0, 179.0, 150.0),\n",
       " (300.0, 420.0, 179.0, 150.0),\n",
       " (300.0, 480.0, 179.0, 150.0),\n",
       " (300.0, 540.0, 179.0, 150.0),\n",
       " (300.0, 600.0, 179.0, 150.0),\n",
       " (400.0, 240.0, 179.0, 180.0),\n",
       " (400.0, 300.0, 179.0, 180.0),\n",
       " (400.0, 360.0, 179.0, 180.0),\n",
       " (400.0, 420.0, 179.0, 180.0),\n",
       " (400.0, 480.0, 179.0, 180.0),\n",
       " (400.0, 540.0, 179.0, 180.0),\n",
       " (400.0, 600.0, 179.0, 180.0),\n",
       " (500.0, 240.0, 179.0, 180.0),\n",
       " (500.0, 300.0, 179.0, 180.0),\n",
       " (500.0, 360.0, 179.0, 180.0),\n",
       " (500.0, 420.0, 179.0, 180.0),\n",
       " (500.0, 480.0, 179.0, 180.0),\n",
       " (500.0, 540.0, 179.0, 180.0),\n",
       " (500.0, 600.0, 179.0, 180.0),\n",
       " (600.0, 540.0, 179.0, 180.0),\n",
       " (600.0, 600.0, 179.0, 180.0)]"
      ]
     },
     "execution_count": 21,
     "metadata": {},
     "output_type": "execute_result"
    }
   ],
   "source": [
    "match = sorted(match)\n",
    "match"
   ]
  },
  {
   "cell_type": "code",
   "execution_count": 27,
   "metadata": {},
   "outputs": [
    {
     "data": {
      "text/plain": [
       "{(8.0, 38.0, 30.0),\n",
       " (10.0, 43.0, 30.0),\n",
       " (12.0, 47.0, 30.0),\n",
       " (15.0, 52.0, 30.0),\n",
       " (25.0, 68.0, 60.0),\n",
       " (30.0, 74.0, 60.0),\n",
       " (40.0, 86.0, 60.0),\n",
       " (60.0, 105.0, 90.0),\n",
       " (70.0, 113.0, 90.0),\n",
       " (100.0, 135.0, 120.0),\n",
       " (200.0, 179.0, 150.0),\n",
       " (250.0, 179.0, 150.0),\n",
       " (300.0, 179.0, 150.0),\n",
       " (400.0, 179.0, 180.0),\n",
       " (500.0, 179.0, 180.0),\n",
       " (600.0, 179.0, 180.0)}"
      ]
     },
     "execution_count": 27,
     "metadata": {},
     "output_type": "execute_result"
    }
   ],
   "source": [
    "match_Ei_freqs = set((r[0],r[2],r[3]) for r in match)\n",
    "match_Ei_freqs"
   ]
  },
  {
   "cell_type": "code",
   "execution_count": null,
   "metadata": {},
   "outputs": [],
   "source": []
  },
  {
   "cell_type": "code",
   "execution_count": 42,
   "metadata": {},
   "outputs": [
    {
     "data": {
      "text/plain": [
       "0        8.0\n",
       "1       10.0\n",
       "2       12.0\n",
       "3       15.0\n",
       "4       20.0\n",
       "5       25.0\n",
       "6       30.0\n",
       "7       40.0\n",
       "8       50.0\n",
       "9       60.0\n",
       "10      70.0\n",
       "11      80.0\n",
       "12      90.0\n",
       "13     100.0\n",
       "14     125.0\n",
       "15     150.0\n",
       "16     200.0\n",
       "17     250.0\n",
       "18       8.0\n",
       "19      10.0\n",
       "20      25.0\n",
       "21      30.0\n",
       "22      40.0\n",
       "23      50.0\n",
       "24      60.0\n",
       "25      70.0\n",
       "26      80.0\n",
       "27      90.0\n",
       "28     100.0\n",
       "29     125.0\n",
       "       ...  \n",
       "154     15.0\n",
       "155     20.0\n",
       "156     25.0\n",
       "157     30.0\n",
       "158      8.0\n",
       "159      8.0\n",
       "160     10.0\n",
       "161     12.0\n",
       "162     15.0\n",
       "163     20.0\n",
       "164     25.0\n",
       "165     30.0\n",
       "166     40.0\n",
       "167     50.0\n",
       "168     60.0\n",
       "169     70.0\n",
       "170     80.0\n",
       "171     90.0\n",
       "172    100.0\n",
       "173    125.0\n",
       "174      8.0\n",
       "175     40.0\n",
       "176     50.0\n",
       "177     60.0\n",
       "178     70.0\n",
       "179     80.0\n",
       "180     90.0\n",
       "181    100.0\n",
       "182    125.0\n",
       "183    150.0\n",
       "Name: Energy, Length: 184, dtype: float64"
      ]
     },
     "execution_count": 42,
     "metadata": {},
     "output_type": "execute_result"
    }
   ],
   "source": [
    "fc2data.vdata.Energy"
   ]
  },
  {
   "cell_type": "code",
   "execution_count": null,
   "metadata": {},
   "outputs": [],
   "source": []
  },
  {
   "cell_type": "code",
   "execution_count": 56,
   "metadata": {},
   "outputs": [
    {
     "name": "stdout",
     "output_type": "stream",
     "text": [
      "125.0\t\t120.0\t\t151.0\n",
      "150.0\t\t120.0\t\t166.0\n",
      "200.0\t\t150.0\t\t179.0\n",
      "250.0\t\t150.0\t\t179.0\n",
      "300.0\t\t150.0\t\t179.0\n",
      "400.0\t\t180.0\t\t179.0\n",
      "500.0\t\t180.0\t\t179.0\n",
      "600.0\t\t180.0\t\t179.0\n"
     ]
    }
   ],
   "source": [
    "energies = [125., 150., 200., 250., 300., 400., 500., 600.]\n",
    "for e in energies:\n",
    "    condition = np.isclose(fc2data.vdata.Energy, e)\n",
    "    t0s = fc2data.vdata.Chopper3[condition]\n",
    "    print '%s\\t\\t%s\\t\\t%s' % (e, list(t0s)[0], optimal_T0_freq(e))"
   ]
  },
  {
   "cell_type": "code",
   "execution_count": 50,
   "metadata": {},
   "outputs": [
    {
     "name": "stdout",
     "output_type": "stream",
     "text": [
      "180.0\n",
      "180.0\n"
     ]
    }
   ],
   "source": [
    "for t0 in t0s: print t0"
   ]
  },
  {
   "cell_type": "code",
   "execution_count": null,
   "metadata": {},
   "outputs": [],
   "source": []
  }
 ],
 "metadata": {
  "kernelspec": {
   "display_name": "DGS-powder at jnrk-sns-analysis",
   "language": "python",
   "name": "jnrk-sns-analysis-dgs-powder"
  },
  "language_info": {
   "codemirror_mode": {
    "name": "ipython",
    "version": 2
   },
   "file_extension": ".py",
   "mimetype": "text/x-python",
   "name": "python",
   "nbconvert_exporter": "python",
   "pygments_lexer": "ipython2",
   "version": "2.7.14"
  },
  "toc": {
   "base_numbering": 1,
   "nav_menu": {},
   "number_sections": true,
   "sideBar": true,
   "skip_h1_title": false,
   "title_cell": "Table of Contents",
   "title_sidebar": "Contents",
   "toc_cell": false,
   "toc_position": {},
   "toc_section_display": true,
   "toc_window_display": true
  }
 },
 "nbformat": 4,
 "nbformat_minor": 1
}
