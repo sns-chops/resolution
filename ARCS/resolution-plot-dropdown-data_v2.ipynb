{
 "cells": [
  {
   "cell_type": "code",
   "execution_count": 1,
   "metadata": {},
   "outputs": [
    {
     "name": "stdout",
     "output_type": "stream",
     "text": [
      "/SNS/users/lj7/dv/sns-chops/resolution/ARCS\n"
     ]
    }
   ],
   "source": [
    "%cd ~/dv/sns-chops/resolution/ARCS/\n",
    "import os, numpy as np"
   ]
  },
  {
   "cell_type": "code",
   "execution_count": 2,
   "metadata": {},
   "outputs": [],
   "source": [
    "import pandas as pd\n",
    "import numpy as np\n",
    "import scipy as sp\n",
    "import plotly.plotly as py"
   ]
  },
  {
   "cell_type": "code",
   "execution_count": 3,
   "metadata": {},
   "outputs": [],
   "source": [
    "import plotly"
   ]
  },
  {
   "cell_type": "code",
   "execution_count": 4,
   "metadata": {},
   "outputs": [],
   "source": [
    "import plotly.figure_factory as ff"
   ]
  },
  {
   "cell_type": "markdown",
   "metadata": {},
   "source": [
    "# Get data"
   ]
  },
  {
   "cell_type": "code",
   "execution_count": 5,
   "metadata": {},
   "outputs": [
    {
     "data": {
      "application/javascript": [
       "window.genUID = function() {\n",
       "    return 'xxxxxxxx-xxxx-4xxx-yxxx-xxxxxxxxxxxx'.replace(/[xy]/g, function(c) {\n",
       "        var r = Math.random()*16|0, v = c == 'x' ? r : (r&0x3|0x8);\n",
       "        return v.toString(16);\n",
       "    });\n",
       "};\n",
       "\n",
       "\n",
       "define('graphWidget', [\"@jupyter-widgets/base\"], function (widget) {\n",
       "\n",
       "    var GraphView = widget.DOMWidgetView.extend({\n",
       "        render: function(){\n",
       "            var that = this;\n",
       "\n",
       "            var graphId = window.genUID();\n",
       "            var loadingId = 'loading-'+graphId;\n",
       "\n",
       "\n",
       "            var _graph_url = that.model.get('_graph_url');\n",
       "\n",
       "            // variable plotlyDomain in the case of enterprise\n",
       "            var url_parts = _graph_url.split('/');\n",
       "            var plotlyDomain = url_parts[0] + '//' + url_parts[2];\n",
       "\n",
       "            if(!('plotlyDomains' in window)){\n",
       "                window.plotlyDomains = {};\n",
       "            }\n",
       "            window.plotlyDomains[graphId] = plotlyDomain;\n",
       "\n",
       "            // Place IFrame in output cell div `$el`\n",
       "            that.$el.css('width', '100%');\n",
       "            that.$graph = $(['<iframe id=\"'+graphId+'\"',\n",
       "                             'src=\"'+_graph_url+'.embed\"',\n",
       "                             'seamless',\n",
       "                             'style=\"border: none;\"',\n",
       "                             'width=\"100%\"',\n",
       "                             'height=\"600\">',\n",
       "                             '</iframe>'].join(' '));\n",
       "            that.$graph.appendTo(that.$el);\n",
       "\n",
       "            that.$loading = $('<div id=\"'+loadingId+'\">Initializing...</div>')\n",
       "                            .appendTo(that.$el);\n",
       "\n",
       "            // for some reason the 'width' is being changed in IPython 3.0.0\n",
       "            // for the containing `div` element. There's a flicker here, but\n",
       "            // I was unable to fix it otherwise.\n",
       "            setTimeout(function ()  {\n",
       "                if (IPYTHON_VERSION === '3') {\n",
       "                    $('#' + graphId)[0].parentElement.style.width = '100%';\n",
       "                }\n",
       "            }, 500);\n",
       "\n",
       "            // initialize communication with the iframe\n",
       "            if(!('pingers' in window)){\n",
       "                window.pingers = {};\n",
       "            }\n",
       "\n",
       "            window.pingers[graphId] = setInterval(function() {\n",
       "                that.graphContentWindow = $('#'+graphId)[0].contentWindow;\n",
       "                that.graphContentWindow.postMessage({task: 'ping'}, plotlyDomain);\n",
       "            }, 200);\n",
       "\n",
       "            // Assign a message listener to the 'message' events\n",
       "            // from iframe's postMessage protocol.\n",
       "            // Filter the messages by iframe src so that the right message\n",
       "            // gets passed to the right widget\n",
       "            if(!('messageListeners' in window)){\n",
       "                 window.messageListeners = {};\n",
       "            }\n",
       "\n",
       "            window.messageListeners[graphId] = function(e) {\n",
       "                if(_graph_url.indexOf(e.origin)>-1) {\n",
       "                    var frame = document.getElementById(graphId);\n",
       "\n",
       "                    if(frame === null){\n",
       "                        // frame doesn't exist in the dom anymore, clean up it's old event listener\n",
       "                        window.removeEventListener('message', window.messageListeners[graphId]);\n",
       "                        clearInterval(window.pingers[graphId]);\n",
       "                    } else if(frame.contentWindow === e.source) {\n",
       "                        // TODO: Stop event propagation, so each frame doesn't listen and filter\n",
       "                        var frameContentWindow = $('#'+graphId)[0].contentWindow;\n",
       "                        var message = e.data;\n",
       "\n",
       "                        if('pong' in message && message.pong) {\n",
       "                            $('#loading-'+graphId).hide();\n",
       "                            clearInterval(window.pingers[graphId]);\n",
       "                            that.send({event: 'pong', graphId: graphId});\n",
       "                        } else if (message.type==='hover' ||\n",
       "                                   message.type==='zoom'  ||\n",
       "                                   message.type==='click' ||\n",
       "                                   message.type==='unhover') {\n",
       "\n",
       "                            // click and hover events contain all of the data in the traces,\n",
       "                            // which can be a very large object and may take a ton of time\n",
       "                            // to pass to the python backend. Strip out the data, and require\n",
       "                            // the user to call get_figure if they need trace information\n",
       "                            if(message.type !== 'zoom') {\n",
       "                                for(var i in message.points) {\n",
       "                                    delete message.points[i].data;\n",
       "                                    delete message.points[i].fullData;\n",
       "                                }\n",
       "                            }\n",
       "                            that.send({event: message.type, message: message, graphId: graphId});\n",
       "                        } else if (message.task === 'getAttributes') {\n",
       "                            that.send({event: 'getAttributes', response: message.response});\n",
       "                        }\n",
       "                    }\n",
       "                }\n",
       "            };\n",
       "\n",
       "            window.removeEventListener('message', window.messageListeners[graphId]);\n",
       "            window.addEventListener('message', window.messageListeners[graphId]);\n",
       "\n",
       "        },\n",
       "\n",
       "        update: function() {\n",
       "            // Listen for messages from the graph widget in python\n",
       "            var jmessage = this.model.get('_message');\n",
       "            var message = JSON.parse(jmessage);\n",
       "\n",
       "            // check for duplicate messages\n",
       "            if(!('messageIds' in window)){\n",
       "                window.messageIds = {};\n",
       "            }\n",
       "\n",
       "            if(!(message.uid in window.messageIds)){\n",
       "                // message hasn't been received yet, do stuff\n",
       "                window.messageIds[message.uid] = true;\n",
       "\n",
       "                if (message.fadeTo) {\n",
       "                    this.fadeTo(message);\n",
       "                } else {\n",
       "                    var plot = $('#' + message.graphId)[0].contentWindow;\n",
       "                    plot.postMessage(message, window.plotlyDomains[message.graphId]);\n",
       "                }\n",
       "            }\n",
       "\n",
       "            return GraphView.__super__.update.apply(this);\n",
       "        },\n",
       "\n",
       "        /**\n",
       "         * Wrapper for jquery's `fadeTo` function.\n",
       "         *\n",
       "         * @param message Contains the id we need to find the element.\n",
       "         */\n",
       "        fadeTo: function (message) {\n",
       "            var plot = $('#' + message.graphId);\n",
       "            plot.fadeTo(message.duration, message.opacity);\n",
       "        }\n",
       "    });\n",
       "\n",
       "    // Register the GraphView with the widget manager.\n",
       "    return {\n",
       "        GraphView: GraphView\n",
       "    }\n",
       "\n",
       "});\n",
       "\n",
       "//@ sourceURL=graphWidget.js\n"
      ],
      "text/plain": [
       "<IPython.core.display.Javascript object>"
      ]
     },
     "metadata": {},
     "output_type": "display_data"
    },
    {
     "data": {
      "text/plain": [
       "<module 'resolution_plot' from 'resolution_plot.pyc'>"
      ]
     },
     "execution_count": 5,
     "metadata": {},
     "output_type": "execute_result"
    }
   ],
   "source": [
    "import resolution_plot\n",
    "reload(resolution_plot)"
   ]
  },
  {
   "cell_type": "code",
   "execution_count": 6,
   "metadata": {},
   "outputs": [
    {
     "name": "stdout",
     "output_type": "stream",
     "text": [
      "reading data. please wait...\n",
      "  done\n"
     ]
    }
   ],
   "source": [
    "fc1data = resolution_plot.ExpData('./V_Cali_Int_Res_FC1_2018_v2.dat')"
   ]
  },
  {
   "cell_type": "code",
   "execution_count": 7,
   "metadata": {},
   "outputs": [
    {
     "name": "stdout",
     "output_type": "stream",
     "text": [
      "reading data. please wait...\n",
      "  done\n"
     ]
    }
   ],
   "source": [
    "fc2data = resolution_plot.ExpData('./V_Cali_Int_Res_FC2_2018_v2.dat')"
   ]
  },
  {
   "cell_type": "code",
   "execution_count": 8,
   "metadata": {},
   "outputs": [
    {
     "name": "stdout",
     "output_type": "stream",
     "text": [
      "reading data. please wait...\n",
      "  done\n"
     ]
    }
   ],
   "source": [
    "fc1_highres_data = resolution_plot.ExpData('./V_Cali_Int_Res_FC1_HighRes_2018_v2.dat')"
   ]
  },
  {
   "cell_type": "code",
   "execution_count": 9,
   "metadata": {},
   "outputs": [],
   "source": [
    "unique_nominal_Eis = set( list(fc1data.Ei_list) + list(fc2data.Ei_list) + list(fc1_highres_data.Ei_list) )"
   ]
  },
  {
   "cell_type": "code",
   "execution_count": 10,
   "metadata": {},
   "outputs": [],
   "source": [
    "unique_nominal_Eis = sorted(list(unique_nominal_Eis))"
   ]
  },
  {
   "cell_type": "code",
   "execution_count": null,
   "metadata": {},
   "outputs": [],
   "source": []
  },
  {
   "cell_type": "markdown",
   "metadata": {},
   "source": [
    "## Automatic intensity settings"
   ]
  },
  {
   "cell_type": "code",
   "execution_count": 11,
   "metadata": {},
   "outputs": [],
   "source": [
    "datamap = {1: fc1data, 2: fc2data}\n",
    "\n",
    "fwhms = list()\n",
    "ints = list()\n",
    "Eis = list()\n",
    "labels = list()\n",
    "# for Ei, Chopper, Speed, T0 in np.loadtxt('HighIntensitySetting-fixed.txt', delimiter=','):\n",
    "for Ei, Chopper, Speed, T0 in np.loadtxt('./doug/new_Ei_high_flux.csv', delimiter=','):\n",
    "    data = datamap[Chopper]\n",
    "    condition1 = np.logical_and(np.isclose(data.vdata.Energy, Ei), np.isclose(data.chopper_freqs, Speed))\n",
    "    # print fc1data.vdata.Chopper3[condition1]\n",
    "    fwhms += list(data.FWHM[condition1])\n",
    "    ints += list(data.intensity[condition1])\n",
    "    Eis1 = list(data.vdata.Ei[condition1])\n",
    "    Eis += Eis1\n",
    "    labels += ['Chopper %d - Speed %s' % (Chopper, Speed)] * len(Eis1)\n",
    "    continue\n",
    "highint_Eis = Eis\n",
    "highint_ints = ints\n",
    "highint_FWHMs = fwhms\n",
    "highint_labels = labels"
   ]
  },
  {
   "cell_type": "markdown",
   "metadata": {},
   "source": [
    "## High resolution settings data"
   ]
  },
  {
   "cell_type": "code",
   "execution_count": 12,
   "metadata": {},
   "outputs": [],
   "source": [
    "datamap = {1: fc1data, 2: fc2data}\n",
    "\n",
    "fwhms = list()\n",
    "ints = list()\n",
    "Eis = list()\n",
    "labels = list()\n",
    "# for Ei, Chopper, Speed, T0 in np.loadtxt('HighResSetting.txt', delimiter=','):\n",
    "for Ei, Chopper, Speed, T0 in np.loadtxt('./doug/new_Ei_high_res.csv', delimiter=','):\n",
    "    data = datamap[Chopper]\n",
    "    condition1 = np.logical_and(np.isclose(data.vdata.Energy, Ei), np.isclose(data.chopper_freqs, Speed))\n",
    "    # print fc1data.vdata.Chopper3[condition1]\n",
    "    fwhms += list(data.FWHM[condition1])\n",
    "    ints += list(data.intensity[condition1])\n",
    "    Eis1 = list(data.vdata.Ei[condition1])\n",
    "    Eis += Eis1\n",
    "    labels += ['Chopper %d - Speed %s' % (Chopper, Speed)] * len(Eis1)\n",
    "    continue\n",
    "highres_Eis = Eis\n",
    "highres_FWHMs =  fwhms\n",
    "highres_ints = ints\n",
    "highres_labels = labels"
   ]
  },
  {
   "cell_type": "code",
   "execution_count": 20,
   "metadata": {},
   "outputs": [],
   "source": [
    "# highres_labels"
   ]
  },
  {
   "cell_type": "markdown",
   "metadata": {},
   "source": [
    "# Intensity vs FWHM"
   ]
  },
  {
   "cell_type": "code",
   "execution_count": 21,
   "metadata": {},
   "outputs": [
    {
     "data": {
      "text/html": [
       "<iframe id=\"igraph\" scrolling=\"no\" style=\"border:none;\" seamless=\"seamless\" src=\"https://plot.ly/~mcvine/18.embed\" height=\"525px\" width=\"100%\"></iframe>"
      ],
      "text/plain": [
       "<plotly.tools.PlotlyDisplay object>"
      ]
     },
     "execution_count": 21,
     "metadata": {},
     "output_type": "execute_result"
    }
   ],
   "source": [
    "Eis = unique_nominal_Eis #[:10]\n",
    "title='ARCS flux (intensity) vs resolution Version 2 \\nuse dropdown list from left to choose incident energy'\n",
    "data =[]\n",
    "buttons = []\n",
    "all_hidden = [False] * len(Eis) * 3 # FC 1 and 2 and FC 1 HighRes\n",
    "extra_info = dict(\n",
    "    chopper_freqs = ('nu', '%sHz'),\n",
    "    FWHM_percentages = ('Resolution percentage', '%.1f%%'),\n",
    "    RunNumber = ('Run no.', '%d'),\n",
    "    Chopper3 = ('T0 chopper', '%d')\n",
    ")\n",
    "max_res_percentage = 15.\n",
    "plot_opts = dict(extra_info=extra_info, max_res_percentage=max_res_percentage)\n",
    "for i, n_Ei in enumerate(Eis):\n",
    "    plot = fc1data.createPlotXY(n_Ei, 'FWHM', 'intensity', **plot_opts)\n",
    "    plot.visible = False\n",
    "    plot.name = 'ARCS-700-1.5'\n",
    "    data.append(plot)\n",
    "    #\n",
    "    plot = fc2data.createPlotXY(n_Ei, 'FWHM', 'intensity', **plot_opts)\n",
    "    plot.visible = False\n",
    "    plot.name = 'ARCS-100-1.5'\n",
    "    data.append(plot)\n",
    "    # \n",
    "    plot = fc1_highres_data.createPlotXY(n_Ei, 'FWHM', 'intensity', **plot_opts)\n",
    "    plot.visible = False\n",
    "    plot.name = 'ARCS-700-0.5'\n",
    "    data.append(plot)\n",
    "    #\n",
    "    visible = list(all_hidden)\n",
    "    visible[3*i] = True; visible[3*i+1] = True; visible[3*i+2] = True\n",
    "    #\n",
    "    button =  dict(\n",
    "        label = '%smeV' % n_Ei,\n",
    "        method = 'update',\n",
    "        args = [{'visible': visible},\n",
    "                {'title': 'Ei=%smeV %s' % (n_Ei, title),\n",
    "                }])\n",
    "    buttons.append(button)\n",
    "    continue\n",
    "\n",
    "updatemenus = list([\n",
    "    dict(active=-1,\n",
    "         buttons=list(buttons)\n",
    "        )\n",
    "])\n",
    "\n",
    "atEi = Eis.index(100.)\n",
    "data[atEi*3].visible = data[atEi*3+1].visible = data[atEi*3+2].visible = True\n",
    "\n",
    "layout = dict(\n",
    "    title=title, \n",
    "    # showlegend=False, \n",
    "    updatemenus=updatemenus,\n",
    "    xaxis=dict(\n",
    "        title='FWHM (meV)',\n",
    "        showspikes=True,\n",
    "    ),\n",
    "    yaxis=dict(\n",
    "        title='Flux -- Peak area (arb. unit)',\n",
    "        showspikes=True,\n",
    "    ),\n",
    "    hovermode=\"closest\",\n",
    ")\n",
    "fig = dict(data=data, layout=layout)\n",
    "py.iplot(fig, filename='ARCS flux (intensity) vs resolution: Version 2')"
   ]
  },
  {
   "cell_type": "code",
   "execution_count": null,
   "metadata": {},
   "outputs": [],
   "source": []
  },
  {
   "cell_type": "markdown",
   "metadata": {},
   "source": [
    "# Peak height vs FWHM"
   ]
  },
  {
   "cell_type": "code",
   "execution_count": 22,
   "metadata": {},
   "outputs": [
    {
     "data": {
      "text/html": [
       "<iframe id=\"igraph\" scrolling=\"no\" style=\"border:none;\" seamless=\"seamless\" src=\"https://plot.ly/~mcvine/20.embed\" height=\"525px\" width=\"100%\"></iframe>"
      ],
      "text/plain": [
       "<plotly.tools.PlotlyDisplay object>"
      ]
     },
     "execution_count": 22,
     "metadata": {},
     "output_type": "execute_result"
    }
   ],
   "source": [
    "Eis = unique_nominal_Eis #[:10]\n",
    "title='ARCS flux (peak height) vs resolution Version 2\\nuse dropdown list from left to choose incident energy'\n",
    "data =[]\n",
    "buttons = []\n",
    "all_hidden = [False] * len(Eis) * 3 # FC 1 and 2 and FC1-HighRes\n",
    "extra_info = dict(\n",
    "    chopper_freqs = ('nu', '%sHz'),\n",
    "    FWHM_percentages = ('Resolution percentage', '%.1f%%')\n",
    ")\n",
    "max_res_percentage = 15.\n",
    "plot_opts = dict(extra_info=extra_info, max_res_percentage=max_res_percentage)\n",
    "for i, n_Ei in enumerate(Eis):\n",
    "    plot = fc1data.createPlotXY(n_Ei, 'FWHM', 'Height', **plot_opts)\n",
    "    plot.visible = False\n",
    "    plot.name = 'ARCS-700-1.5'\n",
    "    data.append(plot)\n",
    "    #\n",
    "    plot = fc2data.createPlotXY(n_Ei, 'FWHM', 'Height', **plot_opts)\n",
    "    plot.visible = False\n",
    "    plot.name = 'ARCS-100-1.5'\n",
    "    data.append(plot)\n",
    "    #\n",
    "    plot = fc1_highres_data.createPlotXY(n_Ei, 'FWHM', 'Height', **plot_opts)\n",
    "    plot.visible = False\n",
    "    plot.name = 'ARCS-700-0.5'\n",
    "    data.append(plot)\n",
    "    # \n",
    "    visible = list(all_hidden)\n",
    "    visible[3*i] = True; visible[3*i+1] = True; visible[3*i+2] = True\n",
    "    #\n",
    "    button =  dict(\n",
    "        label = '%smeV' % n_Ei,\n",
    "        method = 'update',\n",
    "        args = [{'visible': visible},\n",
    "                {'title': 'Ei=%smeV %s' % (n_Ei, title),\n",
    "                }])\n",
    "    buttons.append(button)\n",
    "    continue\n",
    "\n",
    "updatemenus = list([\n",
    "    dict(active=-1,\n",
    "         buttons=list(buttons)\n",
    "        )\n",
    "])\n",
    "\n",
    "atEi = Eis.index(100.)\n",
    "data[atEi*3].visible = data[atEi*3+1].visible = data[atEi*3+2].visible = True\n",
    "\n",
    "layout = dict(\n",
    "    title=title, \n",
    "    # showlegend=False, \n",
    "    updatemenus=updatemenus,\n",
    "    xaxis=dict(\n",
    "        title='FWHM (meV)',\n",
    "        showspikes=True,\n",
    "    ),\n",
    "    yaxis=dict(\n",
    "        title='Flux -- Peak height (arb. unit)',\n",
    "        showspikes=True,\n",
    "    ),\n",
    "    hovermode=\"closest\",\n",
    ")\n",
    "fig = dict(data=data, layout=layout)\n",
    "py.iplot(fig, filename='ARCS flux (peak height) vs resolution: Version 2')"
   ]
  },
  {
   "cell_type": "markdown",
   "metadata": {},
   "source": [
    "# FWHM vs Freq"
   ]
  },
  {
   "cell_type": "code",
   "execution_count": 23,
   "metadata": {},
   "outputs": [
    {
     "data": {
      "text/html": [
       "<iframe id=\"igraph\" scrolling=\"no\" style=\"border:none;\" seamless=\"seamless\" src=\"https://plot.ly/~mcvine/34.embed\" height=\"525px\" width=\"100%\"></iframe>"
      ],
      "text/plain": [
       "<plotly.tools.PlotlyDisplay object>"
      ]
     },
     "execution_count": 23,
     "metadata": {},
     "output_type": "execute_result"
    }
   ],
   "source": [
    "Eis = unique_nominal_Eis #[:10]\n",
    "title='ARCS resolution vs frequency Version 2 \\nuse dropdown list from left to choose incident energy'\n",
    "data =[]\n",
    "buttons = []\n",
    "all_hidden = [False] * len(Eis) * 3 # FC 1 and 2 and FC 1 HighRes\n",
    "extra_info = dict(\n",
    "    FWHM_percentages = ('Resolution percentage', '%.1f%%'),\n",
    "    RunNumber = ('Run no.', '%d'),\n",
    "    Chopper3 = ('T0 chopper', '%d')\n",
    ")\n",
    "max_res_percentage = 15.\n",
    "plot_opts = dict(extra_info=extra_info, max_res_percentage=max_res_percentage)\n",
    "for i, n_Ei in enumerate(Eis):\n",
    "    plot = fc1data.createPlotXY(n_Ei, 'chopper_freqs', 'FWHM', **plot_opts)\n",
    "    plot.visible = False\n",
    "    plot.name = 'ARCS-100-1.5'\n",
    "    data.append(plot)\n",
    "    #\n",
    "    plot = fc2data.createPlotXY(n_Ei, 'chopper_freqs', 'FWHM', **plot_opts)\n",
    "    plot.visible = False\n",
    "    plot.name = 'ARCS-700-1.5'\n",
    "    data.append(plot)\n",
    "    # \n",
    "    plot = fc1_highres_data.createPlotXY(n_Ei, 'chopper_freqs', 'FWHM', **plot_opts)\n",
    "    plot.visible = False\n",
    "    plot.name = 'ARCS-700-0.5'\n",
    "    data.append(plot)\n",
    "    #\n",
    "    visible = list(all_hidden)\n",
    "    visible[3*i] = True; visible[3*i+1] = True; visible[3*i+2] = True\n",
    "    #\n",
    "    button =  dict(\n",
    "        label = '%smeV' % n_Ei,\n",
    "        method = 'update',\n",
    "        args = [{'visible': visible},\n",
    "                {'title': 'Ei=%smeV %s' % (n_Ei, title),\n",
    "                }])\n",
    "    buttons.append(button)\n",
    "    continue\n",
    "\n",
    "updatemenus = list([\n",
    "    dict(active=-1,\n",
    "         buttons=list(buttons)\n",
    "        )\n",
    "])\n",
    "\n",
    "atEi = Eis.index(100.)\n",
    "data[atEi*3].visible = data[atEi*3+1].visible = data[atEi*3+2].visible = True\n",
    "\n",
    "layout = dict(\n",
    "    title=title, \n",
    "    # showlegend=False, \n",
    "    updatemenus=updatemenus,\n",
    "    xaxis=dict(\n",
    "        title='Chopper Frequency (Hz)',\n",
    "        showspikes=True,\n",
    "    ),\n",
    "    yaxis=dict(\n",
    "        title='FWHM (meV)',\n",
    "        showspikes=True,\n",
    "    ),\n",
    "    hovermode=\"closest\",\n",
    ")\n",
    "fig = dict(data=data, layout=layout)\n",
    "py.iplot(fig, filename='ARCS resolution vs frequency: Version 2')"
   ]
  },
  {
   "cell_type": "markdown",
   "metadata": {},
   "source": [
    "# {} vs Ei"
   ]
  },
  {
   "cell_type": "code",
   "execution_count": 14,
   "metadata": {},
   "outputs": [],
   "source": [
    "import plotly, plotly.plotly as py, plotly.figure_factory as ff, plotly.graph_objs as go"
   ]
  },
  {
   "cell_type": "code",
   "execution_count": 15,
   "metadata": {},
   "outputs": [],
   "source": [
    "# fc1data.vdata.Energy"
   ]
  },
  {
   "cell_type": "code",
   "execution_count": 17,
   "metadata": {},
   "outputs": [],
   "source": [
    "datalist = [\n",
    "    dict(name='ARCS-700-1.5', data=fc1data),\n",
    "    dict(name='ARCS-100-1.5', data=fc2data),\n",
    "    dict(name='ARCS-700-0.5', data=fc1_highres_data),\n",
    "]"
   ]
  },
  {
   "cell_type": "markdown",
   "metadata": {},
   "source": [
    "## Intensity vs Ei"
   ]
  },
  {
   "cell_type": "code",
   "execution_count": 18,
   "metadata": {},
   "outputs": [
    {
     "data": {
      "text/html": [
       "<iframe id=\"igraph\" scrolling=\"no\" style=\"border:none;\" seamless=\"seamless\" src=\"https://plot.ly/~mcvine/28.embed\" height=\"525px\" width=\"100%\"></iframe>"
      ],
      "text/plain": [
       "<plotly.tools.PlotlyDisplay object>"
      ]
     },
     "execution_count": 18,
     "metadata": {},
     "output_type": "execute_result"
    }
   ],
   "source": [
    "data = []\n",
    "\n",
    "for dataitem in datalist:\n",
    "    fcdata = dataitem['data']\n",
    "    name = dataitem['name']\n",
    "    labels = ['%s - %sHz' % (name, freq) for freq in fcdata.chopper_freqs ]\n",
    "    plot = go.Scatter(\n",
    "        x=fcdata.vdata.Ei,\n",
    "        y=fcdata.intensity,\n",
    "        mode='markers',\n",
    "        text=labels,\n",
    "        hoverinfo = 'x + y + text'\n",
    "    )\n",
    "\n",
    "    plot.visible = True\n",
    "    plot.name = name\n",
    "    data.append(plot)\n",
    "    continue\n",
    "\n",
    "plot = go.Scatter(\n",
    "    x=highint_Eis,\n",
    "    y=highint_ints,\n",
    "    mode='markers',\n",
    "    marker=dict(size=10, symbol=\"triangle-up-open\"),\n",
    "    text=highint_labels,\n",
    "    hoverinfo = 'x + y + text'\n",
    ")\n",
    "plot.visible = True\n",
    "plot.name = \"Auto flux settings\"\n",
    "data.append(plot)\n",
    "\n",
    "plot = go.Scatter(\n",
    "    x=highres_Eis,\n",
    "    y=highres_ints,\n",
    "    mode='markers',\n",
    "    marker=dict(size=10, symbol=\"triangle-down-open\"),\n",
    "    text=highres_labels,\n",
    "    hoverinfo = 'x + y + text'\n",
    ")\n",
    "plot.visible = True\n",
    "plot.name = \"Auto resolution settings\"\n",
    "data.append(plot)\n",
    "\n",
    "\n",
    "title = 'Intensity vs Incident Energy'\n",
    "layout = dict(\n",
    "    title=title, \n",
    "    # showlegend=False, \n",
    "    # updatemenus=updatemenus,\n",
    "    xaxis=dict(\n",
    "        type='log',\n",
    "        title='Ei (meV)',\n",
    "        showspikes=True,\n",
    "    ),\n",
    "    yaxis=dict(\n",
    "        title='Flux -- Intensity (arb. unit)',\n",
    "        showspikes=True,\n",
    "    ),\n",
    "    hovermode=\"closest\",\n",
    ")\n",
    "fig = dict(data=data, layout=layout)\n",
    "py.iplot(fig, filename='ARCS flux (intensity) vs Ei')"
   ]
  },
  {
   "cell_type": "markdown",
   "metadata": {},
   "source": [
    "## FWHM vs Ei"
   ]
  },
  {
   "cell_type": "code",
   "execution_count": 19,
   "metadata": {},
   "outputs": [
    {
     "data": {
      "text/html": [
       "<iframe id=\"igraph\" scrolling=\"no\" style=\"border:none;\" seamless=\"seamless\" src=\"https://plot.ly/~mcvine/30.embed\" height=\"525px\" width=\"100%\"></iframe>"
      ],
      "text/plain": [
       "<plotly.tools.PlotlyDisplay object>"
      ]
     },
     "execution_count": 19,
     "metadata": {},
     "output_type": "execute_result"
    }
   ],
   "source": [
    "data = []\n",
    "\n",
    "for dataitem in datalist:\n",
    "    fcdata = dataitem['data']\n",
    "    name = dataitem['name']\n",
    "    labels = ['%s - %sHz' % (name, freq) for freq in fcdata.chopper_freqs ]\n",
    "    plot = go.Scatter(\n",
    "        x=fcdata.vdata.Ei,\n",
    "        y=fcdata.FWHM,\n",
    "        mode='markers',\n",
    "        text=labels,\n",
    "        hoverinfo = 'x + y + text'\n",
    "    )\n",
    "\n",
    "    plot.visible = True\n",
    "    plot.name = name\n",
    "    data.append(plot)\n",
    "    continue\n",
    "\n",
    "plot = go.Scatter(\n",
    "    x=highint_Eis,\n",
    "    y=highint_FWHMs,\n",
    "    mode='markers',\n",
    "    marker=dict(size=10, symbol=\"triangle-up-open\"),\n",
    "    text=highint_labels,\n",
    "    hoverinfo = 'x + y + text'\n",
    ")\n",
    "plot.visible = True\n",
    "plot.name = \"Auto flux settings\"\n",
    "data.append(plot)\n",
    "\n",
    "plot = go.Scatter(\n",
    "    x=highres_Eis,\n",
    "    y=highres_FWHMs,\n",
    "    mode='markers',\n",
    "    marker=dict(size=10, symbol=\"triangle-down-open\"),\n",
    "    text=highres_labels,\n",
    "    hoverinfo = 'x + y + text'\n",
    ")\n",
    "plot.visible = True\n",
    "plot.name = \"Auto resolution settings\"\n",
    "data.append(plot)\n",
    "\n",
    "title = 'FWHM vs Incident Energy'\n",
    "layout = dict(\n",
    "    title=title, \n",
    "    # showlegend=False, \n",
    "    # updatemenus=updatemenus,\n",
    "    xaxis=dict(\n",
    "        type='log',\n",
    "        title='Ei (meV)',\n",
    "        showspikes=True,\n",
    "    ),\n",
    "    yaxis=dict(\n",
    "        type='log',\n",
    "        title='FWHM (meV)',\n",
    "        showspikes=True,\n",
    "    ),\n",
    "    hovermode=\"closest\",\n",
    ")\n",
    "fig = dict(data=data, layout=layout)\n",
    "py.iplot(fig, filename='ARCS resolution (FWHM) vs Ei')"
   ]
  },
  {
   "cell_type": "code",
   "execution_count": null,
   "metadata": {},
   "outputs": [],
   "source": []
  },
  {
   "cell_type": "markdown",
   "metadata": {},
   "source": [
    "## Peak Height vs Ei"
   ]
  },
  {
   "cell_type": "code",
   "execution_count": 20,
   "metadata": {},
   "outputs": [
    {
     "data": {
      "text/html": [
       "<iframe id=\"igraph\" scrolling=\"no\" style=\"border:none;\" seamless=\"seamless\" src=\"https://plot.ly/~mcvine/32.embed\" height=\"525px\" width=\"100%\"></iframe>"
      ],
      "text/plain": [
       "<plotly.tools.PlotlyDisplay object>"
      ]
     },
     "execution_count": 20,
     "metadata": {},
     "output_type": "execute_result"
    }
   ],
   "source": [
    "data = []\n",
    "\n",
    "for dataitem in datalist:\n",
    "    fcdata = dataitem['data']\n",
    "    name = dataitem['name']\n",
    "    labels = ['%s - %sHz' % (name, freq) for freq in fcdata.chopper_freqs ]\n",
    "    plot = go.Scatter(\n",
    "        x=fcdata.vdata.Ei,\n",
    "        y=fcdata.vdata.Height,\n",
    "        mode='markers',\n",
    "        text=labels,\n",
    "        hoverinfo = 'x + y + text'\n",
    "    )\n",
    "\n",
    "    plot.visible = True\n",
    "    plot.name = name\n",
    "    data.append(plot)\n",
    "    continue\n",
    "\n",
    "title = 'Flux (peak height) vs Incident Energy'\n",
    "layout = dict(\n",
    "    title=title, \n",
    "    # showlegend=False, \n",
    "    # updatemenus=updatemenus,\n",
    "    xaxis=dict(\n",
    "        type='log',\n",
    "        title='Ei (meV)',\n",
    "        showspikes=True,\n",
    "    ),\n",
    "    yaxis=dict(\n",
    "        # type='log',\n",
    "        title='Flux -- Peak height (arb unit)',\n",
    "        showspikes=True,\n",
    "    ),\n",
    "    hovermode=\"closest\",\n",
    ")\n",
    "fig = dict(data=data, layout=layout)\n",
    "py.iplot(fig, filename='ARCS flux (peak height) vs Ei')"
   ]
  },
  {
   "cell_type": "code",
   "execution_count": null,
   "metadata": {},
   "outputs": [],
   "source": []
  }
 ],
 "metadata": {
  "kernelspec": {
   "display_name": "DGS-powder at jnrk-sns-analysis",
   "language": "python",
   "name": "jnrk-sns-analysis-dgs-powder"
  },
  "language_info": {
   "codemirror_mode": {
    "name": "ipython",
    "version": 2
   },
   "file_extension": ".py",
   "mimetype": "text/x-python",
   "name": "python",
   "nbconvert_exporter": "python",
   "pygments_lexer": "ipython2",
   "version": "2.7.14"
  },
  "toc": {
   "base_numbering": 1,
   "nav_menu": {},
   "number_sections": true,
   "sideBar": true,
   "skip_h1_title": false,
   "title_cell": "Table of Contents",
   "title_sidebar": "Contents",
   "toc_cell": false,
   "toc_position": {},
   "toc_section_display": true,
   "toc_window_display": true
  }
 },
 "nbformat": 4,
 "nbformat_minor": 1
}
