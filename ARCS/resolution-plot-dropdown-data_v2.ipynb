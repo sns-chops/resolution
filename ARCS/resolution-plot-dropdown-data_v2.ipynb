{
 "cells": [
  {
   "cell_type": "code",
   "execution_count": 2,
   "metadata": {},
   "outputs": [
    {
     "name": "stdout",
     "output_type": "stream",
     "text": [
      "/SNS/users/lj7/dv/sns-chops/resolution/ARCS\n"
     ]
    }
   ],
   "source": [
    "%cd ~/dv/sns-chops/resolution/ARCS/\n",
    "import os, numpy as np"
   ]
  },
  {
   "cell_type": "code",
   "execution_count": 3,
   "metadata": {},
   "outputs": [],
   "source": [
    "import pandas as pd\n",
    "import numpy as np\n",
    "import scipy as sp\n",
    "import plotly.plotly as py"
   ]
  },
  {
   "cell_type": "code",
   "execution_count": 4,
   "metadata": {},
   "outputs": [],
   "source": [
    "import plotly"
   ]
  },
  {
   "cell_type": "code",
   "execution_count": 5,
   "metadata": {},
   "outputs": [],
   "source": [
    "import plotly.figure_factory as ff"
   ]
  },
  {
   "cell_type": "code",
   "execution_count": 32,
   "metadata": {},
   "outputs": [
    {
     "data": {
      "text/plain": [
       "<module 'resolution_plot' from 'resolution_plot.py'>"
      ]
     },
     "execution_count": 32,
     "metadata": {},
     "output_type": "execute_result"
    }
   ],
   "source": [
    "import resolution_plot\n",
    "reload(resolution_plot)"
   ]
  },
  {
   "cell_type": "code",
   "execution_count": 33,
   "metadata": {},
   "outputs": [
    {
     "name": "stdout",
     "output_type": "stream",
     "text": [
      "reading data. please wait...\n",
      "  done\n"
     ]
    }
   ],
   "source": [
    "fc1data = resolution_plot.ExpData('./V_Cali_Int_Res_FC1_2018_v2.dat')"
   ]
  },
  {
   "cell_type": "code",
   "execution_count": 34,
   "metadata": {},
   "outputs": [
    {
     "name": "stdout",
     "output_type": "stream",
     "text": [
      "reading data. please wait...\n",
      "  done\n"
     ]
    }
   ],
   "source": [
    "fc2data = resolution_plot.ExpData('./V_Cali_Int_Res_FC2_2018_v2.dat')"
   ]
  },
  {
   "cell_type": "code",
   "execution_count": 35,
   "metadata": {},
   "outputs": [
    {
     "name": "stdout",
     "output_type": "stream",
     "text": [
      "reading data. please wait...\n",
      "  done\n"
     ]
    }
   ],
   "source": [
    "fc1_highres_data = resolution_plot.ExpData('./V_Cali_Int_Res_FC1_HighRes_2018_v2.dat')"
   ]
  },
  {
   "cell_type": "code",
   "execution_count": 36,
   "metadata": {},
   "outputs": [],
   "source": [
    "unique_nominal_Eis = set( list(fc1data.Ei_list) + list(fc2data.Ei_list) + list(fc1_highres_data.Ei_list) )"
   ]
  },
  {
   "cell_type": "code",
   "execution_count": 37,
   "metadata": {},
   "outputs": [],
   "source": [
    "unique_nominal_Eis = sorted(list(unique_nominal_Eis))"
   ]
  },
  {
   "cell_type": "markdown",
   "metadata": {},
   "source": [
    "# Intensity vs FWHM"
   ]
  },
  {
   "cell_type": "code",
   "execution_count": 38,
   "metadata": {},
   "outputs": [
    {
     "data": {
      "text/html": [
       "<iframe id=\"igraph\" scrolling=\"no\" style=\"border:none;\" seamless=\"seamless\" src=\"https://plot.ly/~mcvine/18.embed\" height=\"525px\" width=\"100%\"></iframe>"
      ],
      "text/plain": [
       "<plotly.tools.PlotlyDisplay object>"
      ]
     },
     "execution_count": 38,
     "metadata": {},
     "output_type": "execute_result"
    }
   ],
   "source": [
    "Eis = unique_nominal_Eis #[:10]\n",
    "title='ARCS flux (intensity) vs resolution Version 2 \\nuse dropdown list from left to choose incident energy'\n",
    "data =[]\n",
    "buttons = []\n",
    "all_hidden = [False] * len(Eis) * 3 # FC 1 and 2 and FC 1 HighRes\n",
    "extra_info = dict(\n",
    "    chopper_freqs = ('nu', '%sHz')\n",
    ")\n",
    "for i, n_Ei in enumerate(Eis):\n",
    "    plot = fc1data.createPlotXY(n_Ei, 'FWHM', 'intensity', extra_info=extra_info)\n",
    "    plot.visible = False\n",
    "    plot.name = 'chopper1'\n",
    "    data.append(plot)\n",
    "    #\n",
    "    plot = fc2data.createPlotXY(n_Ei, 'FWHM', 'intensity', extra_info=extra_info)\n",
    "    plot.visible = False\n",
    "    plot.name = 'chopper2'\n",
    "    data.append(plot)\n",
    "    # \n",
    "    plot = fc1_highres_data.createPlotXY(n_Ei, 'FWHM', 'intensity', extra_info=extra_info)\n",
    "    plot.visible = False\n",
    "    plot.name = 'chopper1-HighRes'\n",
    "    data.append(plot)\n",
    "    #\n",
    "    visible = list(all_hidden)\n",
    "    visible[3*i] = True; visible[3*i+1] = True; visible[3*i+2] = True\n",
    "    #\n",
    "    button =  dict(\n",
    "        label = '%smeV' % n_Ei,\n",
    "        method = 'update',\n",
    "        args = [{'visible': visible},\n",
    "                {'title': 'Ei=%smeV %s' % (n_Ei, title),\n",
    "                }])\n",
    "    buttons.append(button)\n",
    "    continue\n",
    "\n",
    "updatemenus = list([\n",
    "    dict(active=-1,\n",
    "         buttons=list(buttons)\n",
    "        )\n",
    "])\n",
    "\n",
    "atEi = Eis.index(100.)\n",
    "data[atEi*3].visible = data[atEi*3+1].visible = data[atEi*3+2].visible = True\n",
    "\n",
    "layout = dict(\n",
    "    title=title, \n",
    "    # showlegend=False, \n",
    "    updatemenus=updatemenus,\n",
    "    xaxis=dict(\n",
    "        title='FWHM (meV)',\n",
    "    ),\n",
    "    yaxis=dict(\n",
    "        title='Flux -- Peak area (arb. unit)',\n",
    "    )\n",
    ")\n",
    "fig = dict(data=data, layout=layout)\n",
    "py.iplot(fig, filename='ARCS flux (intensity) vs resolution: Version 2')"
   ]
  },
  {
   "cell_type": "code",
   "execution_count": null,
   "metadata": {},
   "outputs": [],
   "source": []
  },
  {
   "cell_type": "markdown",
   "metadata": {},
   "source": [
    "# Peak height vs FWHM"
   ]
  },
  {
   "cell_type": "code",
   "execution_count": 39,
   "metadata": {},
   "outputs": [
    {
     "data": {
      "text/html": [
       "<iframe id=\"igraph\" scrolling=\"no\" style=\"border:none;\" seamless=\"seamless\" src=\"https://plot.ly/~mcvine/20.embed\" height=\"525px\" width=\"100%\"></iframe>"
      ],
      "text/plain": [
       "<plotly.tools.PlotlyDisplay object>"
      ]
     },
     "execution_count": 39,
     "metadata": {},
     "output_type": "execute_result"
    }
   ],
   "source": [
    "Eis = unique_nominal_Eis #[:10]\n",
    "title='ARCS flux (peak height) vs resolution Version 2 (use dropdown list from left to choose incident energy)'\n",
    "data =[]\n",
    "buttons = []\n",
    "all_hidden = [False] * len(Eis) * 3 # FC 1 and 2 and FC1-HighRes\n",
    "extra_info = dict(\n",
    "    chopper_freqs = ('nu', '%sHz')\n",
    ")\n",
    "for i, n_Ei in enumerate(Eis):\n",
    "    plot = fc1data.createPlotXY(n_Ei, 'FWHM', 'Height', extra_info=extra_info)\n",
    "    plot.visible = False\n",
    "    plot.name = 'chopper1'\n",
    "    data.append(plot)\n",
    "    #\n",
    "    plot = fc2data.createPlotXY(n_Ei, 'FWHM', 'Height', extra_info=extra_info)\n",
    "    plot.visible = False\n",
    "    plot.name = 'chopper2'\n",
    "    data.append(plot)\n",
    "    #\n",
    "    plot = fc1_highres_data.createPlotXY(n_Ei, 'FWHM', 'Height', extra_info=extra_info)\n",
    "    plot.visible = False\n",
    "    plot.name = 'chopper1-HighRes'\n",
    "    data.append(plot)\n",
    "    # \n",
    "    visible = list(all_hidden)\n",
    "    visible[3*i] = True; visible[3*i+1] = True; visible[3*i+2] = True\n",
    "    #\n",
    "    button =  dict(\n",
    "        label = '%smeV' % n_Ei,\n",
    "        method = 'update',\n",
    "        args = [{'visible': visible},\n",
    "                {'title': 'Ei=%smeV %s' % (n_Ei, title),\n",
    "                }])\n",
    "    buttons.append(button)\n",
    "    continue\n",
    "\n",
    "updatemenus = list([\n",
    "    dict(active=-1,\n",
    "         buttons=list(buttons)\n",
    "        )\n",
    "])\n",
    "\n",
    "atEi = Eis.index(100.)\n",
    "data[atEi*3].visible = data[atEi*3+1].visible = data[atEi*3+2].visible = True\n",
    "\n",
    "layout = dict(\n",
    "    title=title, \n",
    "    # showlegend=False, \n",
    "    updatemenus=updatemenus,\n",
    "    xaxis=dict(\n",
    "        title='FWHM (meV)',\n",
    "    ),\n",
    "    yaxis=dict(\n",
    "        title='Flux -- Peak height (arb. unit)',\n",
    "    )\n",
    ")\n",
    "fig = dict(data=data, layout=layout)\n",
    "py.iplot(fig, filename='ARCS flux (peak height) vs resolution: Version 2')"
   ]
  },
  {
   "cell_type": "code",
   "execution_count": null,
   "metadata": {},
   "outputs": [],
   "source": []
  }
 ],
 "metadata": {
  "kernelspec": {
   "display_name": "DGS-powder at jnrk-sns-analysis",
   "language": "python",
   "name": "jnrk-sns-analysis-dgs-powder"
  },
  "language_info": {
   "codemirror_mode": {
    "name": "ipython",
    "version": 2
   },
   "file_extension": ".py",
   "mimetype": "text/x-python",
   "name": "python",
   "nbconvert_exporter": "python",
   "pygments_lexer": "ipython2",
   "version": "2.7.14"
  },
  "toc": {
   "base_numbering": 1,
   "nav_menu": {},
   "number_sections": true,
   "sideBar": true,
   "skip_h1_title": false,
   "title_cell": "Table of Contents",
   "title_sidebar": "Contents",
   "toc_cell": false,
   "toc_position": {},
   "toc_section_display": true,
   "toc_window_display": false
  }
 },
 "nbformat": 4,
 "nbformat_minor": 1
}
