{
 "cells": [
  {
   "cell_type": "code",
   "execution_count": 1,
   "metadata": {},
   "outputs": [
    {
     "name": "stdout",
     "output_type": "stream",
     "text": [
      "/SNS/users/lj7/dv/sns-chops/resolution/CNCS/mcvine\n"
     ]
    }
   ],
   "source": [
    "workdir = '~/dv/sns-chops/resolution/CNCS/mcvine'\n",
    "!mkdir -p {workdir}\n",
    "%cd {workdir}"
   ]
  },
  {
   "cell_type": "code",
   "execution_count": 2,
   "metadata": {},
   "outputs": [
    {
     "name": "stderr",
     "output_type": "stream",
     "text": [
      "/SNS/software/miniconda2/envs/mcvine-unstable/lib/python2.7/site-packages/h5py/__init__.py:36: FutureWarning: Conversion of the second argument of issubdtype from `float` to `np.floating` is deprecated. In future, it will be treated as `np.float64 == np.dtype(float).type`.\n",
      "  from ._conv import register_converters as _register_converters\n",
      "/SNS/software/miniconda2/envs/mcvine-unstable/lib/python2.7/site-packages/mantid/kernel/__init__.py:17: RuntimeWarning: to-Python converter for std::vector<int, std::allocator<int> > already registered; second conversion method ignored.\n",
      "  from ._kernel import *\n",
      "/SNS/software/miniconda2/envs/mcvine-unstable/lib/python2.7/site-packages/mantid/kernel/__init__.py:17: RuntimeWarning: to-Python converter for std::vector<double, std::allocator<double> > already registered; second conversion method ignored.\n",
      "  from ._kernel import *\n"
     ]
    }
   ],
   "source": [
    "import numpy as np, os, sys, glob\n",
    "from matplotlib import pyplot as plt\n",
    "\n",
    "import histogram.hdf as hh, histogram as H\n",
    "import mcvine, mcvine.components\n",
    "from mcni.utils import conversion as C\n",
    "\n",
    "from matplotlib import pyplot as plt\n",
    "%matplotlib notebook\n",
    "\n",
    "import mcvine, mcvine.components as mcomps\n",
    "from mcvine import run_script\n",
    "\n",
    "from mantid import simpleapi as msa"
   ]
  },
  {
   "cell_type": "code",
   "execution_count": 7,
   "metadata": {},
   "outputs": [],
   "source": [
    "instrument = mcvine.instrument()\n",
    "\n",
    "src = mcvine.components.sources.SNS_source_analytic(\n",
    "    name='moderator',\n",
    "    xwidth=0.1, yheight=0.12, dist=1.000,\n",
    "    focus_xw=0.06, focus_yh=0.14,\n",
    "    Emin=0.95, Emax=1.05,  sample_E=1, # need this, otherwise the full energy range will be used                                                                                                                                       \n",
    "    p_power = 1.4,\n",
    "    filename='./SNS_IRP2_TD_BL5_30o70p_fit_fit.dat',\n",
    "    )\n",
    "instrument.append(src, position=(0,0,0))\n",
    "\n",
    "emon = mcvine.components.monitors.E_monitor(\n",
    "    'emon', nchan=100, Emin=0.9, Emax=1.1, xwidth=0.1, yheight=0.1, filename='emon.dat')\n",
    "instrument.append(emon, position=(0,0,1.))"
   ]
  },
  {
   "cell_type": "code",
   "execution_count": 8,
   "metadata": {},
   "outputs": [
    {
     "name": "stdout",
     "output_type": "stream",
     "text": [
      "CPU times: user 708 ms, sys: 106 ms, total: 814 ms\n",
      "Wall time: 816 ms\n"
     ]
    }
   ],
   "source": [
    "%%time\n",
    "# quick sim\n",
    "neutrons = instrument.simulate(\n",
    "    int(1e5),outputdir=\"out-test-SNS-analytic\", overwrite_datafiles=True, iteration_no=0)"
   ]
  },
  {
   "cell_type": "code",
   "execution_count": 9,
   "metadata": {},
   "outputs": [
    {
     "data": {
      "text/plain": [
       "[<matplotlib.lines.Line2D at 0x7fc3839e7090>]"
      ]
     },
     "execution_count": 9,
     "metadata": {},
     "output_type": "execute_result"
    },
    {
     "data": {
      "image/png": "[encoded data removed]",
      "text/plain": [
       "<matplotlib.figure.Figure at 0x7fc386164490>"
      ]
     },
     "metadata": {
      "needs_background": "light"
     },
     "output_type": "display_data"
    }
   ],
   "source": [
    "plt.figure()\n",
    "ie = hh.load('./out-test-SNS-analytic/step0/emon.h5')\n",
    "plt.plot(ie.energy, ie.I)"
   ]
  },
  {
   "cell_type": "code",
   "execution_count": null,
   "metadata": {},
   "outputs": [],
   "source": []
  }
 ],
 "metadata": {
  "kernelspec": {
   "display_name": "mcvine-unstable at jnrk-sns-analysis",
   "language": "python",
   "name": "jnrk-analysis-mcvine-unstable"
  },
  "language_info": {
   "codemirror_mode": {
    "name": "ipython",
    "version": 2
   },
   "file_extension": ".py",
   "mimetype": "text/x-python",
   "name": "python",
   "nbconvert_exporter": "python",
   "pygments_lexer": "ipython2",
   "version": "2.7.12"
  },
  "toc": {
   "base_numbering": 1,
   "nav_menu": {},
   "number_sections": true,
   "sideBar": true,
   "skip_h1_title": false,
   "title_cell": "Table of Contents",
   "title_sidebar": "Contents",
   "toc_cell": false,
   "toc_position": {},
   "toc_section_display": true,
   "toc_window_display": true
  }
 },
 "nbformat": 4,
 "nbformat_minor": 2
}
